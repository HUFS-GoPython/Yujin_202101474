{
 "cells": [
  {
   "cell_type": "markdown",
   "id": "f486a155-5c16-45c6-8319-bc52f13eee84",
   "metadata": {},
   "source": [
    "# Project 3\n",
    "- Store, Item, Customer\n",
    "- 서로 상호작용을 하지만 상속하는, 받는 관계는 아님"
   ]
  },
  {
   "cell_type": "code",
   "execution_count": null,
   "id": "372e486f-3381-4f8f-9867-a30d9be05df2",
   "metadata": {},
   "outputs": [],
   "source": [
    "class Customer(Person): # is-a 관계\n",
    "    pass\n",
    "\n",
    "\n",
    "class Store:\n",
    "    def __init__(customer):\n",
    "        self.customer = customer # Customer 타입; has-a 관계\n",
    "        self.item = item # Item 객체를 받음\n",
    "        self.item_list = (self.item.name, self.item.price) # 딕셔너리로 가져갈 것은 아님\n",
    "        \n",
    "        \n",
    "class Item:\n",
    "    name\n",
    "    cnt\n",
    "    price\n",
    "    \n",
    "    pass\n",
    "\n",
    "\n",
    "class Seller:\n",
    "    pass"
   ]
  },
  {
   "cell_type": "markdown",
   "id": "024b3487-f18d-4b8a-b7cd-3cf2f7ee7dca",
   "metadata": {},
   "source": [
    "---"
   ]
  },
  {
   "cell_type": "markdown",
   "id": "5531c77c-72ef-4249-98fb-08e225777e74",
   "metadata": {},
   "source": [
    "# 1. 매직 메소드\n",
    "- special method\n",
    "- 던더로 시작해서 던더로 끝나는 형식\n",
    "- __<name>__\n",
    "- __str__, __repr__"
   ]
  },
  {
   "cell_type": "code",
   "execution_count": 4,
   "id": "a9fa42fe-7c5c-4a45-9985-beaccc625b0f",
   "metadata": {},
   "outputs": [],
   "source": [
    "class Customer: # object\n",
    "    def __init__(self, name):\n",
    "        self.name = name\n",
    "        \n",
    "c = Customer('kim')"
   ]
  },
  {
   "cell_type": "code",
   "execution_count": 5,
   "id": "2c2b26c8-9bd5-457a-b4dd-9b9c71bbcae7",
   "metadata": {},
   "outputs": [
    {
     "name": "stdout",
     "output_type": "stream",
     "text": [
      "<__main__.Customer object at 0x000002742500F9A0>\n"
     ]
    }
   ],
   "source": [
    "print(c)"
   ]
  },
  {
   "cell_type": "code",
   "execution_count": 6,
   "id": "ea449a06-ab89-49cd-8e7e-2263f7a38662",
   "metadata": {},
   "outputs": [
    {
     "data": {
      "text/plain": [
       "<__main__.Customer at 0x2742500f9a0>"
      ]
     },
     "execution_count": 6,
     "metadata": {},
     "output_type": "execute_result"
    }
   ],
   "source": [
    "c"
   ]
  },
  {
   "cell_type": "markdown",
   "id": "ad60f1f4-5419-4542-96a4-3688a1194f6e",
   "metadata": {},
   "source": [
    "**위의 출력형식이 맘에 안 들 때**\n",
    "- str, repr을 오버라이딩"
   ]
  },
  {
   "cell_type": "code",
   "execution_count": 7,
   "id": "e91087b8-165d-4716-b2ae-048c5d29fc3c",
   "metadata": {},
   "outputs": [],
   "source": [
    "class Customer: # 모든 클래스는 object를 상속받고 있음, 당연하기 때문에 쓰지 않음\n",
    "    def __init__(self, name):\n",
    "        self.name = name\n",
    "    \n",
    "    def __str__(self):\n",
    "        # print()로 나온 출력값을 변경하는 것\n",
    "        return self.name\n",
    "    \n",
    "    def __repr__(self):\n",
    "        # 객체 출력값을 변경하는 것\n",
    "        # 설정을 하지 않으면 __str__과 동일\n",
    "        # 인스턴스를 출력하는 방식 => 사용자가 이해하는 객체의 모습을 표현\n",
    "        return f'Customer({self.name})' # Customer(객체이름) 형식으로 출력\n",
    "    \n",
    "c = Customer('kim')"
   ]
  },
  {
   "cell_type": "code",
   "execution_count": 8,
   "id": "3dd875c5-f83d-4057-89f9-953b8f5fc8c6",
   "metadata": {},
   "outputs": [
    {
     "data": {
      "text/plain": [
       "Customer(kim)"
      ]
     },
     "execution_count": 8,
     "metadata": {},
     "output_type": "execute_result"
    }
   ],
   "source": [
    "c"
   ]
  },
  {
   "cell_type": "code",
   "execution_count": 9,
   "id": "ef41012d-d1ce-4b80-82de-052813819a67",
   "metadata": {},
   "outputs": [
    {
     "data": {
      "text/plain": [
       "'Customer(kim)'"
      ]
     },
     "execution_count": 9,
     "metadata": {},
     "output_type": "execute_result"
    }
   ],
   "source": [
    "repr(c)"
   ]
  },
  {
   "cell_type": "code",
   "execution_count": 10,
   "id": "e1e12fbf-89e7-49b9-b68c-d6ae823ddfe3",
   "metadata": {},
   "outputs": [
    {
     "data": {
      "text/plain": [
       "'kim'"
      ]
     },
     "execution_count": 10,
     "metadata": {},
     "output_type": "execute_result"
    }
   ],
   "source": [
    "str(c)"
   ]
  },
  {
   "cell_type": "markdown",
   "id": "227ae3b3-a6c4-49da-97a1-fa60bb20d812",
   "metadata": {},
   "source": [
    "---"
   ]
  },
  {
   "cell_type": "markdown",
   "id": "84c4dba2-be4e-43a4-b218-f34a2c275d17",
   "metadata": {},
   "source": [
    "# 2. NamedTuple, DataClass\n",
    "- 객체보다 효율적임 (간단한 속성만 가진 클래스일 경우 활용)\n",
    "- 딕셔너리의 키처럼 사용 가능\n",
    "- 불변객체\n",
    "- 형식 : ('클래스 명', '들어갈 변수') 변수는 공백으로 구분  \n",
    "- DataClass는 파이썬 3.7이상에서만 가능"
   ]
  },
  {
   "cell_type": "code",
   "execution_count": 14,
   "id": "f4e84f7b-61d3-44af-88bb-fa405c3c993b",
   "metadata": {},
   "outputs": [
    {
     "data": {
      "text/plain": [
       "('lee', 44)"
      ]
     },
     "execution_count": 14,
     "metadata": {},
     "output_type": "execute_result"
    }
   ],
   "source": [
    "from collections import namedtuple\n",
    "\n",
    "Customer = namedtuple('Customer', 'name age') \n",
    "\n",
    "a = Customer('lee', 44)\n",
    "a.name, a.age"
   ]
  },
  {
   "cell_type": "code",
   "execution_count": 15,
   "id": "2a80663d-9269-4640-9780-80c5ff82b6af",
   "metadata": {},
   "outputs": [
    {
     "data": {
      "text/plain": [
       "('hong', 88)"
      ]
     },
     "execution_count": 15,
     "metadata": {},
     "output_type": "execute_result"
    }
   ],
   "source": [
    "from dataclasses import dataclass\n",
    "\n",
    "@dataclass\n",
    "class Customer2:\n",
    "    name: str\n",
    "    age: int\n",
    "    \n",
    "b = Customer2('hong', 88)\n",
    "b.name, b.age"
   ]
  },
  {
   "cell_type": "markdown",
   "id": "65c52912-686f-4331-9f3d-760c55d5fa50",
   "metadata": {},
   "source": [
    "---"
   ]
  },
  {
   "cell_type": "markdown",
   "id": "83a98cfe-ad0b-46fc-8904-97e85a3535fd",
   "metadata": {},
   "source": [
    "# 3. 함수 II\n",
    "1. *, ** asterisk: *\n",
    "2. 일급객체\n",
    "3. 내부함수, 클로저\n",
    "4. 익명함수\n",
    "5. 제너레이터\n",
    "6. 재귀함수"
   ]
  },
  {
   "cell_type": "markdown",
   "id": "f15fff42-e751-4e8f-86d5-0eb9b1c46260",
   "metadata": {},
   "source": [
    "## (1) asterisk: *\n",
    "- 여러 개의 인자가 들어왔을 때 하나로 묶어주는 역할(패킹)\n",
    "- print에 썼을 때는 언패킹\n",
    "- 무한대로 받을 수 있음"
   ]
  },
  {
   "cell_type": "code",
   "execution_count": 16,
   "id": "eea567a2-b966-4676-a1c0-a4f43908878b",
   "metadata": {},
   "outputs": [
    {
     "name": "stdout",
     "output_type": "stream",
     "text": [
      "(1, 2, 3, 4, 5, 6)\n"
     ]
    }
   ],
   "source": [
    "def print_arg(*args):\n",
    "    print(args)\n",
    "    \n",
    "print_arg(1, 2, 3, 4, 5, 6)"
   ]
  },
  {
   "cell_type": "code",
   "execution_count": 17,
   "id": "a32d5be2-5932-47a5-bd7b-023e3f5091c5",
   "metadata": {},
   "outputs": [
    {
     "name": "stdout",
     "output_type": "stream",
     "text": [
      "1 2 3 4 5 6\n"
     ]
    }
   ],
   "source": [
    "def print_arg(*args):\n",
    "    print(*args) # 각각이 다르게 인식, 언패킹된 것\n",
    "    \n",
    "print_arg(1, 2, 3, 4, 5, 6)"
   ]
  },
  {
   "cell_type": "code",
   "execution_count": 20,
   "id": "19a56632-cccd-4de0-8545-9519b2d79a3d",
   "metadata": {},
   "outputs": [
    {
     "name": "stdout",
     "output_type": "stream",
     "text": [
      "1 2\n",
      "hi hello optional\n",
      "1 2\n",
      "optional\n"
     ]
    }
   ],
   "source": [
    "def print_more(num1, num2, *args): # 앞의 두 인수는 꼭 있어야 하는 것, 나머지는 선택\n",
    "    print(num1, num2)\n",
    "    print(*args, 'optional')\n",
    "    \n",
    "print_more(1, 2, 'hi', 'hello') \n",
    "\n",
    "print_more(1, 2) # 없어도 가능, 이렇게 옵션일 때 활용"
   ]
  },
  {
   "cell_type": "code",
   "execution_count": 21,
   "id": "d1108867-8cc0-4f90-b712-ac267996222e",
   "metadata": {},
   "outputs": [
    {
     "name": "stdout",
     "output_type": "stream",
     "text": [
      "0 1 2 3 4 5 6 7 8 9\n"
     ]
    }
   ],
   "source": [
    "# 함수 밖에서도 활용가능\n",
    "empty = list(range(10))\n",
    "print(*empty) # 리스트로 반환이 되는 것이 아니라, 언패킹 돼서 출력"
   ]
  },
  {
   "cell_type": "code",
   "execution_count": 23,
   "id": "0405ae90-caa8-475d-8a34-9ce68980e363",
   "metadata": {},
   "outputs": [
    {
     "name": "stdout",
     "output_type": "stream",
     "text": [
      "(1, 3, 5)\n",
      "(2, 4, 6)\n"
     ]
    }
   ],
   "source": [
    "# 행렬, 테이블 데이터\n",
    "matrix = [\n",
    "    [1, 2],\n",
    "    [3, 4],\n",
    "    [5, 6]\n",
    "]\n",
    "\n",
    "# 1, 3, 5 / 2, 4, 6 (열만 타고 싶을 때)\n",
    "for item in zip(*matrix): # 각각의 첫번째와 두번째를 탐\n",
    "    print(item)"
   ]
  },
  {
   "cell_type": "code",
   "execution_count": 24,
   "id": "29932527-e21c-4d55-ac5f-1259247812b3",
   "metadata": {},
   "outputs": [
    {
     "name": "stdout",
     "output_type": "stream",
     "text": [
      "(1, 3, 5)\n",
      "(2, 4, 6)\n"
     ]
    }
   ],
   "source": [
    "# 위와 같은 코드\n",
    "for item in zip([1, 2], [3, 4], [5, 6]):\n",
    "    print(item)"
   ]
  },
  {
   "cell_type": "code",
   "execution_count": 25,
   "id": "2daef5c1-998c-49ed-998f-e97786464dcb",
   "metadata": {},
   "outputs": [
    {
     "name": "stdout",
     "output_type": "stream",
     "text": [
      "0\n",
      "1\n",
      "2\n",
      "3\n"
     ]
    }
   ],
   "source": [
    "# 키워드 전용 인수 선언 시 사용\n",
    "\n",
    "# start와 end는 꼭 키워드로 받고 싶은 경우\n",
    "# 앞에 '*'을 추가\n",
    "def print_data(data, *, start, end): \n",
    "    for item in data[start:end]:\n",
    "        print(item)\n",
    "        \n",
    "print_data(empty, start=0, end=4) \n",
    "# print_data(empty, 0, 1) # 이렇게 하면 오류"
   ]
  },
  {
   "cell_type": "markdown",
   "id": "8c99a09a-f4ca-4d34-934c-e9c25518259b",
   "metadata": {},
   "source": [
    "## (1) kargs : **"
   ]
  },
  {
   "cell_type": "code",
   "execution_count": 27,
   "id": "ff34262d-7686-483c-8766-c182ba9b2bf1",
   "metadata": {},
   "outputs": [
    {
     "name": "stdout",
     "output_type": "stream",
     "text": [
      "{'wine': 'crianza', 'drink': 'water'}\n"
     ]
    }
   ],
   "source": [
    "def print_kargs(**kargs): # 키:값 => 딕셔너리로 반환\n",
    "    print(kargs)\n",
    "    # print(**kargs) # 언패킹 기능이 없어서 이 방법은 안됨\n",
    "    \n",
    "print_kargs(wine='crianza', drink='water')"
   ]
  },
  {
   "cell_type": "code",
   "execution_count": 28,
   "id": "f717e81a-adb1-4c73-b7fa-fb75558409e3",
   "metadata": {},
   "outputs": [
    {
     "name": "stdout",
     "output_type": "stream",
     "text": [
      "{'wine': 'cabernet', 'drink': 'water'}\n",
      "{'wine': 'crianza', 'drink': 'water'}\n",
      "{'wine': 'shiraz', 'drink': 'water'}\n"
     ]
    }
   ],
   "source": [
    "# 키가 정해졌을 때 활용하면 좋음\n",
    "for wine in ['cabernet', 'crianza', 'shiraz']:\n",
    "    print_kargs(wine=wine, drink='water')"
   ]
  },
  {
   "cell_type": "code",
   "execution_count": 29,
   "id": "41bfbff5-24ed-444e-95be-108152e4c00e",
   "metadata": {},
   "outputs": [
    {
     "name": "stdout",
     "output_type": "stream",
     "text": [
      "{'wine': 'crianza', 'drink': 'water'}\n"
     ]
    }
   ],
   "source": [
    "def print_kargs(**kargs):\n",
    "    kargs['wine'] = 'crianza' \n",
    "    #원하는 것 설정 가능\n",
    "    # 키가 없는 경우 오류나기 때문에 get()이용하면 좋음\n",
    "    print(kargs)\n",
    "    \n",
    "print_kargs(wine='crianza', drink='water')"
   ]
  },
  {
   "cell_type": "code",
   "execution_count": 31,
   "id": "2168159d-8424-4e75-a886-7f58e2625d42",
   "metadata": {},
   "outputs": [
    {
     "name": "stdout",
     "output_type": "stream",
     "text": [
      "1 2\n",
      "18\n",
      "{'num': 7}\n"
     ]
    }
   ],
   "source": [
    "# 같이 활용 가능\n",
    "def print_all(num1, num2, *args, **kargs):\n",
    "    print(num1, num2)\n",
    "    print(sum(args))\n",
    "    print(kargs)\n",
    "    \n",
    "# 이름이 같은 경우 오류\n",
    "# print_all(1, 2, 3, 4, 5, 6, num1=7, num2=8)\n",
    "\n",
    "print_all(1, 2, 3, 4, 5, 6, num=7) "
   ]
  },
  {
   "cell_type": "code",
   "execution_count": 33,
   "id": "b4930bde-bae5-49f4-b12d-2728f6de7f9c",
   "metadata": {},
   "outputs": [],
   "source": [
    "# 같이 사용하는 경우) 딕셔너리를 조인할 때\n",
    "a = {1:'a', 2:'b'}\n",
    "b = {2:'c', 3:'d'}\n",
    "c = {**a, **b} # a, b 합치고 싶을 때"
   ]
  }
 ],
 "metadata": {
  "kernelspec": {
   "display_name": "Python 3 (ipykernel)",
   "language": "python",
   "name": "python3"
  },
  "language_info": {
   "codemirror_mode": {
    "name": "ipython",
    "version": 3
   },
   "file_extension": ".py",
   "mimetype": "text/x-python",
   "name": "python",
   "nbconvert_exporter": "python",
   "pygments_lexer": "ipython3",
   "version": "3.9.7"
  }
 },
 "nbformat": 4,
 "nbformat_minor": 5
}
