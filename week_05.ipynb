{
 "cells": [
  {
   "cell_type": "markdown",
   "id": "3bb25135-8a2a-4a20-8fc7-155b43c6fdd4",
   "metadata": {
    "tags": []
   },
   "source": [
    "## 반복문 \n",
    "- while, for loop\n",
    "\n",
    "## while loop\n",
    "- 어떤 조건이 만족하는 동안 명령 블록을 수행한다\n",
    "- if + for loop이 합쳐진 형태\n",
    "- 해당 조건이 거짓이면 멈춤 -> 언제 멈추는지 그 시점을 정확히 파악해야한다\n",
    "\n",
    "## for vs. while\n",
    "- for : 반복 횟수가 정해짐, 정확함, 변하지 않음\n",
    "    - 예 : 성적 산출\n",
    "- while : 횟수는 정해지지 않음(중요하지 않음), 어떤 조건을 만족시킬 때 빠져나오게 하는 게 중요할 때 사용\n",
    "    - 예 : 가위바위보 이겼을 때 끝내기"
   ]
  },
  {
   "cell_type": "code",
   "execution_count": 11,
   "id": "3cd61c0e-14bf-4b14-a38b-85adb9a8f393",
   "metadata": {},
   "outputs": [
    {
     "name": "stdout",
     "output_type": "stream",
     "text": [
      "0\n",
      "1\n",
      "2\n"
     ]
    }
   ],
   "source": [
    "for i in range(3):\n",
    "    print(i)"
   ]
  },
  {
   "cell_type": "code",
   "execution_count": 8,
   "id": "59b1b62c-04c5-408e-8625-a5af4e3e66f5",
   "metadata": {},
   "outputs": [
    {
     "name": "stdout",
     "output_type": "stream",
     "text": [
      "0\n",
      "1\n",
      "2\n"
     ]
    }
   ],
   "source": [
    "# 위의 for문과 동일한 코드\n",
    "j = 0 # 변수 초기화 필요\n",
    "while j < 3:  # 0 1 2 3은 조건이 성립하지 않으므로 종료\n",
    "    print(j)  # 0 1 2\n",
    "    j += 1    # 1 2 3 # 변화블록이 필요"
   ]
  },
  {
   "cell_type": "code",
   "execution_count": 10,
   "id": "d35cb097-9399-4f2d-a2a6-a1d9cc9cd204",
   "metadata": {},
   "outputs": [
    {
     "name": "stdout",
     "output_type": "stream",
     "text": [
      "1\n",
      "2\n",
      "3\n"
     ]
    }
   ],
   "source": [
    "# 위와 j += 1의 순서가 바뀐 것\n",
    "j = 0 \n",
    "while j < 3:  # 0 1 2 3은 조건이 성립하지 않으므로 종료\n",
    "    j += 1    # 1 2 3\n",
    "    print(j)  # 1 2 3"
   ]
  },
  {
   "cell_type": "code",
   "execution_count": 12,
   "id": "cdbe3f69-e360-4301-9bd5-811328ee8599",
   "metadata": {},
   "outputs": [
    {
     "name": "stdout",
     "output_type": "stream",
     "text": [
      "a\n",
      "b\n",
      "c\n",
      "d\n"
     ]
    }
   ],
   "source": [
    "abcd = ['a', 'b', 'c', 'd']\n",
    "for ch in abcd:\n",
    "    print(ch)"
   ]
  },
  {
   "cell_type": "code",
   "execution_count": 15,
   "id": "8c255207-b268-4d71-8cc1-1f1d51d72aee",
   "metadata": {},
   "outputs": [
    {
     "name": "stdout",
     "output_type": "stream",
     "text": [
      "a\n",
      "b\n",
      "c\n",
      "d\n"
     ]
    }
   ],
   "source": [
    "# 위의 for문을 while문으로 출력하기\n",
    "abcd = ['a', 'b', 'c', 'd']\n",
    "ch = 0\n",
    "while ch < len(abcd):\n",
    "    print(abcd[ch])\n",
    "    ch += 1"
   ]
  },
  {
   "cell_type": "markdown",
   "id": "1fadfe7f-a602-44da-8057-8cbcac3cd56f",
   "metadata": {},
   "source": [
    "## 반복문 제어\n",
    "- 되도록 사용하지 않는다. 의도치 않은 오류를 위해\n",
    "\n",
    "- break : 논리적으로 반복을 종료시킬 때\n",
    "- else : 어떤 조건이 완전히 끝났을 때 한번 더 실행함. break시에 실행 안됨\n",
    "    - 어느 지점에서 종료되었는지 확인할 때\n",
    "    - break에서 끝났는지, 전체 다 돌고 끝났는 지 알아볼 때\n",
    "    - while, for 하고 같은 라인\n",
    "- continue : 특정 조건을 건너뛰고 다음 조건 실행"
   ]
  },
  {
   "cell_type": "code",
   "execution_count": 16,
   "id": "04b8b85b-c7c2-4a80-9b37-c24b9a2c63ff",
   "metadata": {},
   "outputs": [
    {
     "name": "stdout",
     "output_type": "stream",
     "text": [
      "0\n",
      "1\n",
      "2\n",
      "3\n",
      "4\n",
      "5\n",
      "6\n"
     ]
    }
   ],
   "source": [
    "# break(while)\n",
    "j = 0 \n",
    "while j < 10:\n",
    "    print(j)\n",
    "    if j == 6: break\n",
    "    j += 1 "
   ]
  },
  {
   "cell_type": "code",
   "execution_count": 18,
   "id": "e7003800-5c22-4f5c-b467-bd44092abfe0",
   "metadata": {},
   "outputs": [
    {
     "name": "stdout",
     "output_type": "stream",
     "text": [
      "0\n",
      "1\n",
      "2\n",
      "3\n",
      "4\n",
      "5\n"
     ]
    }
   ],
   "source": [
    "# break(for)\n",
    "for i in range(10):\n",
    "    if i == 6: break\n",
    "    print(i) # 6은 출력 안 됐지만, i값은 6"
   ]
  },
  {
   "cell_type": "code",
   "execution_count": 8,
   "id": "0b60b191-be0d-476b-8eba-8d19cafd832c",
   "metadata": {},
   "outputs": [
    {
     "name": "stdout",
     "output_type": "stream",
     "text": [
      "0\n",
      "1\n",
      "2\n",
      "3\n",
      "4\n",
      "5\n",
      "6\n"
     ]
    }
   ],
   "source": [
    "j = 0 \n",
    "while j < 10:\n",
    "    print(j)\n",
    "    if j == 6: break\n",
    "    j += 1 \n",
    "else:\n",
    "    print('ended')"
   ]
  },
  {
   "cell_type": "code",
   "execution_count": 19,
   "id": "ebd40f10-f6a5-49bf-8ae0-28da99c85391",
   "metadata": {},
   "outputs": [
    {
     "name": "stdout",
     "output_type": "stream",
     "text": [
      "0\n",
      "1\n",
      "2\n",
      "3\n",
      "4\n",
      "5\n",
      "6\n",
      "7\n",
      "8\n",
      "9\n",
      "ended\n"
     ]
    }
   ],
   "source": [
    "# else\n",
    "for i in range(10):\n",
    "    if i == 16: continue\n",
    "    print(i)\n",
    "else:\n",
    "    print('ended')"
   ]
  },
  {
   "cell_type": "code",
   "execution_count": 21,
   "id": "688d3288-4f4f-40dd-8814-0c8c951cbdd3",
   "metadata": {},
   "outputs": [
    {
     "name": "stdout",
     "output_type": "stream",
     "text": [
      "0\n",
      "1\n",
      "2\n",
      "3\n",
      "4\n",
      "5\n",
      "7\n",
      "8\n",
      "9\n",
      "ended\n"
     ]
    }
   ],
   "source": [
    "# continue\n",
    "for i in range(10):\n",
    "    if i == 6: continue # 6출력 안 됨\n",
    "    print(i) \n",
    "else:\n",
    "    print('ended')"
   ]
  },
  {
   "cell_type": "markdown",
   "id": "60d60322-6de3-4ed4-84e1-de8839829fc5",
   "metadata": {
    "tags": []
   },
   "source": [
    "## 구구단\n",
    "- 변수는 입력 받아서 사용함\n",
    "- 1. n단 출력\n",
    "- 2. 1-n단까지 출력\n",
    "- 3. n, m 모두 입력 받아서 출력\n",
    "    - n>m\n",
    "- 4. 프로그램으로 만듦\n",
    "    - 메뉴: 1.n 2.1-n 3.n-m단\n",
    "    - 메뉴에 없는 옵션 선택할 때\n",
    "- print format 사용할 것"
   ]
  },
  {
   "cell_type": "code",
   "execution_count": 16,
   "id": "167bab9f-66eb-4052-ac37-3535b3a819e7",
   "metadata": {},
   "outputs": [
    {
     "name": "stdout",
     "output_type": "stream",
     "text": [
      "\n",
      "    1. n단 출력\n",
      "    2. 1-n단까지 출력\n",
      "    3. n, m단까지 출력\n",
      "    4. 종료\n",
      "    \n"
     ]
    },
    {
     "name": "stdin",
     "output_type": "stream",
     "text": [
      "원하는 메뉴 번호를 입력하세요(번호만) 3\n",
      "시작 단을 입력하세요 5\n",
      "끝 단을 입력하세요 3\n"
     ]
    },
    {
     "name": "stdout",
     "output_type": "stream",
     "text": [
      "1-9사이의 숫자로, 시작단이 끝단보다 크면 안됩니다. 다시 입력해주세요\n"
     ]
    },
    {
     "name": "stdin",
     "output_type": "stream",
     "text": [
      "시작 단을 입력하세요 6\n",
      "끝 단을 입력하세요 9\n"
     ]
    },
    {
     "name": "stdout",
     "output_type": "stream",
     "text": [
      "6단\n",
      "6 X 1 = 6\n",
      "6 X 2 = 12\n",
      "6 X 3 = 18\n",
      "6 X 4 = 24\n",
      "6 X 5 = 30\n",
      "6 X 6 = 36\n",
      "6 X 7 = 42\n",
      "6 X 8 = 48\n",
      "6 X 9 = 54\n",
      "7단\n",
      "7 X 1 = 7\n",
      "7 X 2 = 14\n",
      "7 X 3 = 21\n",
      "7 X 4 = 28\n",
      "7 X 5 = 35\n",
      "7 X 6 = 42\n",
      "7 X 7 = 49\n",
      "7 X 8 = 56\n",
      "7 X 9 = 63\n",
      "8단\n",
      "8 X 1 = 8\n",
      "8 X 2 = 16\n",
      "8 X 3 = 24\n",
      "8 X 4 = 32\n",
      "8 X 5 = 40\n",
      "8 X 6 = 48\n",
      "8 X 7 = 56\n",
      "8 X 8 = 64\n",
      "8 X 9 = 72\n",
      "9단\n",
      "9 X 1 = 9\n",
      "9 X 2 = 18\n",
      "9 X 3 = 27\n",
      "9 X 4 = 36\n",
      "9 X 5 = 45\n",
      "9 X 6 = 54\n",
      "9 X 7 = 63\n",
      "9 X 8 = 72\n",
      "9 X 9 = 81\n",
      "\n",
      "    1. n단 출력\n",
      "    2. 1-n단까지 출력\n",
      "    3. n, m단까지 출력\n",
      "    4. 종료\n",
      "    \n"
     ]
    },
    {
     "name": "stdin",
     "output_type": "stream",
     "text": [
      "원하는 메뉴 번호를 입력하세요(번호만) 4\n"
     ]
    },
    {
     "name": "stdout",
     "output_type": "stream",
     "text": [
      "프로그램을 종료합니다\n"
     ]
    }
   ],
   "source": [
    "while True:\n",
    "    print('''\n",
    "    1. n단 출력\n",
    "    2. 1-n단까지 출력\n",
    "    3. n, m단까지 출력\n",
    "    4. 종료\n",
    "    ''')\n",
    "    menu = input('원하는 메뉴 번호를 입력하세요(번호만)')\n",
    "    \n",
    "    if menu == '1':\n",
    "        dan = int(input('몇 단을 출력하시겠습니까?'))\n",
    "        while dan < 0 or dan > 9:\n",
    "            dan = int(input('1~9 사이로 다시 입력해 주세요.'))\n",
    "        print(f'{dan}단')\n",
    "        for i in range(1, 10):\n",
    "            print(f'{dan} x {i} = {dan * i}')\n",
    "    \n",
    "    elif menu == '2':\n",
    "        dan = int(input('1단부터 몇 단까지 출력하시겠습니까?'))\n",
    "        while dan < 0 or dan > 9:\n",
    "            dan = int(input('1~9 사이로 다시 입력해 주세요.'))\n",
    "        i = 1\n",
    "        for i in range(1, dan + 1):\n",
    "            print(f'{i}단')\n",
    "            for j in range(1, 10):\n",
    "                print(f'{i} X {j} = {i * j}')\n",
    "    \n",
    "    elif menu == '3':\n",
    "        startDan = int(input('시작 단을 입력하세요'))\n",
    "        endDan = int(input('끝 단을 입력하세요'))\n",
    "        while (startDan < 0 or startDan > 9) or (endDan < 0 or endDan > 9) or (startDan > endDan):\n",
    "            print('1-9사이의 숫자로, 시작단이 끝단보다 크면 안됩니다. 다시 입력해주세요')\n",
    "            startDan = int(input('시작 단을 입력하세요'))\n",
    "            endDan = int(input('끝 단을 입력하세요'))\n",
    "        for i in range(startDan, endDan + 1):\n",
    "            print(f'{i}단')\n",
    "            for j in range(1, 10):\n",
    "                print(f'{i} X {j} = {i * j}')\n",
    "    \n",
    "    elif menu == '4':\n",
    "        print('프로그램을 종료합니다')\n",
    "        break\n",
    "    else:\n",
    "        print('메뉴의 번호를 입력해주세요')"
   ]
  },
  {
   "cell_type": "markdown",
   "id": "7f232a5f-f24f-4059-9adb-85c3c5e4142b",
   "metadata": {},
   "source": [
    "## NLTK corpus\n",
    "- 코퍼스 + 테마\n",
    "- 종류\n",
    "    - brown\n",
    "    - gutenberg\n",
    "    - inaugural\n",
    "- method\n",
    "    - words() 단어수, nltk의 tokens와 같은 기능\n",
    "    - sents() 문장수\n",
    "    - raw() 글자수"
   ]
  },
  {
   "cell_type": "code",
   "execution_count": 18,
   "id": "2b4bd54a-10b2-4380-9351-ac0b8f8cddd2",
   "metadata": {},
   "outputs": [
    {
     "name": "stdout",
     "output_type": "stream",
     "text": [
      "*** Introductory Examples for the NLTK Book ***\n",
      "Loading text1, ..., text9 and sent1, ..., sent9\n",
      "Type the name of the text or sentence to view it.\n",
      "Type: 'texts()' or 'sents()' to list the materials.\n",
      "text1: Moby Dick by Herman Melville 1851\n",
      "text2: Sense and Sensibility by Jane Austen 1811\n",
      "text3: The Book of Genesis\n",
      "text4: Inaugural Address Corpus\n",
      "text5: Chat Corpus\n",
      "text6: Monty Python and the Holy Grail\n",
      "text7: Wall Street Journal\n",
      "text8: Personals Corpus\n",
      "text9: The Man Who Was Thursday by G . K . Chesterton 1908\n"
     ]
    },
    {
     "data": {
      "text/plain": [
       "True"
      ]
     },
     "execution_count": 18,
     "metadata": {},
     "output_type": "execute_result"
    }
   ],
   "source": [
    "import nltk\n",
    "from nltk.book import *\n",
    "nltk.download('book', quiet=True)"
   ]
  },
  {
   "cell_type": "code",
   "execution_count": 19,
   "id": "331a14f7-df37-4d40-ae14-0e566435c1e5",
   "metadata": {},
   "outputs": [
    {
     "name": "stderr",
     "output_type": "stream",
     "text": [
      "[nltk_data] Downloading package brown to\n",
      "[nltk_data]     C:\\Users\\KBS\\AppData\\Roaming\\nltk_data...\n",
      "[nltk_data]   Package brown is already up-to-date!\n",
      "[nltk_data] Downloading package gutenberg to\n",
      "[nltk_data]     C:\\Users\\KBS\\AppData\\Roaming\\nltk_data...\n",
      "[nltk_data]   Package gutenberg is already up-to-date!\n",
      "[nltk_data] Downloading package inaugural to\n",
      "[nltk_data]     C:\\Users\\KBS\\AppData\\Roaming\\nltk_data...\n",
      "[nltk_data]   Package inaugural is already up-to-date!\n"
     ]
    },
    {
     "data": {
      "text/plain": [
       "True"
      ]
     },
     "execution_count": 19,
     "metadata": {},
     "output_type": "execute_result"
    }
   ],
   "source": [
    "from nltk.corpus import gutenberg\n",
    "nltk.download(['brown', 'gutenberg', 'inaugural'])"
   ]
  },
  {
   "cell_type": "code",
   "execution_count": 20,
   "id": "fa2bab37-57fb-4791-890a-5e3fbd5b0500",
   "metadata": {},
   "outputs": [
    {
     "data": {
      "text/plain": [
       "['austen-emma.txt',\n",
       " 'austen-persuasion.txt',\n",
       " 'austen-sense.txt',\n",
       " 'bible-kjv.txt',\n",
       " 'blake-poems.txt',\n",
       " 'bryant-stories.txt',\n",
       " 'burgess-busterbrown.txt',\n",
       " 'carroll-alice.txt',\n",
       " 'chesterton-ball.txt',\n",
       " 'chesterton-brown.txt',\n",
       " 'chesterton-thursday.txt',\n",
       " 'edgeworth-parents.txt',\n",
       " 'melville-moby_dick.txt',\n",
       " 'milton-paradise.txt',\n",
       " 'shakespeare-caesar.txt',\n",
       " 'shakespeare-hamlet.txt',\n",
       " 'shakespeare-macbeth.txt',\n",
       " 'whitman-leaves.txt']"
      ]
     },
     "execution_count": 20,
     "metadata": {},
     "output_type": "execute_result"
    }
   ],
   "source": [
    "gutenberg.fileids() "
   ]
  },
  {
   "cell_type": "code",
   "execution_count": 22,
   "id": "d987f95f-cc92-4576-bf2b-57a9e5cccb5d",
   "metadata": {},
   "outputs": [
    {
     "data": {
      "text/plain": [
       "['[', 'Paradise', 'Lost', 'by', 'John', 'Milton', ...]"
      ]
     },
     "execution_count": 22,
     "metadata": {},
     "output_type": "execute_result"
    }
   ],
   "source": [
    "# 1개만 가져오고 싶을 때\n",
    "gutenberg.words(fileids='carroll-alice.txt')\n",
    "\n",
    "# 여러 개를 가져오고 싶으면 list 사용\n",
    "gutenberg.words(fileids=['milton-paradise.txt', 'bryant-stories.txt'])"
   ]
  },
  {
   "cell_type": "code",
   "execution_count": 25,
   "id": "fb0c06f7-8d6e-4f1a-b194-48d55164c008",
   "metadata": {},
   "outputs": [
    {
     "name": "stdout",
     "output_type": "stream",
     "text": [
      "austen-emma.txt | 글자수: 887071개, 단어수: 192427개, 문장수: 7752개\n",
      "austen-persuasion.txt | 글자수: 466292개, 단어수: 98171개, 문장수: 3747개\n",
      "austen-sense.txt | 글자수: 673022개, 단어수: 141576개, 문장수: 4999개\n",
      "bible-kjv.txt | 글자수: 4332554개, 단어수: 1010654개, 문장수: 30103개\n",
      "blake-poems.txt | 글자수: 38153개, 단어수: 8354개, 문장수: 438개\n",
      "bryant-stories.txt | 글자수: 249439개, 단어수: 55563개, 문장수: 2863개\n",
      "burgess-busterbrown.txt | 글자수: 84663개, 단어수: 18963개, 문장수: 1054개\n",
      "carroll-alice.txt | 글자수: 144395개, 단어수: 34110개, 문장수: 1703개\n",
      "chesterton-ball.txt | 글자수: 457450개, 단어수: 96996개, 문장수: 4779개\n",
      "chesterton-brown.txt | 글자수: 406629개, 단어수: 86063개, 문장수: 3806개\n",
      "chesterton-thursday.txt | 글자수: 320525개, 단어수: 69213개, 문장수: 3742개\n",
      "edgeworth-parents.txt | 글자수: 935158개, 단어수: 210663개, 문장수: 10230개\n",
      "melville-moby_dick.txt | 글자수: 1242990개, 단어수: 260819개, 문장수: 10059개\n",
      "milton-paradise.txt | 글자수: 468220개, 단어수: 96825개, 문장수: 1851개\n",
      "shakespeare-caesar.txt | 글자수: 112310개, 단어수: 25833개, 문장수: 2163개\n",
      "shakespeare-hamlet.txt | 글자수: 162881개, 단어수: 37360개, 문장수: 3106개\n",
      "shakespeare-macbeth.txt | 글자수: 100351개, 단어수: 23140개, 문장수: 1907개\n",
      "whitman-leaves.txt | 글자수: 711215개, 단어수: 154883개, 문장수: 4250개\n"
     ]
    }
   ],
   "source": [
    "# 각 파일마다 word, character, sents 개수 출력하기\n",
    "for file in gutenberg.fileids():\n",
    "    words = len(gutenberg.words(file))\n",
    "    char = len(gutenberg.raw(file))\n",
    "    sents = len(gutenberg.sents(file))\n",
    "    print(f'{file} | 글자수: {char}개, 단어수: {words}개, 문장수: {sents}개')"
   ]
  },
  {
   "cell_type": "markdown",
   "id": "09146cd4-f087-4b45-a3be-edcfe9880af3",
   "metadata": {},
   "source": [
    "## gutenberg\n",
    "- 1. shakespeare-caesar의 중복된 단어를 거르고 각 단어의 길이를 출력\n",
    "- 2. chesterton-thursday에서 길이가 4자 이하인 알파벳 중 ie를 포함하는 단어를 소문자로 출력하고 개수를 세어라\n",
    "- 3. bryant-stories에서 ch로 끝나는 단어를 중복없이, 첫글자(모두소문자)와 끝 ch만 남기고 가운데 글자들은 모두 -로 가려라 ex) much -> m-ch"
   ]
  },
  {
   "cell_type": "code",
   "execution_count": 26,
   "id": "7d3ada2d-bfea-48e9-894b-5675c1c1b63c",
   "metadata": {},
   "outputs": [
    {
     "data": {
      "text/plain": [
       "{1, 2, 3, 4, 5, 6, 7, 8, 9, 10, 11, 12, 13, 15}"
      ]
     },
     "execution_count": 26,
     "metadata": {},
     "output_type": "execute_result"
    }
   ],
   "source": [
    "# 1\n",
    "set([len(word) for word in gutenberg.words('shakespeare-caesar.txt')])"
   ]
  },
  {
   "cell_type": "code",
   "execution_count": 31,
   "id": "6f81b6e8-88e1-4ff4-a629-24753efca3d3",
   "metadata": {},
   "outputs": [
    {
     "data": {
      "text/plain": [
       "({'die',\n",
       "  'died',\n",
       "  'dies',\n",
       "  'erie',\n",
       "  'foie',\n",
       "  'lie',\n",
       "  'lies',\n",
       "  'pie',\n",
       "  'pier',\n",
       "  'tie',\n",
       "  'tied',\n",
       "  'view'},\n",
       " 12)"
      ]
     },
     "execution_count": 31,
     "metadata": {},
     "output_type": "execute_result"
    }
   ],
   "source": [
    "# 2\n",
    "a = set([word.lower() for word in gutenberg.words('chesterton-thursday.txt') if word.isalpha() and len(word) <= 4 and 'ie' in word])\n",
    "a, len(a)"
   ]
  },
  {
   "cell_type": "code",
   "execution_count": 36,
   "id": "a97a824b-b058-450d-a74e-95f114fab54f",
   "metadata": {},
   "outputs": [
    {
     "data": {
      "text/plain": [
       "{'a--ch',\n",
       " 'b----ch',\n",
       " 'b---ch',\n",
       " 'c----ch',\n",
       " 'c---ch',\n",
       " 'e--ch',\n",
       " 'f----ch',\n",
       " 'f---ch',\n",
       " 'l---ch',\n",
       " 'm--ch',\n",
       " 'p---ch',\n",
       " 'r---ch',\n",
       " 'r--ch',\n",
       " 's-----ch',\n",
       " 's----ch',\n",
       " 's--ch',\n",
       " 't----ch',\n",
       " 't---ch',\n",
       " 'w---ch'}"
      ]
     },
     "execution_count": 36,
     "metadata": {},
     "output_type": "execute_result"
    }
   ],
   "source": [
    "# 3\n",
    "set([word.lower().replace(word[1:-2], '-' * len(word[:-2])) for word in gutenberg.words('bryant-stories.txt') if word.endswith('ch')])"
   ]
  },
  {
   "cell_type": "markdown",
   "id": "fdab30ef-200d-45d9-b5de-09868162cd86",
   "metadata": {},
   "source": [
    "## Brown\n",
    "- categories()"
   ]
  },
  {
   "cell_type": "code",
   "execution_count": 38,
   "id": "3a0dc7aa-2d8f-474b-8adf-37c0feb988cf",
   "metadata": {},
   "outputs": [],
   "source": [
    "brown = nltk.corpus.brown"
   ]
  },
  {
   "cell_type": "code",
   "execution_count": 39,
   "id": "2b54d657-1c4b-4b54-9102-5bf6cb644520",
   "metadata": {},
   "outputs": [
    {
     "data": {
      "text/plain": [
       "['adventure',\n",
       " 'belles_lettres',\n",
       " 'editorial',\n",
       " 'fiction',\n",
       " 'government',\n",
       " 'hobbies',\n",
       " 'humor',\n",
       " 'learned',\n",
       " 'lore',\n",
       " 'mystery',\n",
       " 'news',\n",
       " 'religion',\n",
       " 'reviews',\n",
       " 'romance',\n",
       " 'science_fiction']"
      ]
     },
     "execution_count": 39,
     "metadata": {},
     "output_type": "execute_result"
    }
   ],
   "source": [
    "brown.categories()"
   ]
  },
  {
   "cell_type": "code",
   "execution_count": 40,
   "id": "5d7ec60d-5436-453a-885a-d821f575adaa",
   "metadata": {},
   "outputs": [],
   "source": [
    "# categories 외에도 file도 넣어줄 수 있기 때문에 brown.words(categories='') categories를 써줘야 함.\n",
    "\n",
    "fdist = nltk.FreqDist([word.lower() for word in brown.words(categories='adventure')])"
   ]
  },
  {
   "cell_type": "code",
   "execution_count": 41,
   "id": "f176970a-1c2c-44aa-953c-3fb27ecd17d8",
   "metadata": {},
   "outputs": [
    {
     "data": {
      "text/plain": [
       "83"
      ]
     },
     "execution_count": 41,
     "metadata": {},
     "output_type": "execute_result"
    }
   ],
   "source": [
    "fdist['men']"
   ]
  },
  {
   "cell_type": "code",
   "execution_count": 42,
   "id": "29c0c902-9abc-40b9-84bb-899669fa229a",
   "metadata": {},
   "outputs": [
    {
     "name": "stdout",
     "output_type": "stream",
     "text": [
      "can 48\n",
      "could 154\n",
      "will 51\n",
      "would 194\n",
      "may 7\n",
      "might 59\n"
     ]
    }
   ],
   "source": [
    "# modal verbs(조동사) \n",
    "modals = ['can', 'could', 'will', 'would', 'may', 'might']\n",
    "\n",
    "for verb in modals:\n",
    "    print(verb, fdist[verb])"
   ]
  },
  {
   "cell_type": "markdown",
   "id": "e9713007-b2f9-4cb3-a763-033695e09801",
   "metadata": {},
   "source": [
    "## conditional frequency distribution\n",
    "- 조건에 따른 fdist"
   ]
  },
  {
   "cell_type": "code",
   "execution_count": 43,
   "id": "36d7e4ca-7ff0-45fe-a608-5ea9277663c4",
   "metadata": {},
   "outputs": [],
   "source": [
    "cfd = nltk.ConditionalFreqDist(\n",
    "    # 각 장르에 따른 frequency distribution을 만들기\n",
    "    (genre, word.lower())\n",
    "    for genre in brown.categories()\n",
    "    for word in brown.words(categories=genre)\n",
    ")"
   ]
  },
  {
   "cell_type": "code",
   "execution_count": 45,
   "id": "cc7808b2-8740-42b7-9d64-cb06a2bcf83e",
   "metadata": {},
   "outputs": [
    {
     "data": {
      "text/plain": [
       "FreqDist({',': 3899, '.': 3736, 'the': 2988, 'and': 1905, 'to': 1517, 'a': 1383, 'of': 1202, 'he': 1068, '``': 1045, \"''\": 1044, ...})"
      ]
     },
     "execution_count": 45,
     "metadata": {},
     "output_type": "execute_result"
    }
   ],
   "source": [
    "# 장르를 뽑을 수 있음\n",
    "cfd['romance']"
   ]
  },
  {
   "cell_type": "code",
   "execution_count": 46,
   "id": "45cd6dee-dd34-4b50-9cbc-4639d0cbe6ea",
   "metadata": {},
   "outputs": [
    {
     "data": {
      "text/plain": [
       "[(',', 3899),\n",
       " ('.', 3736),\n",
       " ('the', 2988),\n",
       " ('and', 1905),\n",
       " ('to', 1517),\n",
       " ('a', 1383),\n",
       " ('of', 1202),\n",
       " ('he', 1068),\n",
       " ('``', 1045),\n",
       " (\"''\", 1044)]"
      ]
     },
     "execution_count": 46,
     "metadata": {},
     "output_type": "execute_result"
    }
   ],
   "source": [
    "cfd['romance'].most_common(10)"
   ]
  },
  {
   "cell_type": "code",
   "execution_count": 47,
   "id": "8847e6dd-ddde-4096-8cc9-bb2b38af0d71",
   "metadata": {},
   "outputs": [
    {
     "data": {
      "text/plain": [
       "36"
      ]
     },
     "execution_count": 47,
     "metadata": {},
     "output_type": "execute_result"
    }
   ],
   "source": [
    "# romance에서 love가 몇 번 나왔는지\n",
    "cfd['romance']['love']"
   ]
  }
 ],
 "metadata": {
  "kernelspec": {
   "display_name": "Python 3 (ipykernel)",
   "language": "python",
   "name": "python3"
  },
  "language_info": {
   "codemirror_mode": {
    "name": "ipython",
    "version": 3
   },
   "file_extension": ".py",
   "mimetype": "text/x-python",
   "name": "python",
   "nbconvert_exporter": "python",
   "pygments_lexer": "ipython3",
   "version": "3.9.7"
  }
 },
 "nbformat": 4,
 "nbformat_minor": 5
}
