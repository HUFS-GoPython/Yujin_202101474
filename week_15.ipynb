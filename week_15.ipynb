{
 "cells": [
  {
   "cell_type": "markdown",
   "id": "9f4978f3-3fbb-43cf-8e36-844a1bb98fb3",
   "metadata": {},
   "source": [
    "# 파일과 디렉터리\n",
    "- 디렉터리 : 폴더의 다른 말. 파일이 논리적으로 (비슷한 것들로) 묶인 단위\n",
    "- 파일 : 컴퓨터를 실행하는 기본 단위\n",
    "- 파일명 + 확장자\n",
    "    - 확장자: 파일의 쓰임을 구분하는 것 ex) pdf, .xlsx, .txt, ...\n",
    "- 종류: 바이너리 파일, 텍스트 파일\n",
    "- 바이너리: 이진 정보로 저장되어 있음\n",
    "    - 그래서 내용을 확인할 수 없음\n",
    "    - 해당 확장자를 열 수 있는 프로그램이 필요함\n",
    "    - 이진 정보로 저장되어 있어 효율적이지만 우리에겐 불편\n",
    "- 텍스트: 사람이 이해할 수 있는 문자열로 저장됨\n",
    "    - 컴퓨터에서는 다시 바이너리로 바뀌어서 인식\n",
    "    - 메모장, html, py\n",
    "    - 글자로 변경하는 기준: 아스키 코드, 유니코드\n",
    "    - 표준에 맞춰서 저장하는 것 => 인코딩(encoding)\n",
    "    - 제일 많이 사용하는 것 utf-8, 윈도우에서는 cp949"
   ]
  },
  {
   "cell_type": "markdown",
   "id": "d1060e61-0c8c-4bf4-8006-3c6e2ef73345",
   "metadata": {},
   "source": [
    "---"
   ]
  },
  {
   "cell_type": "markdown",
   "id": "eb6bfb5d-f060-40f1-8d55-2d5e33e897e3",
   "metadata": {
    "tags": []
   },
   "source": [
    "## 1. 파일 열기\n",
    "- open(파일명, 모드)\n",
    "- 모드\n",
    "    - r: read (default)\n",
    "    - w: write - 파일이 있으면 덮어쓰고, 없으면 생성\n",
    "    - x: write - 파일이 없을 때만 생성\n",
    "    - a: write - 파일이 있을 때 마지막 라인에 추가 (adding)  \n",
    "- 추가모드 \n",
    "    - b: binary\n",
    "    - t: text (default)  \n",
    "- 'rb', 'rt'"
   ]
  },
  {
   "cell_type": "code",
   "execution_count": 23,
   "id": "37c4cefd-6852-48db-bc27-45d7b50f9f94",
   "metadata": {},
   "outputs": [
    {
     "data": {
      "text/plain": [
       "<_io.TextIOWrapper name='test.txt' mode='r' encoding='cp949'>"
      ]
     },
     "execution_count": 23,
     "metadata": {},
     "output_type": "execute_result"
    }
   ],
   "source": [
    "# 같은 디텍터리 안에 있는 파일 열기\n",
    "file = 'test.txt'\n",
    "# 주로 f로 받음\n",
    "f = open(file, 'r')\n",
    "f"
   ]
  },
  {
   "cell_type": "markdown",
   "id": "01d622c8-bc12-47cf-be3c-549403bf9a1e",
   "metadata": {},
   "source": [
    "---"
   ]
  },
  {
   "cell_type": "markdown",
   "id": "cd5db6f7-32ff-43a8-96c2-1cff7f2915d6",
   "metadata": {},
   "source": [
    "## 2. 파일 읽기\n",
    "- read(): 전체를 하나의 str\n",
    "    - read(n) 어디까지 읽을 지 정할 수 있음\n",
    "    - 포인터: 양이 많을 때 부분 읽기에 유용\n",
    "- readline(): 한줄만 str, 기준: 개행\n",
    "- readlines(): 전체를 list, 각 줄이 한 str"
   ]
  },
  {
   "cell_type": "code",
   "execution_count": 3,
   "id": "c49bffd1-9588-4fe0-88c3-153c006067ff",
   "metadata": {},
   "outputs": [
    {
     "data": {
      "text/plain": [
       "\"hello world\\nI'm reading a book.\\nI'm reading a book.\\nI'm reading a book.\\nI'm reading a book.\""
      ]
     },
     "execution_count": 3,
     "metadata": {},
     "output_type": "execute_result"
    }
   ],
   "source": [
    "# read()\n",
    "f.read()"
   ]
  },
  {
   "cell_type": "code",
   "execution_count": 4,
   "id": "057bd154-517e-4b99-b07c-8bcf9e12ec84",
   "metadata": {},
   "outputs": [
    {
     "data": {
      "text/plain": [
       "''"
      ]
     },
     "execution_count": 4,
     "metadata": {},
     "output_type": "execute_result"
    }
   ],
   "source": [
    "# 포인터\n",
    "# read()를 한 번 더 하면 마지막으로 포인터가 가 있기 때문에 아무것도 뜨지 않는 것\n",
    "f.read()"
   ]
  },
  {
   "cell_type": "code",
   "execution_count": 22,
   "id": "a391dd18-dbc3-43c1-b324-7e34dce5d9a3",
   "metadata": {},
   "outputs": [],
   "source": [
    "# 다시 읽으려면 닫고 다시 읽어야함\n",
    "f.close()"
   ]
  },
  {
   "cell_type": "code",
   "execution_count": null,
   "id": "d33db8ee-a6fa-4e33-a542-db66c1f002ee",
   "metadata": {},
   "outputs": [
    {
     "data": {
      "text/plain": [
       "'hello'"
      ]
     },
     "execution_count": 10,
     "metadata": {},
     "output_type": "execute_result"
    }
   ],
   "source": [
    "# n 값지정 가능 => 포인터가 n에 가는 것\n",
    "f.read(5)"
   ]
  },
  {
   "cell_type": "code",
   "execution_count": 14,
   "id": "a4e43b27-12bb-42c3-9bda-65908098a577",
   "metadata": {},
   "outputs": [
    {
     "data": {
      "text/plain": [
       "'hello world\\n'"
      ]
     },
     "execution_count": 14,
     "metadata": {},
     "output_type": "execute_result"
    }
   ],
   "source": [
    "# readline() 한 줄만 읽기\n",
    "f.readline()"
   ]
  },
  {
   "cell_type": "code",
   "execution_count": 17,
   "id": "2124a46d-6f5a-4f75-b180-ceba6038a547",
   "metadata": {},
   "outputs": [
    {
     "data": {
      "text/plain": [
       "['hello world\\n',\n",
       " \"I'm reading a book.\\n\",\n",
       " \"I'm reading a book.\\n\",\n",
       " \"I'm reading a book.\\n\",\n",
       " \"I'm reading a book.\"]"
      ]
     },
     "execution_count": 17,
     "metadata": {},
     "output_type": "execute_result"
    }
   ],
   "source": [
    "# readlines() 한 줄씩 리스트에 담기\n",
    "f.readlines()"
   ]
  },
  {
   "cell_type": "code",
   "execution_count": 24,
   "id": "5c59c826-aebd-444a-a5cf-e53a800d39cb",
   "metadata": {},
   "outputs": [
    {
     "data": {
      "text/plain": [
       "['hello world',\n",
       " \"I'm reading a book.\",\n",
       " \"I'm reading a book.\",\n",
       " \"I'm reading a book.\",\n",
       " \"I'm reading a book.\"]"
      ]
     },
     "execution_count": 24,
     "metadata": {},
     "output_type": "execute_result"
    }
   ],
   "source": [
    "# readlines() 열면서 텍스트 정제하기\n",
    "sents = f.readlines()\n",
    "sents = [s.strip() for s in sents]\n",
    "sents"
   ]
  },
  {
   "cell_type": "markdown",
   "id": "57de0afa-8816-40bf-8e2b-4c08fe9da15a",
   "metadata": {},
   "source": [
    "---"
   ]
  },
  {
   "cell_type": "markdown",
   "id": "dfada0bd-3604-4a99-941d-51367e5df68c",
   "metadata": {
    "tags": []
   },
   "source": [
    "## 3. 파일 닫기\n",
    "- 파일을 여는 즉시 닫아야 함\n",
    "- **자원 해제**라고 함\n",
    "- 닫아도 변수에 담아놓은 것을 사용할 수 있음"
   ]
  },
  {
   "cell_type": "code",
   "execution_count": 26,
   "id": "7f08e372-8457-4383-8766-0323bf04212c",
   "metadata": {},
   "outputs": [],
   "source": [
    "# close() 생략하여 닫는 방법\n",
    "# 돌리는 순간 열리면서 닫힘\n",
    "with open(file, 'r') as f: \n",
    "    # open()이 적용되는 블럭\n",
    "    content = f.read()\n",
    "# 파일이 자동으로 닫힘"
   ]
  },
  {
   "cell_type": "code",
   "execution_count": 28,
   "id": "dd6c28f5-362e-4537-96fe-01b2f5cb0b1f",
   "metadata": {},
   "outputs": [
    {
     "data": {
      "text/plain": [
       "\"hello world\\nI'm reading a book.\\nI'm reading a book.\\nI'm reading a book.\\nI'm reading a book.\""
      ]
     },
     "execution_count": 28,
     "metadata": {},
     "output_type": "execute_result"
    }
   ],
   "source": [
    "# 원하는 정보는 가져오고 닫음\n",
    "content "
   ]
  },
  {
   "cell_type": "markdown",
   "id": "0adc901b-afdd-4a02-8351-2a9f616a82dc",
   "metadata": {},
   "source": [
    "---"
   ]
  },
  {
   "cell_type": "markdown",
   "id": "11e1da14-701c-490f-b750-e9fb82f61460",
   "metadata": {},
   "source": [
    "## 실습\n",
    "- readline 파일을 읽는데, while을 사용해서 한 줄씩 읽고 strip()해서 리스트에 반환하는 함수 만들기"
   ]
  },
  {
   "cell_type": "code",
   "execution_count": 32,
   "id": "49bdfe48-bf94-42b2-b6a5-915d97a1e8b4",
   "metadata": {},
   "outputs": [],
   "source": [
    "def read_lines(file):\n",
    "    sents = []\n",
    "    with open(file, 'r') as f:\n",
    "        while True:\n",
    "            line = f.readline()\n",
    "            if not line:\n",
    "                break\n",
    "            sent = line.strip()\n",
    "            sents.append(sent)\n",
    "    return sents"
   ]
  },
  {
   "cell_type": "code",
   "execution_count": 33,
   "id": "28a71eab-828c-492b-927b-dc5fff2ed9b8",
   "metadata": {},
   "outputs": [
    {
     "data": {
      "text/plain": [
       "['hello world',\n",
       " \"I'm reading a book.\",\n",
       " \"I'm reading a book.\",\n",
       " \"I'm reading a book.\",\n",
       " \"I'm reading a book.\"]"
      ]
     },
     "execution_count": 33,
     "metadata": {},
     "output_type": "execute_result"
    }
   ],
   "source": [
    "read_lines(file)"
   ]
  },
  {
   "cell_type": "markdown",
   "id": "295e6345-d72e-40d5-92e1-f36e54372970",
   "metadata": {},
   "source": [
    "---"
   ]
  },
  {
   "cell_type": "markdown",
   "id": "9b61e5ef-cfd1-40ad-aa80-4e87d5bde411",
   "metadata": {},
   "source": [
    "디렉터리가 다를 때 파일 열기\n",
    "- . : 현재 디렉터리\n",
    "- ..: 상위 디렉터리"
   ]
  },
  {
   "cell_type": "code",
   "execution_count": 34,
   "id": "3a6dbbd1-5924-48c9-bf3e-f7ee705755f9",
   "metadata": {},
   "outputs": [
    {
     "name": "stdout",
     "output_type": "stream",
     "text": [
      "hello world\n",
      "I'm reading a book.\n",
      "I'm reading a book.\n",
      "I'm reading a book.\n",
      "I'm reading a book.\n"
     ]
    }
   ],
   "source": [
    "file = './folder/test.txt'\n",
    "\n",
    "with open(file) as f:\n",
    "    print(f.read())"
   ]
  },
  {
   "cell_type": "markdown",
   "id": "5a094385-74c2-45f7-85c0-ad9ae29de1c1",
   "metadata": {},
   "source": [
    "---"
   ]
  },
  {
   "cell_type": "markdown",
   "id": "862cec5d-00a2-489c-8842-60212e485d69",
   "metadata": {},
   "source": [
    "## 4. 파일 쓰기\n",
    "- 인코딩 유의\n",
    "- 'w', encoding='utf-8'"
   ]
  },
  {
   "cell_type": "code",
   "execution_count": 50,
   "id": "4874fa81-0b6f-4cd9-a13d-71953097a9fa",
   "metadata": {},
   "outputs": [],
   "source": [
    "# 방법 1\n",
    "with open('test2.txt', 'w', encoding='utf-8') as f:\n",
    "    for i in range(10):\n",
    "        data = f'{i}번째 줄입니다.\\n'\n",
    "        f.write(data)"
   ]
  },
  {
   "cell_type": "code",
   "execution_count": 62,
   "id": "e93806c3-1921-4560-a868-db35bca6b67a",
   "metadata": {},
   "outputs": [],
   "source": [
    "# 방법 2\n",
    "# print()를 이용해서 추가\n",
    "file_out = open('test2.txt', 'a', encoding='utf-8')\n",
    "print('한 줄 추가했습니다.', file=file_out)\n",
    "file_out.close()"
   ]
  },
  {
   "cell_type": "code",
   "execution_count": 63,
   "id": "072d8d87-2cfb-4b0a-9074-ca9e4a86624f",
   "metadata": {},
   "outputs": [
    {
     "name": "stdout",
     "output_type": "stream",
     "text": [
      "0번째 줄입니다.\n",
      "1번째 줄입니다.\n",
      "2번째 줄입니다.\n",
      "3번째 줄입니다.\n",
      "4번째 줄입니다.\n",
      "5번째 줄입니다.\n",
      "6번째 줄입니다.\n",
      "7번째 줄입니다.\n",
      "8번째 줄입니다.\n",
      "9번째 줄입니다.\n",
      "한 줄 추가했습니다.\n",
      "한 줄 추가했습니다.\n",
      "\n"
     ]
    }
   ],
   "source": [
    "file = 'test2.txt'\n",
    "with open(file, 'r', encoding='utf-8') as f: \n",
    "    print(f.read())"
   ]
  },
  {
   "cell_type": "code",
   "execution_count": 65,
   "id": "da00dfc4-a5a0-429a-829f-893b28e139d9",
   "metadata": {},
   "outputs": [],
   "source": [
    "# 방법 3\n",
    "# folder 만들어서 추가\n",
    "# 폴더를 만들고 추가해야 함\n",
    "import os\n",
    "os.mkdir('abc')"
   ]
  },
  {
   "cell_type": "code",
   "execution_count": 66,
   "id": "a32371cf-cda9-4a66-80fa-081ae9d8a7c8",
   "metadata": {},
   "outputs": [],
   "source": [
    "with open('./abc/test2.txt', 'w', encoding='utf-8') as f:\n",
    "    for i in range(10):\n",
    "        data = f'{i}번째 줄입니다.\\n'\n",
    "        f.write(data)"
   ]
  },
  {
   "cell_type": "code",
   "execution_count": null,
   "id": "fa269c5a-432a-4774-a642-dd8cc15bdade",
   "metadata": {},
   "outputs": [],
   "source": [
    "# 디렉토리(폴더)가 있는지 확인하기\n",
    "path = 'abc'\n",
    "\n",
    "# 'abc'가 없으면 만들어라\n",
    "if not os.isdir(path):\n",
    "    os.mkdir(path)\n",
    "    \n",
    "# dir_name = './abc/test2.txt'\n",
    "dir_name = os.path.join(pate, 'test2.txt')\n",
    "\n",
    "# 재확인\n",
    "if not os.path.exists(dir_name):\n",
    "    with open(dir_name, 'w') as f:\n",
    "        #...\n",
    "# 없으면 열어서 쓰는 거니까 덮어쓸 가능성 배제"
   ]
  },
  {
   "cell_type": "markdown",
   "id": "ddf2a4d1-4ed6-46c6-b951-8a82fd1a962d",
   "metadata": {},
   "source": [
    "---"
   ]
  },
  {
   "cell_type": "markdown",
   "id": "de5c1dfc-38cc-40d6-b8c0-dcd8af43060c",
   "metadata": {},
   "source": [
    "## 5. 지우기\n",
    "- os.remove(파일 이름)\n",
    "- os.rmdir(폴더 이름)\n",
    "    - 폴더 안에 파일이 있으면 삭제 불가"
   ]
  },
  {
   "cell_type": "code",
   "execution_count": null,
   "id": "8e10c165-9d92-46c4-91e2-9b219042c331",
   "metadata": {},
   "outputs": [],
   "source": [
    "# 폴더 안에 파일이 있어도 삭제\n",
    "import shutil\n",
    "shutil.rmtree(dir_name)"
   ]
  },
  {
   "cell_type": "markdown",
   "id": "154341ac-4c76-4ec0-b7d8-4d8b6db35821",
   "metadata": {},
   "source": [
    "---"
   ]
  },
  {
   "cell_type": "markdown",
   "id": "68bc5946-dc8f-4641-af26-19465ea08c64",
   "metadata": {},
   "source": [
    "## 실습\n",
    "- 폴더 없으면 만들고 있으면 써라\n",
    "- 파일에 내용 쓰기\n",
    "- 파일 열기"
   ]
  },
  {
   "cell_type": "code",
   "execution_count": 73,
   "id": "89e44526-83d9-4c4c-9166-e48e7e776371",
   "metadata": {},
   "outputs": [],
   "source": [
    "import os\n",
    "path = 'hufs'\n",
    "\n",
    "if not os.path.isdir(path):\n",
    "    os.mkdir(path)\n",
    "    \n",
    "with open('./hufs/test3.txt', 'w', encoding='utf-8') as f:\n",
    "        data = 'come to hufs, meet the world'\n",
    "        f.write(data)"
   ]
  },
  {
   "cell_type": "code",
   "execution_count": 74,
   "id": "09a54a77-91ee-4a71-8aae-cf8b5dccb4e0",
   "metadata": {},
   "outputs": [
    {
     "name": "stdout",
     "output_type": "stream",
     "text": [
      "come to hufs, meet the world\n"
     ]
    }
   ],
   "source": [
    "file = './hufs/test3.txt'\n",
    "with open(file, 'r', encoding='utf-8') as f:\n",
    "    print(f.read())"
   ]
  },
  {
   "cell_type": "markdown",
   "id": "9397c1b2-3c0b-4b82-b386-b739bcd7ffb3",
   "metadata": {},
   "source": [
    "---"
   ]
  },
  {
   "cell_type": "markdown",
   "id": "f71b4f75-9b6e-4d7d-bfb8-60641baa9bd4",
   "metadata": {},
   "source": [
    "## 6. os"
   ]
  },
  {
   "cell_type": "code",
   "execution_count": 75,
   "id": "4055031c-0053-49a1-818f-d139d40c611b",
   "metadata": {},
   "outputs": [
    {
     "data": {
      "text/plain": [
       "'C:\\\\Users\\\\KBS\\\\고급파이썬\\\\1. 복습'"
      ]
     },
     "execution_count": 75,
     "metadata": {},
     "output_type": "execute_result"
    }
   ],
   "source": [
    "# 현재 디렉터리 확인\n",
    "os.getcwd()"
   ]
  },
  {
   "cell_type": "code",
   "execution_count": null,
   "id": "32e40071-da8e-4c2c-ac0e-f4d3cc180de8",
   "metadata": {},
   "outputs": [],
   "source": [
    "# 상위로 가고 싶은 경우\n",
    "# 디렉터리를 체인지하면 됨\n",
    "os.chdir('..')"
   ]
  },
  {
   "cell_type": "markdown",
   "id": "9ae3dee5-9668-4201-a93d-b141d35043e9",
   "metadata": {},
   "source": [
    "---"
   ]
  },
  {
   "cell_type": "markdown",
   "id": "2277151e-492d-47b9-901b-dbc05cede4da",
   "metadata": {},
   "source": [
    "## 7. pickle\n",
    "- 텍스트만 파일에 저장했다면 객체(리스트, 클래스 다 됨)를 파일로 저장하는 기능 제공\n",
    "- 확장자가 다름\n",
    "- 바이너리로 써야함\n"
   ]
  },
  {
   "cell_type": "code",
   "execution_count": 77,
   "id": "60fba495-e0ad-40ff-b70c-78f3e81500cf",
   "metadata": {},
   "outputs": [],
   "source": [
    "import pickle\n",
    "\n",
    "nums = list(range(10))\n",
    "\n",
    "# 위 리스트 담기\n",
    "with open('test.pickle', 'wb') as f:\n",
    "    pickle.dump(nums, f)"
   ]
  },
  {
   "cell_type": "code",
   "execution_count": 78,
   "id": "a4aef893-a753-44f1-99fb-558b3c18c966",
   "metadata": {},
   "outputs": [],
   "source": [
    "# 읽기\n",
    "with open('test.pickle', 'rb') as f:\n",
    "    number = pickle.load(f)"
   ]
  },
  {
   "cell_type": "code",
   "execution_count": 79,
   "id": "45e30f5a-7492-4785-b878-724d45caa569",
   "metadata": {
    "tags": []
   },
   "outputs": [
    {
     "data": {
      "text/plain": [
       "[0, 1, 2, 3, 4, 5, 6, 7, 8, 9]"
      ]
     },
     "execution_count": 79,
     "metadata": {},
     "output_type": "execute_result"
    }
   ],
   "source": [
    "number"
   ]
  }
 ],
 "metadata": {
  "kernelspec": {
   "display_name": "Python 3 (ipykernel)",
   "language": "python",
   "name": "python3"
  },
  "language_info": {
   "codemirror_mode": {
    "name": "ipython",
    "version": 3
   },
   "file_extension": ".py",
   "mimetype": "text/x-python",
   "name": "python",
   "nbconvert_exporter": "python",
   "pygments_lexer": "ipython3",
   "version": "3.9.7"
  }
 },
 "nbformat": 4,
 "nbformat_minor": 5
}
