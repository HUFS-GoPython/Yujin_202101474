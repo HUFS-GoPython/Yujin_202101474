{
 "cells": [
  {
   "cell_type": "markdown",
   "id": "601245d6-f4f1-41e0-95c7-41d83081a604",
   "metadata": {},
   "source": [
    "# Ch02. Variable"
   ]
  },
  {
   "cell_type": "markdown",
   "id": "c76bf122-f5d3-4fb2-8a16-9fd18a3480b9",
   "metadata": {},
   "source": [
    "- 두 개 이상의 변수에 동시에 값 지정 가능"
   ]
  },
  {
   "cell_type": "code",
   "execution_count": 1,
   "id": "8a26c401-b701-4bfd-8d5f-0e17fa38c8e3",
   "metadata": {},
   "outputs": [
    {
     "data": {
      "text/plain": [
       "2"
      ]
     },
     "execution_count": 1,
     "metadata": {},
     "output_type": "execute_result"
    }
   ],
   "source": [
    "two = deux = dos = 2 # 할당되는 순서는 마지막에서 부터\n",
    "two"
   ]
  },
  {
   "cell_type": "code",
   "execution_count": 5,
   "id": "007324bd-c415-4bd8-a210-9ec9c6129a4f",
   "metadata": {},
   "outputs": [
    {
     "name": "stdout",
     "output_type": "stream",
     "text": [
      "4 2\n"
     ]
    }
   ],
   "source": [
    "two = 4 \n",
    "print(two, deux) # int는 불변객체이므로 바뀌지 않음"
   ]
  },
  {
   "cell_type": "code",
   "execution_count": 7,
   "id": "eaf58bfc-8e3f-43e1-9668-3e7f7e0bf91d",
   "metadata": {},
   "outputs": [
    {
     "data": {
      "text/plain": [
       "(1640852777360, 1640852777296)"
      ]
     },
     "execution_count": 7,
     "metadata": {},
     "output_type": "execute_result"
    }
   ],
   "source": [
    "id(two), id(deux) # id도 다름"
   ]
  },
  {
   "cell_type": "code",
   "execution_count": 9,
   "id": "81ff4b84-0a6f-4e5e-b39a-1d052d7a07da",
   "metadata": {},
   "outputs": [
    {
     "data": {
      "text/plain": [
       "([1, 2, 3], [1, 2, 3])"
      ]
     },
     "execution_count": 9,
     "metadata": {},
     "output_type": "execute_result"
    }
   ],
   "source": [
    "p = [1, 2, 3]\n",
    "q = p\n",
    "p, q"
   ]
  },
  {
   "cell_type": "code",
   "execution_count": 13,
   "id": "0ffd65c9-d887-410e-949e-370b522cbbaf",
   "metadata": {},
   "outputs": [
    {
     "data": {
      "text/plain": [
       "([9, 2, 3], [9, 2, 3])"
      ]
     },
     "execution_count": 13,
     "metadata": {},
     "output_type": "execute_result"
    }
   ],
   "source": [
    "p[0] = 9 # 리스트는 가변객체이므로 바뀜, 아이디도 동일\n",
    "p, q"
   ]
  },
  {
   "cell_type": "markdown",
   "id": "a98baf94-3cf9-4cf8-8de3-3ed8f64328c6",
   "metadata": {},
   "source": [
    "## 자료형 변환, 형 변환\n",
    "- str(변환할 값), int(), float(), bool()"
   ]
  },
  {
   "cell_type": "code",
   "execution_count": 14,
   "id": "05508e6e-73c7-472c-a80a-45826028320d",
   "metadata": {},
   "outputs": [],
   "source": [
    "a = 10"
   ]
  },
  {
   "cell_type": "code",
   "execution_count": 15,
   "id": "67c3f94d-ba6c-432d-b0b5-085435341b95",
   "metadata": {},
   "outputs": [
    {
     "data": {
      "text/plain": [
       "'10'"
      ]
     },
     "execution_count": 15,
     "metadata": {},
     "output_type": "execute_result"
    }
   ],
   "source": [
    "# str\n",
    "str(a)"
   ]
  },
  {
   "cell_type": "code",
   "execution_count": 16,
   "id": "6143b907-effb-494b-9feb-810613885caf",
   "metadata": {},
   "outputs": [
    {
     "data": {
      "text/plain": [
       "10.0"
      ]
     },
     "execution_count": 16,
     "metadata": {},
     "output_type": "execute_result"
    }
   ],
   "source": [
    "# float\n",
    "float(a)"
   ]
  },
  {
   "cell_type": "code",
   "execution_count": 18,
   "id": "87e96627-bd5e-41a3-aec3-bdc0e1a879cd",
   "metadata": {},
   "outputs": [
    {
     "data": {
      "text/plain": [
       "True"
      ]
     },
     "execution_count": 18,
     "metadata": {},
     "output_type": "execute_result"
    }
   ],
   "source": [
    "#bool\n",
    "bool(a) # 어떤 값이 false인지 알기"
   ]
  },
  {
   "cell_type": "markdown",
   "id": "fccead68-79c1-4bdd-a289-08a944263310",
   "metadata": {},
   "source": [
    "- 주의할 점1 : float -> int"
   ]
  },
  {
   "cell_type": "code",
   "execution_count": 19,
   "id": "247852bf-60f8-4511-aa10-e97a608ca508",
   "metadata": {},
   "outputs": [
    {
     "data": {
      "text/plain": [
       "10"
      ]
     },
     "execution_count": 19,
     "metadata": {},
     "output_type": "execute_result"
    }
   ],
   "source": [
    "x = 10.7 \n",
    "int(x) # 소수점 아래는 사라짐"
   ]
  },
  {
   "cell_type": "code",
   "execution_count": 20,
   "id": "ccc110c7-0e16-4c0f-8de6-b9ee721e5411",
   "metadata": {},
   "outputs": [
    {
     "name": "stdout",
     "output_type": "stream",
     "text": [
      "30\n",
      "29\n"
     ]
    }
   ],
   "source": [
    "y = 19.8\n",
    "\n",
    "print(int(x + y))\n",
    "print(int(x) + int(y)) #하면 값이 다르게 나오니 주의"
   ]
  },
  {
   "cell_type": "markdown",
   "id": "87d01c74-4666-4433-a0d2-1d6737f52d86",
   "metadata": {},
   "source": [
    "- 주의할 점2 : str -> int/float"
   ]
  },
  {
   "cell_type": "code",
   "execution_count": 22,
   "id": "5f1a9e75-d744-46ec-ba22-a789e0b824ab",
   "metadata": {},
   "outputs": [
    {
     "data": {
      "text/plain": [
       "(10, 10.0)"
      ]
     },
     "execution_count": 22,
     "metadata": {},
     "output_type": "execute_result"
    }
   ],
   "source": [
    "i = '10'\n",
    "int(i), float(i)"
   ]
  },
  {
   "cell_type": "code",
   "execution_count": 24,
   "id": "9303d8be-9e7b-4a9f-8476-26b90c014d2e",
   "metadata": {},
   "outputs": [
    {
     "ename": "ValueError",
     "evalue": "invalid literal for int() with base 10: '10.7'",
     "output_type": "error",
     "traceback": [
      "\u001b[1;31m---------------------------------------------------------------------------\u001b[0m",
      "\u001b[1;31mValueError\u001b[0m                                Traceback (most recent call last)",
      "\u001b[1;32m~\\AppData\\Local\\Temp/ipykernel_15496/2080148656.py\u001b[0m in \u001b[0;36m<module>\u001b[1;34m\u001b[0m\n\u001b[0;32m      1\u001b[0m \u001b[0mj\u001b[0m \u001b[1;33m=\u001b[0m \u001b[1;34m'10.7'\u001b[0m\u001b[1;33m\u001b[0m\u001b[1;33m\u001b[0m\u001b[0m\n\u001b[1;32m----> 2\u001b[1;33m \u001b[0mint\u001b[0m\u001b[1;33m(\u001b[0m\u001b[0mj\u001b[0m\u001b[1;33m)\u001b[0m \u001b[1;31m# int와 맞지 않는 str을 바꾸려고 하면 에러남\u001b[0m\u001b[1;33m\u001b[0m\u001b[1;33m\u001b[0m\u001b[0m\n\u001b[0m",
      "\u001b[1;31mValueError\u001b[0m: invalid literal for int() with base 10: '10.7'"
     ]
    }
   ],
   "source": [
    "j = '10.7'\n",
    "int(j) # int와 맞지 않는 str을 바꾸려고 하면 에러남"
   ]
  },
  {
   "cell_type": "markdown",
   "id": "7a1911e8-f60d-46be-b676-90a751b34852",
   "metadata": {},
   "source": [
    "## 꿀팁 print()"
   ]
  },
  {
   "cell_type": "code",
   "execution_count": 27,
   "id": "c7c4dc51-1bbe-40cc-a515-e7298923ad2b",
   "metadata": {},
   "outputs": [
    {
     "name": "stdout",
     "output_type": "stream",
     "text": [
      "dogcatlion\n",
      "dog cat lion\n"
     ]
    }
   ],
   "source": [
    "dog = 'dog'\n",
    "cat = 'cat'\n",
    "lion = 'lion'\n",
    "\n",
    "print(dog + cat + lion) # space X, \\n\n",
    "print(dog, cat, lion) # space O, \\n"
   ]
  },
  {
   "cell_type": "code",
   "execution_count": 30,
   "id": "5bf0715a-ccb9-46ef-99e7-b1d894011fe6",
   "metadata": {},
   "outputs": [
    {
     "name": "stdout",
     "output_type": "stream",
     "text": [
      "dog cat lion\n",
      "dog/cat/lion\n",
      "\n"
     ]
    }
   ],
   "source": [
    "print(dog, cat, lion, sep=' ', end='\\n') # default 값 \n",
    "print(dog, cat, lion, sep='/', end='\\n\\n')"
   ]
  },
  {
   "cell_type": "code",
   "execution_count": 34,
   "id": "1cecf216-dd56-43c9-892f-7573d07fa484",
   "metadata": {},
   "outputs": [
    {
     "name": "stdout",
     "output_type": "stream",
     "text": [
      "My favorite animal is dog\n",
      "My favorite animal is dog.\n"
     ]
    }
   ],
   "source": [
    "# 문자열이랑 변수 출력\n",
    "#1. \n",
    "print('My favorite animal is', dog)\n",
    "#2.\n",
    "print(f'My favorite animal is {dog}.')"
   ]
  },
  {
   "cell_type": "markdown",
   "id": "9e37a6db-dc9a-4ac3-94da-f75ce07135cc",
   "metadata": {},
   "source": [
    "- 코드 줄이 짧을 때 ;을 이용해 한 줄로 쓸 수 있다"
   ]
  },
  {
   "cell_type": "code",
   "execution_count": 35,
   "id": "c64525e4-b034-4e2a-be29-302e971c6197",
   "metadata": {},
   "outputs": [
    {
     "name": "stdout",
     "output_type": "stream",
     "text": [
      "dog cat lion\n"
     ]
    }
   ],
   "source": [
    "dog = 'dog'; cat = 'cat'; lion = 'lion'\n",
    "print(dog, cat, lion)"
   ]
  },
  {
   "cell_type": "markdown",
   "id": "a0aecee0-72c1-46f0-8346-08eb17b29602",
   "metadata": {},
   "source": [
    "## input() 함수\n",
    "- console에서 사용자가 입력하는 값을 받을 수 있는 함수\n",
    "- 입력받은 값은 문자열(str)으로 인식\n",
    "- 입력받은 값을 변수에 담아서 사용, 그렇지 않으면 사라짐\n",
    "- 숫자가 필요할 경우, 형 변환을 해준다"
   ]
  },
  {
   "cell_type": "code",
   "execution_count": 36,
   "id": "fbf82e84-7e8e-4158-b75f-322666dafa41",
   "metadata": {},
   "outputs": [
    {
     "name": "stdin",
     "output_type": "stream",
     "text": [
      "나이? 22\n"
     ]
    },
    {
     "data": {
      "text/plain": [
       "22"
      ]
     },
     "execution_count": 36,
     "metadata": {},
     "output_type": "execute_result"
    }
   ],
   "source": [
    "int(input('나이?'))"
   ]
  },
  {
   "cell_type": "markdown",
   "id": "39373625-324b-4017-9d70-a2caf86ab479",
   "metadata": {},
   "source": [
    "- 입력받은 값을 변수에 할당하는 방법"
   ]
  },
  {
   "cell_type": "code",
   "execution_count": 38,
   "id": "b77f8158-f776-463d-94aa-02932418c2bc",
   "metadata": {},
   "outputs": [
    {
     "name": "stdin",
     "output_type": "stream",
     "text": [
      "나이? 22\n"
     ]
    }
   ],
   "source": [
    "#1. \n",
    "age = input('나이?')"
   ]
  },
  {
   "cell_type": "code",
   "execution_count": 39,
   "id": "98f2da04-4e61-4a54-ada2-09254d57052f",
   "metadata": {},
   "outputs": [
    {
     "data": {
      "text/plain": [
       "'22'"
      ]
     },
     "execution_count": 39,
     "metadata": {},
     "output_type": "execute_result"
    }
   ],
   "source": [
    "age"
   ]
  },
  {
   "cell_type": "code",
   "execution_count": 41,
   "id": "34195237-531b-4ea9-b4cd-aa49ea1d9b0c",
   "metadata": {},
   "outputs": [
    {
     "name": "stdout",
     "output_type": "stream",
     "text": [
      "나이?\n"
     ]
    },
    {
     "name": "stdin",
     "output_type": "stream",
     "text": [
      " 22\n"
     ]
    }
   ],
   "source": [
    "#2.\n",
    "print('나이?')\n",
    "age = input()"
   ]
  },
  {
   "cell_type": "code",
   "execution_count": 42,
   "id": "070703a0-84d3-4a6e-bf78-7931f16d07e6",
   "metadata": {
    "tags": []
   },
   "outputs": [
    {
     "data": {
      "text/plain": [
       "'22'"
      ]
     },
     "execution_count": 42,
     "metadata": {},
     "output_type": "execute_result"
    }
   ],
   "source": [
    "age"
   ]
  },
  {
   "cell_type": "markdown",
   "id": "70b4d60c-60d3-4b50-9c69-d498747492d5",
   "metadata": {},
   "source": [
    "## Quiz 1\n",
    "- 섭씨를 입력 받아서 화씨로 변환하기\n",
    "- 섭씨 * 1.8 + 32 = 화씨"
   ]
  },
  {
   "cell_type": "code",
   "execution_count": 44,
   "id": "05df3719-e8fe-4351-8239-d6517c957e64",
   "metadata": {},
   "outputs": [
    {
     "name": "stdin",
     "output_type": "stream",
     "text": [
      "섭씨 온도 입력 :  18.6\n"
     ]
    },
    {
     "name": "stdout",
     "output_type": "stream",
     "text": [
      "화씨 온도는 65.48도 입니다.\n"
     ]
    }
   ],
   "source": [
    "celsius = float(input('섭씨 온도 입력 : '))\n",
    "fahrenheit = celsius * 1.8 + 32\n",
    "print(f'화씨 온도는 {fahrenheit}도 입니다.')"
   ]
  },
  {
   "cell_type": "markdown",
   "id": "e5d6f18d-3472-4efc-b219-3238bf68ea4b",
   "metadata": {},
   "source": [
    "## Quiz 2\n",
    "- 택배 정보 입력 받고, 총 합계 계산하기\n",
    "- 출력값:\n",
    "    - '==택배정보=='\n",
    "    - 수취인 성명:<이름>\n",
    "    - 수취인 주소:<주소>\n",
    "    - 배송비:3000원\n",
    "    - 물건비용:<가격>원\n",
    "    - 총 합계:<가격>원\n",
    "- 물건 비용 = 무게(g) * 5\n",
    "- 합계 = 배송비 + 물건비용"
   ]
  },
  {
   "cell_type": "code",
   "execution_count": 47,
   "id": "f836d5e0-4268-4b94-b0f9-57abcb9ed10c",
   "metadata": {},
   "outputs": [
    {
     "name": "stdout",
     "output_type": "stream",
     "text": [
      "==택배 정보==\n"
     ]
    },
    {
     "name": "stdin",
     "output_type": "stream",
     "text": [
      "이름: 박유진\n",
      "주소: 서울\n",
      "물건의 무게: 800\n"
     ]
    },
    {
     "name": "stdout",
     "output_type": "stream",
     "text": [
      "물건 비용: 4000.0원\n",
      "합계: 7000.0원\n"
     ]
    }
   ],
   "source": [
    "print('==택배 정보==')\n",
    "\n",
    "name = input('이름:')\n",
    "address = input('주소:')\n",
    "weight = float(input('물건의 무게:'))\n",
    "\n",
    "deliveryFee = 3000\n",
    "cost = weight * 5\n",
    "total = deliveryFee + cost\n",
    "\n",
    "print(f'물건 비용: {cost}원')\n",
    "print(f'합계: {total}원')"
   ]
  },
  {
   "cell_type": "markdown",
   "id": "db9003ee-e933-4f5a-a396-f99e3fbf19ab",
   "metadata": {},
   "source": [
    "# Ch03. Numbers"
   ]
  },
  {
   "cell_type": "markdown",
   "id": "81bfa3bb-73c7-4e2b-a67d-a695ca662bb9",
   "metadata": {},
   "source": [
    "### boolean\n",
    "- 형 변활할 때 True, False인지 기억하기\n",
    "- False인 경우 : ' ', None, 0...\n",
    "- 조건식에서 많이 사용 ex) 만약 이 조건이 True라면.."
   ]
  },
  {
   "cell_type": "code",
   "execution_count": 48,
   "id": "881e86a0-a90b-4e52-977e-67a2d97b28c7",
   "metadata": {},
   "outputs": [
    {
     "data": {
      "text/plain": [
       "True"
      ]
     },
     "execution_count": 48,
     "metadata": {},
     "output_type": "execute_result"
    }
   ],
   "source": [
    "bool(1)"
   ]
  },
  {
   "cell_type": "code",
   "execution_count": 49,
   "id": "503d6a7c-18ff-4510-9403-f9c3a3324f72",
   "metadata": {},
   "outputs": [
    {
     "data": {
      "text/plain": [
       "False"
      ]
     },
     "execution_count": 49,
     "metadata": {},
     "output_type": "execute_result"
    }
   ],
   "source": [
    "bool()"
   ]
  },
  {
   "cell_type": "markdown",
   "id": "b730bd47-6f89-44ae-9d52-36590c9c185f",
   "metadata": {},
   "source": [
    "### integer\n",
    "- 소수점 없음\n",
    "- default 양수, 음수일 경우 앞에 -붇이기\n",
    "- 숫자 앞에는 0을 붙일 수 없음\n",
    "    - 예외) 0bxxx -> 다른 진수 표현법 \n",
    "    - 우리는 10진수만 사용\n",
    "- 리터럴 : 4\n",
    "- 공백은 무시가 된다\n",
    "- 10,000원 -> 10, 000 두 개로 인식 -> _사용 10_000"
   ]
  },
  {
   "cell_type": "code",
   "execution_count": 50,
   "id": "f01eef0c-af8e-4019-9dec-70964b582f25",
   "metadata": {},
   "outputs": [
    {
     "data": {
      "text/plain": [
       "-1"
      ]
     },
     "execution_count": 50,
     "metadata": {},
     "output_type": "execute_result"
    }
   ],
   "source": [
    "a = -9\n",
    "8 + a"
   ]
  },
  {
   "cell_type": "code",
   "execution_count": 51,
   "id": "7b7378b7-853b-4722-af89-5a4d404fd0f3",
   "metadata": {},
   "outputs": [
    {
     "data": {
      "text/plain": [
       "10000"
      ]
     },
     "execution_count": 51,
     "metadata": {},
     "output_type": "execute_result"
    }
   ],
   "source": [
    "a = 10_000\n",
    "a"
   ]
  },
  {
   "cell_type": "markdown",
   "id": "2829827d-6cc5-4e1b-bcf1-89af4ca72c0a",
   "metadata": {},
   "source": [
    "### 연산\n",
    "- 연산자|operator : +, -..\n",
    "- 피연산자|operand : 4, 86..\n",
    "- 수식|expression"
   ]
  },
  {
   "cell_type": "code",
   "execution_count": 52,
   "id": "98863361-dac1-4a77-bbc2-0969dff9ba87",
   "metadata": {},
   "outputs": [
    {
     "data": {
      "text/plain": [
       "(13, -5, 36, 0.4444444444444444, 262144)"
      ]
     },
     "execution_count": 52,
     "metadata": {},
     "output_type": "execute_result"
    }
   ],
   "source": [
    "x = 4\n",
    "y = 9\n",
    "\n",
    "x + y, x - y, x * y, x / y, x ** y # 거듭제곱|exponential"
   ]
  },
  {
   "cell_type": "markdown",
   "id": "99fc1a28-0c28-4b1a-a4e5-bbb795dbad66",
   "metadata": {},
   "source": [
    "- 나눗셈 주의사항\n",
    "    - 0으로 나눌 수 없다 (y!=0)\n",
    "    - 몫 //, 나머지 %"
   ]
  },
  {
   "cell_type": "code",
   "execution_count": 53,
   "id": "4876a3f1-5aef-40f8-983e-c8d15fd88299",
   "metadata": {},
   "outputs": [
    {
     "data": {
      "text/plain": [
       "(0, 4)"
      ]
     },
     "execution_count": 53,
     "metadata": {},
     "output_type": "execute_result"
    }
   ],
   "source": [
    "x // y, x % y"
   ]
  },
  {
   "cell_type": "code",
   "execution_count": 54,
   "id": "5a8e7cc0-cdb6-4922-8eab-bb5e3fefbe8c",
   "metadata": {},
   "outputs": [
    {
     "data": {
      "text/plain": [
       "(0, 4)"
      ]
     },
     "execution_count": 54,
     "metadata": {},
     "output_type": "execute_result"
    }
   ],
   "source": [
    "# 몫과 나머지 출력\n",
    "divmod(x, y)"
   ]
  },
  {
   "cell_type": "markdown",
   "id": "77a08e24-d942-406f-a118-cddca0dbf235",
   "metadata": {},
   "source": [
    "### 복합 대입연산자|compound assignment operator"
   ]
  },
  {
   "cell_type": "code",
   "execution_count": 56,
   "id": "8200f03f-9cd4-4348-9ca6-3c1e02eacd68",
   "metadata": {},
   "outputs": [
    {
     "data": {
      "text/plain": [
       "5"
      ]
     },
     "execution_count": 56,
     "metadata": {},
     "output_type": "execute_result"
    }
   ],
   "source": [
    "a = 5\n",
    "a - 3\n",
    "a # 불변객체"
   ]
  },
  {
   "cell_type": "code",
   "execution_count": 59,
   "id": "f9a28168-b007-4c74-8a99-49199c1c9691",
   "metadata": {},
   "outputs": [],
   "source": [
    "a = a - 3\n",
    "#세 가지 스텝을 거침\n",
    "#1. a - 3 계산\n",
    "#2. 임시변수 temp = a - 3\n",
    "#3. a = a - 3\n",
    "\n",
    "# 줄여서 사용 -> 복합대입연산자\n",
    "a -= 3\n",
    "a += 3\n",
    "a *= 3\n",
    "a /= 3 "
   ]
  },
  {
   "cell_type": "code",
   "execution_count": 61,
   "id": "0731c0f3-b59a-49b6-9f9f-49a72c649ce2",
   "metadata": {},
   "outputs": [
    {
     "ename": "NameError",
     "evalue": "name 'u' is not defined",
     "output_type": "error",
     "traceback": [
      "\u001b[1;31m---------------------------------------------------------------------------\u001b[0m",
      "\u001b[1;31mNameError\u001b[0m                                 Traceback (most recent call last)",
      "\u001b[1;32m~\\AppData\\Local\\Temp/ipykernel_15496/3968551018.py\u001b[0m in \u001b[0;36m<module>\u001b[1;34m\u001b[0m\n\u001b[1;32m----> 1\u001b[1;33m \u001b[0mu\u001b[0m \u001b[1;33m=\u001b[0m \u001b[0mu\u001b[0m \u001b[1;33m+\u001b[0m \u001b[1;36m1\u001b[0m \u001b[1;31m# u라는 값을 초기화 하지 않았기 때문에 오류, 값 초기화 할 것!\u001b[0m\u001b[1;33m\u001b[0m\u001b[1;33m\u001b[0m\u001b[0m\n\u001b[0m",
      "\u001b[1;31mNameError\u001b[0m: name 'u' is not defined"
     ]
    }
   ],
   "source": [
    "u = u + 1 # u라는 값을 초기화 하지 않았기 때문에 오류, 값 초기화 할 것!"
   ]
  },
  {
   "cell_type": "markdown",
   "id": "b1870cdd-3a36-499f-bbd6-84fb8bf32e22",
   "metadata": {},
   "source": [
    "## Quiz1.\n",
    "- 정수를 입력 받고 3의 배수인지 확인\n",
    "- \" 홀수인지 확인"
   ]
  },
  {
   "cell_type": "code",
   "execution_count": 2,
   "id": "daf8299e-7406-4072-95f3-65140000a27e",
   "metadata": {},
   "outputs": [
    {
     "name": "stdin",
     "output_type": "stream",
     "text": [
      "정수 입력: 7\n"
     ]
    },
    {
     "data": {
      "text/plain": [
       "False"
      ]
     },
     "execution_count": 2,
     "metadata": {},
     "output_type": "execute_result"
    }
   ],
   "source": [
    "number = int(input('정수 입력:'))\n",
    "number % 3 == 0"
   ]
  },
  {
   "cell_type": "code",
   "execution_count": 4,
   "id": "a683f8e5-48b8-408a-a283-14ed4773cacb",
   "metadata": {},
   "outputs": [
    {
     "data": {
      "text/plain": [
       "True"
      ]
     },
     "execution_count": 4,
     "metadata": {},
     "output_type": "execute_result"
    }
   ],
   "source": [
    "number % 2 == 1"
   ]
  },
  {
   "cell_type": "markdown",
   "id": "c7d602eb-450f-4b53-8825-eaadeff5a697",
   "metadata": {},
   "source": [
    "### 지수표현\n",
    "- e, E 둘 다 가능\n",
    "- 앞부분은 float, int가 올 수 있음\n",
    "- 뒷부분은 int만 가능\n",
    "    - 뒷부분이 양수면 소수점이 뒤로\n",
    "    - 음수면 소수점이 앞으로"
   ]
  },
  {
   "cell_type": "code",
   "execution_count": 9,
   "id": "b2be5eca-5a07-41c6-9932-31ba95afa69e",
   "metadata": {},
   "outputs": [
    {
     "data": {
      "text/plain": [
       "0.000789"
      ]
     },
     "execution_count": 9,
     "metadata": {},
     "output_type": "execute_result"
    }
   ],
   "source": [
    "7.89e-4 #0.000789 지수표현"
   ]
  },
  {
   "cell_type": "markdown",
   "id": "02a55aae-421b-4a34-8f6b-aff440db27ac",
   "metadata": {},
   "source": [
    "# Ch04. 조건문, if"
   ]
  },
  {
   "cell_type": "markdown",
   "id": "971558c2-df4e-43be-9f4c-e84a3ac9e27f",
   "metadata": {},
   "source": [
    "## 코드 짜는 룰\n",
    "- 주석 다는 법\n",
    "    - 설명하는 부분\n",
    "    - 목적 : 의도표현, 의사소통을 위해\n",
    "    - '#' hash/sharp 기호 사용\n",
    "    - 시작된 부분부터 그 라인 끝까지가 주석처리\n",
    "    - 문자열 안에 들어있는 #는 문자열로 인식\n",
    "    - 주석을 길게 달고 싶을 경우, \"\"\"주석\"\"\"(작은 따옴표도 가능) 사용\n",
    "- 라인 유지하기\n",
    "    - 들여쓰기, 공백 4개, 탭 1개\n",
    "    - 한 줄에 최대 80자 넘지 않게 작성, 만약 넘는다면 \\로 끊기"
   ]
  },
  {
   "cell_type": "code",
   "execution_count": 16,
   "id": "b3b6aeb0-77cb-4b90-9ee0-b6267c3fa764",
   "metadata": {},
   "outputs": [],
   "source": [
    "a = 3 # 여기서부터 주석 처리"
   ]
  },
  {
   "cell_type": "code",
   "execution_count": 23,
   "id": "a87f60a1-35f9-478f-ae68-6b413fb2828d",
   "metadata": {},
   "outputs": [
    {
     "data": {
      "text/plain": [
       "'hey ##'"
      ]
     },
     "execution_count": 23,
     "metadata": {},
     "output_type": "execute_result"
    }
   ],
   "source": [
    "ex = 'hey ##' \n",
    "ex"
   ]
  },
  {
   "cell_type": "markdown",
   "id": "7db99365-b6df-4ae3-8a84-bbf1eeddb06a",
   "metadata": {},
   "source": [
    "- 조건 1개 (if와 조건식 사이 space/조건식과 :사이 띄지 않기)\n",
    "\n",
    "    if <조건식>:\n",
    "        <실행코드>"
   ]
  },
  {
   "cell_type": "code",
   "execution_count": 25,
   "id": "1118b448-739b-4805-ae3e-b2bfe6a15066",
   "metadata": {},
   "outputs": [
    {
     "name": "stdout",
     "output_type": "stream",
     "text": [
      "Yaay!\n"
     ]
    }
   ],
   "source": [
    "if 4 != 9: # 조건이 맞으므로 코드 실행됨\n",
    "    print('Yaay!')"
   ]
  },
  {
   "cell_type": "markdown",
   "id": "397b1fe1-361a-4237-b80e-0cd7e19ac43d",
   "metadata": {},
   "source": [
    "- 조건 2개\n",
    "\n",
    "    if <조건식1>:\n",
    "        <실행코드1>\n",
    "    else:\n",
    "        <실행코드2>\n"
   ]
  },
  {
   "cell_type": "code",
   "execution_count": 26,
   "id": "bf99fcdf-b434-4b33-aa6f-f1219caadafa",
   "metadata": {},
   "outputs": [
    {
     "name": "stdout",
     "output_type": "stream",
     "text": [
      "Hey!\n"
     ]
    }
   ],
   "source": [
    "if 4 == 9: \n",
    "    print('Yaay!')\n",
    "else:\n",
    "    print('Hey!')"
   ]
  },
  {
   "cell_type": "markdown",
   "id": "590ab681-248e-4d47-b0ed-1dd311aa8aaa",
   "metadata": {},
   "source": [
    "- 조건 3개 이상\n",
    "\n",
    "    if <조건식1>:\n",
    "        <실행코드1>\n",
    "    elif <조건식2>:\n",
    "        <실행코드2>\n",
    "    ....여러 elif\n",
    "    \n",
    "    else:\n",
    "        <실행코드3>"
   ]
  },
  {
   "cell_type": "markdown",
   "id": "26acdf20-c88d-4ec6-8578-96f3693ae36d",
   "metadata": {},
   "source": [
    "## 비교연산자\n",
    "- x < y, x <= y\n",
    "- x > y, x >= y\n",
    "- x == y (값이 같은 것)\n",
    "- x != y (값이 다른 것\n",
    "- x is y (값, 메모리주소 같은 것)\n",
    "- x is not y (값, 메모리주소 다른 것)"
   ]
  },
  {
   "cell_type": "markdown",
   "id": "2b231421-0ad4-4858-a6e3-a51cd563f62a",
   "metadata": {},
   "source": [
    "## Quiz1.\n",
    "- 학점 부여하기\n",
    "- 학점을 입력받아서\n",
    "    - 90점 이상 A\n",
    "    - 80 B\n",
    "    - 70 C\n",
    "    - 그 외 D\n",
    "- 변수 설정 유의"
   ]
  },
  {
   "cell_type": "code",
   "execution_count": 34,
   "id": "21f9958a-c919-4b52-a353-f2bbf3525d52",
   "metadata": {},
   "outputs": [
    {
     "name": "stdin",
     "output_type": "stream",
     "text": [
      "점수 입력: 79.8\n"
     ]
    },
    {
     "name": "stdout",
     "output_type": "stream",
     "text": [
      "79.8점으로 학점은 C입니다.\n"
     ]
    }
   ],
   "source": [
    "score = float(input('점수 입력:'))\n",
    "\n",
    "if score >= 90:\n",
    "    grade = 'A'\n",
    "elif score >= 80:\n",
    "    grade = 'B'\n",
    "elif score >= 70:\n",
    "    grade = 'C'\n",
    "else:\n",
    "    grade = 'D'\n",
    "    \n",
    "print(f'{score}점으로 학점은 {grade}입니다.')\n"
   ]
  },
  {
   "cell_type": "markdown",
   "id": "dd52bc40-d570-4561-836f-b8eadf4f1aa9",
   "metadata": {},
   "source": [
    "## Quiz2.\n",
    "- 아이디와 비번을 입력 받아, 둘 다 일치하면 로그인\n",
    "- 아이디, 비번 각자 정해놓기\n",
    "- 일치하지 않을 경우 각자 알아서 반환"
   ]
  },
  {
   "cell_type": "code",
   "execution_count": 40,
   "id": "bd48cc04-d93b-4c76-acea-cdb84d1dacc9",
   "metadata": {},
   "outputs": [
    {
     "name": "stdin",
     "output_type": "stream",
     "text": [
      "아이디: 유진\n",
      "비밀번호: 1234\n"
     ]
    },
    {
     "name": "stdout",
     "output_type": "stream",
     "text": [
      "로그인하였습니다.\n"
     ]
    }
   ],
   "source": [
    "inputId = input('아이디:')\n",
    "password = input('비밀번호:')\n",
    "\n",
    "if inputId == '유진' and password == '1234':\n",
    "    print('로그인하였습니다.')\n",
    "else:\n",
    "    print('아이디와 비밀번호가 일치하지 않습니다.')\n",
    "    "
   ]
  },
  {
   "cell_type": "markdown",
   "id": "3e2e3c12-ccc1-4159-b6da-076503759270",
   "metadata": {},
   "source": [
    "## 논리연산자\n",
    "- 여러 조건식을 비교할 때 사용\n",
    "- ex) 10 < x <20\n",
    "    - 파이썬에서만 가능한 표현\n",
    "    - x > 10 혹은 x < 20\n",
    "- and, & : 둘 다 참일 때 True\n",
    "- or, | : 둘 중 하나만 참이어도 True\n",
    "- not : 참 -> False / 거짓 -> True"
   ]
  },
  {
   "cell_type": "markdown",
   "id": "2a33eddc-1f48-4899-98b8-74fa770751db",
   "metadata": {},
   "source": [
    "## Quiz3.\n",
    "- quiz 1 확장판\n",
    "- 결석 횟수를 받아서 점수가 80점 이상인데 결석이 2번 이상이면 F, 나머지는 점수대로"
   ]
  },
  {
   "cell_type": "code",
   "execution_count": 45,
   "id": "b17e4a84-2eeb-466a-b92a-40bd5dd30483",
   "metadata": {},
   "outputs": [
    {
     "name": "stdin",
     "output_type": "stream",
     "text": [
      "점수 입력: 90.3\n",
      "결석 횟수 입력: 2\n"
     ]
    },
    {
     "name": "stdout",
     "output_type": "stream",
     "text": [
      "90.3점, 결석 횟수 2회, 학점은 F입니다.\n"
     ]
    }
   ],
   "source": [
    "# 논리연산자 사용\n",
    "\n",
    "score = float(input('점수 입력:'))\n",
    "absence = int(input('결석 횟수 입력:'))\n",
    "              \n",
    "if score >= 90 and absence < 2:\n",
    "    grade = 'A'\n",
    "elif score >= 80 and absence < 2:\n",
    "    grade = 'B'\n",
    "elif score >= 70 and absence < 2:\n",
    "    grade = 'C'\n",
    "elif absence < 2:\n",
    "    grade = 'D'\n",
    "else:\n",
    "    grade = 'F'\n",
    "    \n",
    "print(f'{score}점, 결석 횟수 {absence}회, 학점은 {grade}입니다.')"
   ]
  },
  {
   "cell_type": "code",
   "execution_count": 46,
   "id": "7260cd40-c7f0-4b1e-9f25-f8f9d0c06aee",
   "metadata": {},
   "outputs": [
    {
     "name": "stdin",
     "output_type": "stream",
     "text": [
      "점수 입력: 80\n",
      "결석 횟수 입력: 3\n"
     ]
    },
    {
     "name": "stdout",
     "output_type": "stream",
     "text": [
      "80.0점, 결석 횟수 3회, 학점은 F입니다.\n"
     ]
    }
   ],
   "source": [
    "# if구조 2번\n",
    "\n",
    "score = float(input('점수 입력:'))\n",
    "absence = int(input('결석 횟수 입력:'))\n",
    "\n",
    "if absence >= 2:\n",
    "    grade = 'F'\n",
    "else:\n",
    "    if score >= 90:\n",
    "        grade = 'A'\n",
    "    elif score >= 80:\n",
    "        grade = 'B'\n",
    "    elif score >= 70:\n",
    "        grade = 'C'\n",
    "    else:\n",
    "        grade = 'D'\n",
    "\n",
    "print(f'{score}점, 결석 횟수 {absence}회, 학점은 {grade}입니다.')"
   ]
  },
  {
   "cell_type": "code",
   "execution_count": null,
   "id": "822fd36c-13b3-40f1-a17a-54bb4c647add",
   "metadata": {},
   "outputs": [],
   "source": []
  }
 ],
 "metadata": {
  "kernelspec": {
   "display_name": "Python 3 (ipykernel)",
   "language": "python",
   "name": "python3"
  },
  "language_info": {
   "codemirror_mode": {
    "name": "ipython",
    "version": 3
   },
   "file_extension": ".py",
   "mimetype": "text/x-python",
   "name": "python",
   "nbconvert_exporter": "python",
   "pygments_lexer": "ipython3",
   "version": "3.9.7"
  }
 },
 "nbformat": 4,
 "nbformat_minor": 5
}
