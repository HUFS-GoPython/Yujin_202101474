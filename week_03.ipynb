{
 "cells": [
  {
   "cell_type": "markdown",
   "id": "d181b14d-3ff4-4042-82d0-7727ef0b9a42",
   "metadata": {},
   "source": [
    "## 중첩조건문 | nested conditional\n",
    "- if문 안에 또 if문이 만들어지는 경우\n",
    "    - ex)if...\n",
    "             if...\n",
    "                 if...\n",
    "    - 들여쓰기로 구분\n",
    "    - 조건이 여러 개일 경우 사용\n",
    "    - 하지만 지양하기 / 더 예쁜, 가독성 좋은 방법 찾기"
   ]
  },
  {
   "cell_type": "code",
   "execution_count": 1,
   "id": "5f17bf2e-5084-4cff-9e50-99eea3b09bcf",
   "metadata": {},
   "outputs": [
    {
     "name": "stdout",
     "output_type": "stream",
     "text": [
      "B\n"
     ]
    }
   ],
   "source": [
    "x = 0\n",
    "y = 4\n",
    "\n",
    "if x == y:\n",
    "    print('A')\n",
    "else:\n",
    "    if x < y:\n",
    "        print('B')\n",
    "    else:\n",
    "        print('C')"
   ]
  },
  {
   "cell_type": "code",
   "execution_count": 3,
   "id": "b039e108-9cb1-4ae3-8b6a-d39df203af3d",
   "metadata": {},
   "outputs": [
    {
     "name": "stdout",
     "output_type": "stream",
     "text": [
      "B\n"
     ]
    }
   ],
   "source": [
    "# 위의 예시보다 예쁜 방법\n",
    "if x == y:\n",
    "    print('A')\n",
    "elif x < y:\n",
    "    print('B')\n",
    "else:\n",
    "    print('C')"
   ]
  },
  {
   "cell_type": "code",
   "execution_count": 5,
   "id": "b11db1ad-fdb3-4fb1-8f5f-ee8e196b09d8",
   "metadata": {},
   "outputs": [
    {
     "name": "stdout",
     "output_type": "stream",
     "text": [
      "C\n"
     ]
    }
   ],
   "source": [
    "# 0 < x < 10\n",
    "if x > 0:\n",
    "    if x < 10:\n",
    "        print('A')\n",
    "    else:\n",
    "        print('B')\n",
    "else:\n",
    "    print('C')"
   ]
  },
  {
   "cell_type": "code",
   "execution_count": null,
   "id": "1b383904-1e3c-485a-bac0-493c87e56bf7",
   "metadata": {},
   "outputs": [],
   "source": [
    "# 위의 예시 논리연산자 사용\n",
    "if x > 0 and x <10:\n",
    "    # A\n",
    "else:\n",
    "    # B\n",
    "# 파이썬에서만 가능\n",
    "if 0 < x <10:\n",
    "    # A\n",
    "else:\n",
    "    # B"
   ]
  },
  {
   "cell_type": "markdown",
   "id": "8ac5d63b-5296-4074-892e-a2d23a828135",
   "metadata": {},
   "source": [
    "## 논리연산자\n",
    "- 비교연산 조건을 여러 번 사용하는 경우\n",
    "    - x > 0, x < 10\n",
    "- A and B : A 그리고 B / 둘 다 참일 때 True (&)\n",
    "- A or B : A 혹은 B / 둘 중 하나만 참이어도 True(|)\n",
    "- not A : A 참이면 False, 거짓이면 True (~)"
   ]
  },
  {
   "cell_type": "markdown",
   "id": "bb0ec889-e586-4bef-9c7a-43ce8d713123",
   "metadata": {},
   "source": [
    "## True / False\n",
    "- A = True\n",
    "- \"만약 A가 참이면...\""
   ]
  },
  {
   "cell_type": "markdown",
   "id": "f1f405d5-50bc-4d91-8aba-5c5506239419",
   "metadata": {},
   "source": [
    "if a == True: 라고 사용하는 것이 아니라\n",
    "\n",
    "if a: 아무것도 쓰지 않고 a만 써야 '만약 a가 참이면...'이라는 뜻    "
   ]
  },
  {
   "cell_type": "markdown",
   "id": "f829458d-aa67-4910-8cf1-90a5c441ad14",
   "metadata": {},
   "source": [
    "## in\n",
    "- membership operator\n",
    "- 어떤 요소가 포함되어 있는가 확인 or 비슷한 조건문이 여러 개일 때\n",
    "- A in B -> A가 B에 포함되어 있냐"
   ]
  },
  {
   "cell_type": "code",
   "execution_count": 8,
   "id": "037ec9fc-a76e-4ee2-a3d5-48c6e1479121",
   "metadata": {},
   "outputs": [
    {
     "name": "stdout",
     "output_type": "stream",
     "text": [
      "자음\n"
     ]
    }
   ],
   "source": [
    "# ex1. 모음판별 (비슷한 조건문이 여러 개일 경우 in 사용)\n",
    "letter = 'k'\n",
    "# if letter == 'a' or letter =='e' or... 라고 할 것이 아니라\n",
    "if letter in ['a', 'e', 'i', 'o', 'u']:\n",
    "    print('모음')\n",
    "else:\n",
    "    print('자음')"
   ]
  },
  {
   "cell_type": "code",
   "execution_count": 11,
   "id": "4bdb3a9d-303d-4165-be58-be0c2bb45110",
   "metadata": {},
   "outputs": [
    {
     "name": "stdout",
     "output_type": "stream",
     "text": [
      "yes\n"
     ]
    }
   ],
   "source": [
    "# 단어에 모음이 있는지 확인하기\n",
    "word = 'apple'\n",
    "# if ['a', 'e', 'i', 'o', 'u'] in word: 리스트 전체가 word에 있는지 확인하기 때문에 type error\n",
    "if ('a' or 'e' or 'i' or 'o' or 'u') in word:\n",
    "    print('yes')"
   ]
  },
  {
   "cell_type": "markdown",
   "id": "a7b77412-dd53-4961-9538-8442eda434c5",
   "metadata": {},
   "source": [
    "## 코끼리 연산자\n",
    "- walrus operator\n",
    "- := 써서 사용\n",
    "- 할당 + 테스트를 동시에 하는 기능"
   ]
  },
  {
   "cell_type": "code",
   "execution_count": 12,
   "id": "4ceb3a8b-49b5-4214-99ef-29b02370a6b6",
   "metadata": {},
   "outputs": [
    {
     "data": {
      "text/plain": [
       "200"
      ]
     },
     "execution_count": 12,
     "metadata": {},
     "output_type": "execute_result"
    }
   ],
   "source": [
    "tweet_limit = 200\n",
    "tweet_sting = 'blah' * 50 # 총 글자 수 4 * 50 = 200\n",
    "len(tweet_sting) # 문자열 갯수 세주는 함수"
   ]
  },
  {
   "cell_type": "code",
   "execution_count": 14,
   "id": "caf907a9-f4e4-4535-8b77-0ac1f2c25379",
   "metadata": {},
   "outputs": [
    {
     "name": "stdout",
     "output_type": "stream",
     "text": [
      "불가능하다.\n"
     ]
    }
   ],
   "source": [
    "# str이 200을 넘는지 확인\n",
    "\n",
    "diff = tweet_limit - len(tweet_sting)\n",
    "\n",
    "if diff > 0:\n",
    "    print(\"가능하다.\")\n",
    "else:\n",
    "    print(\"불가능하다.\")"
   ]
  },
  {
   "cell_type": "code",
   "execution_count": 15,
   "id": "571889a1-5153-48da-beda-d584e31e7aa6",
   "metadata": {},
   "outputs": [
    {
     "name": "stdout",
     "output_type": "stream",
     "text": [
      "no\n"
     ]
    }
   ],
   "source": [
    "# 코끼리 연산자로 할당과 테스트를 동시에\n",
    "if diff := tweet_limit - len(tweet_sting) > 0:\n",
    "    print('yes')\n",
    "else: print('no')"
   ]
  },
  {
   "cell_type": "markdown",
   "id": "b11186e0-fa03-4fac-8aeb-d3420cde0aa6",
   "metadata": {},
   "source": [
    "## Quiz1.\n",
    "- 윤년을 구해봅시다.\n",
    "- 연도를 입력받는다.\n",
    "- 해당 연도가 4로 나눠지면 윤년\n",
    "- 그러나 100으로 나눠지면 안 된다.\n",
    "- 400으로는 나눠지면 윤년\n",
    "- 출력 : '{}년은 윤년입니다.'/ '-아닙니다.'"
   ]
  },
  {
   "cell_type": "code",
   "execution_count": 4,
   "id": "75da147b-2120-499a-9fbc-1ee36274edcd",
   "metadata": {},
   "outputs": [
    {
     "name": "stdin",
     "output_type": "stream",
     "text": [
      "연도 입력: 2400\n"
     ]
    },
    {
     "name": "stdout",
     "output_type": "stream",
     "text": [
      "2400년은 윤년입니다.\n"
     ]
    }
   ],
   "source": [
    "year = int(input('연도 입력:'))\n",
    "\n",
    "if (year % 4 == 0 and year % 100 != 0) or year % 400 ==0:\n",
    "    print(f'{year}년은 윤년입니다.')\n",
    "else:\n",
    "    print(f'{year}년은 윤년이 아닙니다.')"
   ]
  },
  {
   "cell_type": "markdown",
   "id": "e5838c58-73d9-42aa-abb0-cfcbb862798f",
   "metadata": {},
   "source": [
    "# Ch05."
   ]
  },
  {
   "cell_type": "markdown",
   "id": "89c0e3d1-b374-4f4b-aa3b-d8472752014f",
   "metadata": {},
   "source": [
    "## string | 문자열\n",
    "- 시스템에서 가장 작은 단위\n",
    "- 불변적인 성격을 가짐 immutale\n",
    "    - ex) jack -> jeck 중간부분만 수정 불가능\n",
    "- '',\"\"으로 선언\n",
    "    - 25.5 -> '25.5'\n",
    "    - cf. ''',\"\"\"세 개일땐 주석\n",
    "- 형변환 str()"
   ]
  },
  {
   "cell_type": "markdown",
   "id": "256c15da-bd0a-428d-b802-a30174a2df01",
   "metadata": {},
   "source": [
    "### escape character | 이스케이프 문자\n",
    "- 특수한 형태의 문자열, 눈에 보이는대로 인식되지 않고 그 기능이 나타남\n",
    "- \\ch 형태로 사용\n",
    "- ex) \\n(줄바꿈), \\t(tap), \\b(backspace 하나 지움), \\', \\\"...\n",
    "    - \\n을 출력하고 싶을때는 \\를 하나 더 사용 -> \\\\n\n",
    "    - 또는 r'' -> r'hello\\nworld'\n",
    "- 다른 스트링을 만드는 것이 아닌 출력의 문제"
   ]
  },
  {
   "cell_type": "code",
   "execution_count": 19,
   "id": "ba185ad0-fa54-46d1-96b2-4c9b361a5d8f",
   "metadata": {},
   "outputs": [
    {
     "name": "stdout",
     "output_type": "stream",
     "text": [
      "hello\n",
      "world\n"
     ]
    }
   ],
   "source": [
    "sent = 'hello\\nworld'\n",
    "print(sent)"
   ]
  },
  {
   "cell_type": "code",
   "execution_count": 6,
   "id": "0d185619-a0af-4d70-aa43-362078ae337d",
   "metadata": {},
   "outputs": [
    {
     "name": "stdout",
     "output_type": "stream",
     "text": [
      "hello\\nworld\n"
     ]
    }
   ],
   "source": [
    "sent = 'hello\\\\nworld'\n",
    "print(sent)"
   ]
  },
  {
   "cell_type": "code",
   "execution_count": 9,
   "id": "c57ec168-e2b3-46e3-9e3b-ad614969f92d",
   "metadata": {},
   "outputs": [
    {
     "data": {
      "text/plain": [
       "'hello\\nworld'"
      ]
     },
     "execution_count": 9,
     "metadata": {},
     "output_type": "execute_result"
    }
   ],
   "source": [
    "sent = 'hello\\nworld'\n",
    "sent # print하지않고 그냥 할 경우 보임"
   ]
  },
  {
   "cell_type": "code",
   "execution_count": 7,
   "id": "038cae6d-8bf6-4de2-8b79-2c0a57938221",
   "metadata": {},
   "outputs": [
    {
     "data": {
      "text/plain": [
       "\"I'm a student.\""
      ]
     },
     "execution_count": 7,
     "metadata": {},
     "output_type": "execute_result"
    }
   ],
   "source": [
    "'I\\'m a student.'"
   ]
  },
  {
   "cell_type": "markdown",
   "id": "667a02bf-c9bb-4b97-89e8-7df9c39c8543",
   "metadata": {},
   "source": [
    "### 연산\n",
    "- concatenatation\n",
    "- '' + '' -> 공백없이 결합하는 방법\n",
    "- '' * 5 -> 5번 반복됨"
   ]
  },
  {
   "cell_type": "code",
   "execution_count": 10,
   "id": "6b7ac36e-2f9d-4364-9330-1df4684059ec",
   "metadata": {},
   "outputs": [
    {
     "data": {
      "text/plain": [
       "'jackjack'"
      ]
     },
     "execution_count": 10,
     "metadata": {},
     "output_type": "execute_result"
    }
   ],
   "source": [
    "name = 'jack'\n",
    "name + name"
   ]
  },
  {
   "cell_type": "code",
   "execution_count": 11,
   "id": "1e8161dd-fb0f-4bbd-95a7-116f1142e2ff",
   "metadata": {},
   "outputs": [
    {
     "data": {
      "text/plain": [
       "'jackjackjackjack'"
      ]
     },
     "execution_count": 11,
     "metadata": {},
     "output_type": "execute_result"
    }
   ],
   "source": [
    "name * 4"
   ]
  },
  {
   "cell_type": "markdown",
   "id": "19a2a100-50e9-40c0-aeb5-d5fda965538b",
   "metadata": {},
   "source": [
    "- immutable 불변 -> name[1] = 'e' 불가능"
   ]
  },
  {
   "cell_type": "markdown",
   "id": "daba0dc8-5cd2-45f0-9daf-bac0c1a3c859",
   "metadata": {},
   "source": [
    "### 슬라이싱, 추출\n",
    "- 문자열의 일부분을 떼내는 작업\n",
    "- 대괄호 사용, 그 안에 오프셋(자리, 주소)을 지정\n",
    "- 오프셋은 0부터 시작, 음수로도 가능\n",
    "    - 0123\n",
    "    - jack\n",
    "    - -4-3-2-1\n",
    "- 오프셋은 [시작:끝:스텝]으로 구성 # 기본으로 step=1\n",
    "- 시작은 포함, 끝은 포함하지 않음 (이상, 미만의 개념)"
   ]
  },
  {
   "cell_type": "code",
   "execution_count": 18,
   "id": "c5356b19-8e5e-462e-8a50-27b691663d24",
   "metadata": {},
   "outputs": [
    {
     "data": {
      "text/plain": [
       "'j'"
      ]
     },
     "execution_count": 18,
     "metadata": {},
     "output_type": "execute_result"
    }
   ],
   "source": [
    "name = 'jack'\n",
    "name[0] # 0부터 시작"
   ]
  },
  {
   "cell_type": "code",
   "execution_count": 17,
   "id": "5a471603-2129-4566-8f8d-5fb15aff5c4e",
   "metadata": {},
   "outputs": [
    {
     "data": {
      "text/plain": [
       "'c'"
      ]
     },
     "execution_count": 17,
     "metadata": {},
     "output_type": "execute_result"
    }
   ],
   "source": [
    "name[2:3] #시작은 포함, 끝은 포함하지 않음"
   ]
  },
  {
   "cell_type": "code",
   "execution_count": 24,
   "id": "d885b5d2-ecde-4a05-a4eb-47af67df3a69",
   "metadata": {},
   "outputs": [
    {
     "data": {
      "text/plain": [
       "('hello\\n', 'hello\\n')"
      ]
     },
     "execution_count": 24,
     "metadata": {},
     "output_type": "execute_result"
    }
   ],
   "source": [
    "sent = 'hello\\nworld'\n",
    "# 처음부터 5까지 출력\n",
    "sent[0:6], sent[:6] # 처음부터일 경우, 0은 생략해라"
   ]
  },
  {
   "cell_type": "code",
   "execution_count": 33,
   "id": "ebf43aa7-bf64-4a6f-834f-0f643bfb620a",
   "metadata": {},
   "outputs": [
    {
     "data": {
      "text/plain": [
       "11"
      ]
     },
     "execution_count": 33,
     "metadata": {},
     "output_type": "execute_result"
    }
   ],
   "source": [
    "# 처음부터 끝까지 2스텝씩 출력\n",
    "len(sent)"
   ]
  },
  {
   "cell_type": "code",
   "execution_count": 34,
   "id": "f9dfb855-4946-4bf6-9412-1173416955ca",
   "metadata": {},
   "outputs": [
    {
     "data": {
      "text/plain": [
       "('hlowrd', 'hlowr')"
      ]
     },
     "execution_count": 34,
     "metadata": {},
     "output_type": "execute_result"
    }
   ],
   "source": [
    "sent[:11:2], sent[:-1:2]"
   ]
  },
  {
   "cell_type": "code",
   "execution_count": 35,
   "id": "76c10ed8-df05-4161-b517-af442ad9cae8",
   "metadata": {},
   "outputs": [
    {
     "data": {
      "text/plain": [
       "'hlowrd'"
      ]
     },
     "execution_count": 35,
     "metadata": {},
     "output_type": "execute_result"
    }
   ],
   "source": [
    "# 정답\n",
    "sent[::2]"
   ]
  },
  {
   "cell_type": "code",
   "execution_count": 36,
   "id": "d52826c6-edce-4fe4-92ba-1ce2214b031b",
   "metadata": {},
   "outputs": [
    {
     "data": {
      "text/plain": [
       "'dlrow\\nolleh'"
      ]
     },
     "execution_count": 36,
     "metadata": {},
     "output_type": "execute_result"
    }
   ],
   "source": [
    "# 모든 글자를 거꾸로 출력하세요\n",
    "sent[::-1]"
   ]
  },
  {
   "cell_type": "code",
   "execution_count": 37,
   "id": "ef55b2fc-19d2-435c-872a-d5dfb4e6d7bf",
   "metadata": {},
   "outputs": [
    {
     "data": {
      "text/plain": [
       "'benz'"
      ]
     },
     "execution_count": 37,
     "metadata": {},
     "output_type": "execute_result"
    }
   ],
   "source": [
    "# 슬라이싱은 리스트에서도 적용됨\n",
    "cars = ['benz', 'kia', 'porsche']\n",
    "cars[0]"
   ]
  },
  {
   "cell_type": "markdown",
   "id": "8de64d6e-aa0e-4ea6-a7a7-31f35e95309b",
   "metadata": {},
   "source": [
    "## NLTK\n",
    "- natural language toolkit\n",
    "- 자연어 분석을 위해 교육용으로 배포된 패키지\n",
    "- 내장함수, 다양한 기능들이 추가됨\n",
    "    - 토크나이즈, 파싱, 태깅..."
   ]
  },
  {
   "cell_type": "code",
   "execution_count": 40,
   "id": "7eec8acc-09d1-4918-a3ac-b5e7a134e26e",
   "metadata": {},
   "outputs": [],
   "source": [
    "#!pip install nltk 설치"
   ]
  },
  {
   "cell_type": "code",
   "execution_count": 42,
   "id": "17a43636-377c-4d2c-84ec-dcca8696b094",
   "metadata": {},
   "outputs": [
    {
     "data": {
      "text/plain": [
       "True"
      ]
     },
     "execution_count": 42,
     "metadata": {},
     "output_type": "execute_result"
    }
   ],
   "source": [
    "import nltk\n",
    "nltk.download('book', quiet=True)"
   ]
  },
  {
   "cell_type": "code",
   "execution_count": 49,
   "id": "b1a64407-34c7-4b98-95cc-ff799b88bd43",
   "metadata": {},
   "outputs": [],
   "source": [
    "from nltk import book #가져오기"
   ]
  },
  {
   "cell_type": "code",
   "execution_count": 50,
   "id": "42da8a21-d205-48bb-a585-37a43bb70b46",
   "metadata": {},
   "outputs": [
    {
     "data": {
      "text/plain": [
       "<Text: Moby Dick by Herman Melville 1851>"
      ]
     },
     "execution_count": 50,
     "metadata": {},
     "output_type": "execute_result"
    }
   ],
   "source": [
    "book.text1"
   ]
  },
  {
   "cell_type": "code",
   "execution_count": 54,
   "id": "190a5b94-28cd-4707-976e-d08fdb9eac21",
   "metadata": {},
   "outputs": [
    {
     "data": {
      "text/plain": [
       "['[',\n",
       " 'Moby',\n",
       " 'Dick',\n",
       " 'by',\n",
       " 'Herman',\n",
       " 'Melville',\n",
       " '1851',\n",
       " ']',\n",
       " 'ETYMOLOGY',\n",
       " '.']"
      ]
     },
     "execution_count": 54,
     "metadata": {},
     "output_type": "execute_result"
    }
   ],
   "source": [
    "moby = book.text1\n",
    "moby.tokens[:10] # 토큰에 접근하는 방법\n",
    "# 토큰 : 프로그래밍의 단어단위"
   ]
  },
  {
   "cell_type": "code",
   "execution_count": 55,
   "id": "d7c55f2b-01d1-4ebf-8685-19724427eefc",
   "metadata": {},
   "outputs": [
    {
     "data": {
      "text/plain": [
       "260819"
      ]
     },
     "execution_count": 55,
     "metadata": {},
     "output_type": "execute_result"
    }
   ],
   "source": [
    "# 1. 길이 세기\n",
    "len(moby) # 26만자"
   ]
  },
  {
   "cell_type": "code",
   "execution_count": 58,
   "id": "abdd2a63-8d65-471d-91a6-19ed3c9d74de",
   "metadata": {},
   "outputs": [
    {
     "data": {
      "text/plain": [
       "19317"
      ]
     },
     "execution_count": 58,
     "metadata": {},
     "output_type": "execute_result"
    }
   ],
   "source": [
    "# 2. 중복없이 단어 몇 개?\n",
    "len(set(moby)) # 1.9만자 / list에서 set으로 형변환 시킨 것"
   ]
  },
  {
   "cell_type": "markdown",
   "id": "133dd788-625d-4c93-b897-9935d9ef0f44",
   "metadata": {},
   "source": [
    "- list\n",
    "    - ['a', 1, True]\n",
    "    - 순서 존재\n",
    "    - 중복 허용\n",
    "    - list()\n",
    "- set \n",
    "    - {'a', 2, True}\n",
    "    - 순서 X\n",
    "    - 중복 불가능\n",
    "    - set()\n",
    "    - 수학의 집합 개념과 동일"
   ]
  },
  {
   "cell_type": "code",
   "execution_count": 60,
   "id": "ae50235b-7d0e-4a81-bdf8-fcc7f4e25cbd",
   "metadata": {},
   "outputs": [
    {
     "data": {
      "text/plain": [
       "['kia', 'hyundai', 'renault', 'benz', 'benz', 'kia']"
      ]
     },
     "execution_count": 60,
     "metadata": {},
     "output_type": "execute_result"
    }
   ],
   "source": [
    "cars = ['kia', 'hyundai', 'renault', 'benz', 'benz', 'kia']\n",
    "cars"
   ]
  },
  {
   "cell_type": "code",
   "execution_count": 61,
   "id": "b5037e21-2ba0-4de9-a473-ffc5ac347fbe",
   "metadata": {},
   "outputs": [
    {
     "data": {
      "text/plain": [
       "{'benz', 'hyundai', 'kia', 'renault'}"
      ]
     },
     "execution_count": 61,
     "metadata": {},
     "output_type": "execute_result"
    }
   ],
   "source": [
    "# set으로 변환하면 중복이 다 사라진다\n",
    "set(cars)"
   ]
  },
  {
   "cell_type": "code",
   "execution_count": 62,
   "id": "9c38e4ae-25f6-4311-8745-0755e0945a9e",
   "metadata": {},
   "outputs": [
    {
     "data": {
      "text/plain": [
       "0.07406285585022564"
      ]
     },
     "execution_count": 62,
     "metadata": {},
     "output_type": "execute_result"
    }
   ],
   "source": [
    "# lexical diversity\n",
    "# 얼마나 다양한 언어를 썼는지 알아보기\n",
    "len(set(moby)) / len(moby)"
   ]
  },
  {
   "cell_type": "code",
   "execution_count": 63,
   "id": "3285fb9f-ee35-4f34-89ae-a802ce432fab",
   "metadata": {},
   "outputs": [
    {
     "data": {
      "text/plain": [
       "['benz', 'benz', 'hyundai', 'kia', 'kia', 'renault']"
      ]
     },
     "execution_count": 63,
     "metadata": {},
     "output_type": "execute_result"
    }
   ],
   "source": [
    "# 정렬\n",
    "sorted(cars)"
   ]
  },
  {
   "cell_type": "code",
   "execution_count": 64,
   "id": "6cee6bc8-0ceb-4893-beb8-4fac224e3e45",
   "metadata": {},
   "outputs": [
    {
     "data": {
      "text/plain": [
       "['renault', 'kia', 'kia', 'hyundai', 'benz', 'benz']"
      ]
     },
     "execution_count": 64,
     "metadata": {},
     "output_type": "execute_result"
    }
   ],
   "source": [
    "# 역순 정렬\n",
    "sorted(cars, reverse=True)"
   ]
  },
  {
   "cell_type": "code",
   "execution_count": 69,
   "id": "f3b5dd51-e3c1-4ff8-a42b-6b80814588c9",
   "metadata": {},
   "outputs": [
    {
     "data": {
      "text/plain": [
       "['.',\n",
       " '1851',\n",
       " 'Dick',\n",
       " 'ETYMOLOGY',\n",
       " 'Herman',\n",
       " 'Melville',\n",
       " 'Moby',\n",
       " '[',\n",
       " ']',\n",
       " 'by']"
      ]
     },
     "execution_count": 69,
     "metadata": {},
     "output_type": "execute_result"
    }
   ],
   "source": [
    "# sorted(set(moby)) # 문장부호, 숫자, 대문자, 소문자 순서로 정렬\n",
    "# 10개를 뽑아서 정렬\n",
    "sorted(moby[:10])"
   ]
  },
  {
   "cell_type": "code",
   "execution_count": 71,
   "id": "cc454530-a707-4d8c-aa1e-8bed8dc6dcf4",
   "metadata": {},
   "outputs": [
    {
     "data": {
      "text/plain": [
       "['!', '!', '!', '!', '!', '!', '!', '!', '!', '!']"
      ]
     },
     "execution_count": 71,
     "metadata": {},
     "output_type": "execute_result"
    }
   ],
   "source": [
    "# 정렬을 하고 10개를 뽑는 것\n",
    "sorted(moby)[:10]"
   ]
  },
  {
   "cell_type": "markdown",
   "id": "823aa04f-cc3a-4d0d-9561-ad686793c839",
   "metadata": {},
   "source": [
    "### Quiz1.\n",
    "- text6을 가져와서 토큰을 변수에 담기\n",
    "- 중복없는 set으로 저장하고 내림차순 정렬\n",
    "    - 앞에서 10단어 출력\n",
    "    - 단어에 z가 있으면 z를 대문자로 바꾸시오\n",
    "    - z가 없는데 4자 이상이면 끝 글자를 대문자로 바꾸시오"
   ]
  },
  {
   "cell_type": "code",
   "execution_count": 74,
   "id": "0cd0f5a3-6acc-40d1-8c9c-46ca35f6cc10",
   "metadata": {},
   "outputs": [],
   "source": [
    "text = book.text6\n",
    "text = sorted(set(text), reverse=True)[:10]\n",
    "\n",
    "if 'z' in text[:]:\n"
   ]
  },
  {
   "cell_type": "markdown",
   "id": "90bf5e8f-a5cc-4443-97b5-56b0f69f94e8",
   "metadata": {},
   "source": [
    "### Quiz2.\n",
    "- 주민번호, 휴대폰번호, 이메일 주소 입력받기\n",
    "- 주민번호, 휴대폰번호는 숫자만 입력받기(-없이)\n",
    "- 이메일 주소는 아이디만 입력받기(@없이)\n",
    "    1. '당신은 {}년 {}월 {}일 출생의 {성별}입니다.'\n",
    "    2. 휴대폰 번호: 000-0000-0000 -으로 연결\n",
    "    3. 이메일 주소: xxx@gmail.com "
   ]
  },
  {
   "cell_type": "code",
   "execution_count": 81,
   "id": "dc71d605-16f5-4930-afad-2055d1f2ec3c",
   "metadata": {},
   "outputs": [
    {
     "name": "stdin",
     "output_type": "stream",
     "text": [
      "주민번호 입력(-제외): 0201074111111\n",
      "휴대폰 번호 입력(-제외): 01012345678\n",
      "이메일 입력(아이디만): 유진\n"
     ]
    },
    {
     "name": "stdout",
     "output_type": "stream",
     "text": [
      "당신은 2002년 01월 07일 출생의 여성입니다.\n",
      "휴대폰 번호는 010-1234-5678입니다.\n",
      "이메일 주소는 유진@gmail.com입니다.\n"
     ]
    }
   ],
   "source": [
    "idnumber = input('주민번호 입력(-제외):') \n",
    "phonenumber = input('휴대폰 번호 입력(-제외):')\n",
    "email = input('이메일 입력(아이디만):')\n",
    "\n",
    "if idnumber[6] == ('1' or '2'):\n",
    "    year = '19' + idnumber[:2]\n",
    "else:\n",
    "    year = '20' + idnumber[:2]\n",
    "    \n",
    "month = idnumber[2:4]\n",
    "day = idnumber[4:6]\n",
    "\n",
    "if idnumber[6] == ('1' or '3'):\n",
    "    gender = '남성'\n",
    "else:\n",
    "    gender = '여성'\n",
    "    \n",
    "print(f'당신은 {year}년 {month}월 {day}일 출생의 {gender}입니다.')\n",
    "print(f'휴대폰 번호는 {phonenumber[:3]}-{phonenumber[3:7]}-{phonenumber[7:]}입니다.')\n",
    "print(f'이메일 주소는 {email}@gmail.com입니다.')\n",
    "                    "
   ]
  },
  {
   "cell_type": "code",
   "execution_count": null,
   "id": "0d1f036d-bf52-4be7-ac11-e2c6d9d2f653",
   "metadata": {},
   "outputs": [],
   "source": []
  }
 ],
 "metadata": {
  "kernelspec": {
   "display_name": "Python 3 (ipykernel)",
   "language": "python",
   "name": "python3"
  },
  "language_info": {
   "codemirror_mode": {
    "name": "ipython",
    "version": 3
   },
   "file_extension": ".py",
   "mimetype": "text/x-python",
   "name": "python",
   "nbconvert_exporter": "python",
   "pygments_lexer": "ipython3",
   "version": "3.9.7"
  }
 },
 "nbformat": 4,
 "nbformat_minor": 5
}
