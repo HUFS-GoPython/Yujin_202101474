{
 "cells": [
  {
   "cell_type": "markdown",
   "id": "9a288b76-3b83-4c89-88d9-0c5fdeaff458",
   "metadata": {
    "tags": []
   },
   "source": [
    "## 기본기능\n",
    "- 새로운 라인 생성 : b\n",
    "- 실행 : Shift+Enter\n",
    "- Markdown 변환 : m\n",
    "- Markdown 문법 : #이 추가될 때마다 크기 축소, 나열 - + space\n",
    "- Code 주석처리 : #\n",
    "- 지우기 : dd"
   ]
  },
  {
   "cell_type": "markdown",
   "id": "b6ef40eb-a4ea-4d4b-bedf-4feefbd0e587",
   "metadata": {},
   "source": [
    "## 프로그래밍 언어\n",
    "- 프로그래밍 언어를 사용하여 프로그램을 개발하는 것\n",
    "- 논리적인 사고를 가질 수 있다\n",
    "\n",
    "## programming language\n",
    "- 프로그램을 개발할 때 사용하는 도구\n",
    "- 인간이 원하는 것을 컴퓨터에게 명령할 때, 컴퓨터가 이해할 수 있는 언어\n",
    "\n",
    "## 파이썬\n",
    "- 쉽고 간결하다\n",
    "- 라이브러리가 많다"
   ]
  },
  {
   "cell_type": "markdown",
   "id": "e28972af-c689-4274-9110-a56816b6eba2",
   "metadata": {},
   "source": [
    "# Chapter 2. Data: Types, Values, Variables, and Name"
   ]
  },
  {
   "cell_type": "code",
   "execution_count": 2,
   "id": "bd21f1ca-7174-4fa9-89fe-c7d134e8e74d",
   "metadata": {},
   "outputs": [
    {
     "data": {
      "text/plain": [
       "2"
      ]
     },
     "execution_count": 2,
     "metadata": {},
     "output_type": "execute_result"
    }
   ],
   "source": [
    "a = 2\n",
    "a"
   ]
  },
  {
   "cell_type": "code",
   "execution_count": 3,
   "id": "eeb8d3e8-9e34-4a95-9884-91e3d2e2a58d",
   "metadata": {},
   "outputs": [
    {
     "data": {
      "text/plain": [
       "True"
      ]
     },
     "execution_count": 3,
     "metadata": {},
     "output_type": "execute_result"
    }
   ],
   "source": [
    "a ==  2"
   ]
  },
  {
   "cell_type": "markdown",
   "id": "7022029c-f876-4f90-a540-0e741f4fda1b",
   "metadata": {},
   "source": [
    "- 변수│variable : 특저 값을 저장하는 공간 → a\n",
    "- 값│value → 2\n",
    "- 할당하다│assign : 변수에 값을 넣는 과정 → '2를 a에 넣었다'  ***a는 2다 : a == 2\n",
    "- 자료형│type : 데이터의 형태 → a 데이터의 형태? integer (int타입)"
   ]
  },
  {
   "cell_type": "code",
   "execution_count": 4,
   "id": "c7c1a30e-af18-4697-9e6e-9b1814aa54e3",
   "metadata": {},
   "outputs": [
    {
     "name": "stdout",
     "output_type": "stream",
     "text": [
      "2\n"
     ]
    }
   ],
   "source": [
    "print(a)"
   ]
  },
  {
   "cell_type": "code",
   "execution_count": 5,
   "id": "8a9934ba-59e5-446d-962f-9c4c8681ee8c",
   "metadata": {},
   "outputs": [
    {
     "data": {
      "text/plain": [
       "2"
      ]
     },
     "execution_count": 5,
     "metadata": {},
     "output_type": "execute_result"
    }
   ],
   "source": [
    "a"
   ]
  },
  {
   "cell_type": "code",
   "execution_count": 6,
   "id": "794bab0a-c80f-41b9-bcce-d1755daa7be1",
   "metadata": {},
   "outputs": [
    {
     "data": {
      "text/plain": [
       "int"
      ]
     },
     "execution_count": 6,
     "metadata": {},
     "output_type": "execute_result"
    }
   ],
   "source": [
    "# type\n",
    "type(a)"
   ]
  },
  {
   "cell_type": "code",
   "execution_count": 7,
   "id": "6bd0f9f1-f8d6-4aaf-823e-203b682c7052",
   "metadata": {},
   "outputs": [
    {
     "data": {
      "text/plain": [
       "int"
      ]
     },
     "execution_count": 7,
     "metadata": {},
     "output_type": "execute_result"
    }
   ],
   "source": [
    "type(2)"
   ]
  },
  {
   "cell_type": "code",
   "execution_count": 9,
   "id": "0343f35a-6bc1-4765-ac51-5885777b02e2",
   "metadata": {},
   "outputs": [
    {
     "data": {
      "text/plain": [
       "bool"
      ]
     },
     "execution_count": 9,
     "metadata": {},
     "output_type": "execute_result"
    }
   ],
   "source": [
    "type(a==2) #bool, boolean : T/F"
   ]
  },
  {
   "cell_type": "markdown",
   "id": "2e785cfe-c453-4eb3-a241-92cf15510f88",
   "metadata": {},
   "source": [
    "## Type\n",
    "- integer│정수 : 1, 2, 3... (int)\n",
    "- floating point number│부동소수점 : 1.0, 2.0, 0.4... (float)\n",
    "- string│문자열 : \"1\", 'apple' (str)\n",
    "- boolean│불리언 : True/False (bool)"
   ]
  },
  {
   "cell_type": "code",
   "execution_count": 10,
   "id": "0049dec6-2e8a-431b-b7b6-fda387e6c5a9",
   "metadata": {},
   "outputs": [
    {
     "data": {
      "text/plain": [
       "str"
      ]
     },
     "execution_count": 10,
     "metadata": {},
     "output_type": "execute_result"
    }
   ],
   "source": [
    "type(\"1\")"
   ]
  },
  {
   "cell_type": "code",
   "execution_count": 11,
   "id": "550dbdf4-c16f-43bf-b646-00efb771af39",
   "metadata": {},
   "outputs": [
    {
     "data": {
      "text/plain": [
       "str"
      ]
     },
     "execution_count": 11,
     "metadata": {},
     "output_type": "execute_result"
    }
   ],
   "source": [
    "type('apple')"
   ]
  },
  {
   "cell_type": "code",
   "execution_count": 12,
   "id": "b0634bb1-6c35-4b75-a4fb-e5f396846161",
   "metadata": {},
   "outputs": [
    {
     "ename": "NameError",
     "evalue": "name 'apple' is not defined",
     "output_type": "error",
     "traceback": [
      "\u001b[1;31m---------------------------------------------------------------------------\u001b[0m",
      "\u001b[1;31mNameError\u001b[0m                                 Traceback (most recent call last)",
      "\u001b[1;32m~\\AppData\\Local\\Temp/ipykernel_13236/2560059665.py\u001b[0m in \u001b[0;36m<module>\u001b[1;34m\u001b[0m\n\u001b[1;32m----> 1\u001b[1;33m \u001b[0mtype\u001b[0m\u001b[1;33m(\u001b[0m\u001b[0mapple\u001b[0m\u001b[1;33m)\u001b[0m \u001b[1;31m#변수명으로 인식되어서 오류\u001b[0m\u001b[1;33m\u001b[0m\u001b[1;33m\u001b[0m\u001b[0m\n\u001b[0m",
      "\u001b[1;31mNameError\u001b[0m: name 'apple' is not defined"
     ]
    }
   ],
   "source": [
    "type(apple) #변수명으로 인식되어서 오류"
   ]
  },
  {
   "cell_type": "code",
   "execution_count": 13,
   "id": "96720513-191c-4966-affc-d84124c3c796",
   "metadata": {},
   "outputs": [
    {
     "data": {
      "text/plain": [
       "'kim'"
      ]
     },
     "execution_count": 13,
     "metadata": {},
     "output_type": "execute_result"
    }
   ],
   "source": [
    "name = 'kim'\n",
    "name"
   ]
  },
  {
   "cell_type": "code",
   "execution_count": 14,
   "id": "f1e5d376-cfdf-4b2e-bfa9-1148c7a00d20",
   "metadata": {},
   "outputs": [
    {
     "name": "stdout",
     "output_type": "stream",
     "text": [
      "kim\n"
     ]
    }
   ],
   "source": [
    "print(name)"
   ]
  },
  {
   "cell_type": "code",
   "execution_count": 15,
   "id": "ebf89927-d58b-40c1-ab10-112021eb88a2",
   "metadata": {},
   "outputs": [
    {
     "name": "stdout",
     "output_type": "stream",
     "text": [
      "kim\n"
     ]
    }
   ],
   "source": [
    "print('kim') #이런 방법은 지양, 변수를 지정해서 사용할 것"
   ]
  },
  {
   "cell_type": "markdown",
   "id": "ee2730ee-20e7-405c-a050-c834bd94c8b5",
   "metadata": {},
   "source": [
    "## 할당\n",
    "- 기호 '='를 사용한다\n",
    "- 수학에서는 '양변이 같다'는 의미로 사용되지만, 프로그래밍에서는 '할당하다'라는 의미\n",
    "- \"오른쪽의 값을 왼쪽에 할당한다\"\n",
    "- 1. 오른쪽에 있는 모든 것은 값을 가져야 한다(초기화를 해야한다)\n",
    "- 2. 같은 변수에 다른 값을 넣을 수 있다"
   ]
  },
  {
   "cell_type": "code",
   "execution_count": 17,
   "id": "614dc5dd-92ed-4382-84ba-c5f445d090fe",
   "metadata": {},
   "outputs": [
    {
     "ename": "NameError",
     "evalue": "name 'x' is not defined",
     "output_type": "error",
     "traceback": [
      "\u001b[1;31m---------------------------------------------------------------------------\u001b[0m",
      "\u001b[1;31mNameError\u001b[0m                                 Traceback (most recent call last)",
      "\u001b[1;32m~\\AppData\\Local\\Temp/ipykernel_13236/1171377393.py\u001b[0m in \u001b[0;36m<module>\u001b[1;34m\u001b[0m\n\u001b[1;32m----> 1\u001b[1;33m \u001b[0my\u001b[0m \u001b[1;33m=\u001b[0m \u001b[0mx\u001b[0m \u001b[1;33m+\u001b[0m \u001b[1;36m3\u001b[0m \u001b[1;31m#x가 값을 가지지 않아 오류\u001b[0m\u001b[1;33m\u001b[0m\u001b[1;33m\u001b[0m\u001b[0m\n\u001b[0m",
      "\u001b[1;31mNameError\u001b[0m: name 'x' is not defined"
     ]
    }
   ],
   "source": [
    "y = x + 3 #x가 값을 가지지 않아 오류"
   ]
  },
  {
   "cell_type": "code",
   "execution_count": 19,
   "id": "f6a3bb84-58d0-49dc-a16d-218994a53a9c",
   "metadata": {},
   "outputs": [
    {
     "data": {
      "text/plain": [
       "(4, 7)"
      ]
     },
     "execution_count": 19,
     "metadata": {},
     "output_type": "execute_result"
    }
   ],
   "source": [
    "x = 4 #초기화\n",
    "y = x + 3\n",
    "x, y"
   ]
  },
  {
   "cell_type": "code",
   "execution_count": 22,
   "id": "991d8590-838d-4769-b6a9-3b50230a79b1",
   "metadata": {},
   "outputs": [
    {
     "name": "stdout",
     "output_type": "stream",
     "text": [
      "4\n"
     ]
    }
   ],
   "source": [
    "name = 'kim' #같은 변수에 다른 값 넣기 가능\n",
    "name = 'lee'\n",
    "name = 'park'\n",
    "name = 4\n",
    "print(name) #변수명 동일하게 사용하지 않기"
   ]
  },
  {
   "cell_type": "markdown",
   "id": "a3e2d0ab-ce24-4e67-95c0-0a2dfd75d5e3",
   "metadata": {},
   "source": [
    "## 변수명 정하기\n",
    "- 나쁜 변수명 : a, b, c, a1, b1.. 의미없는 변수명\n",
    "- 의미있는 변수로 선언해야 한다\n",
    "- 소문자, 대문자, 숫자, 언더바를 사용한다 ex) name, name2, my_name, NAME"
   ]
  },
  {
   "cell_type": "code",
   "execution_count": 33,
   "id": "dfd11828-6cff-4301-b3bd-efefa7c266bb",
   "metadata": {},
   "outputs": [
    {
     "name": "stdout",
     "output_type": "stream",
     "text": [
      "juliette jessica laura\n"
     ]
    }
   ],
   "source": [
    "name = 'juliette'\n",
    "name1 = 'jessica'\n",
    "my_name = 'laura' # myName 카멜표기법)띄어쓰기가 들어갈 부분에 대문자 사용\n",
    "print(name, name1, my_name)"
   ]
  },
  {
   "cell_type": "code",
   "execution_count": 25,
   "id": "27b3eb5d-84a3-47d4-b72f-23138fb2b478",
   "metadata": {},
   "outputs": [
    {
     "name": "stdout",
     "output_type": "stream",
     "text": [
      "juliette, jessica, laura\n"
     ]
    }
   ],
   "source": [
    "#중간에 쉼표로 분리하고 싶을 떄\n",
    "print(name, name1, my_name, sep=', ')"
   ]
  },
  {
   "cell_type": "markdown",
   "id": "218b6c67-c36e-44ab-9cf2-f68b4a3d3953",
   "metadata": {},
   "source": [
    "- 안 되는 것\n",
    "    - 숫자로 시작할 수 없다 ex)22name, 22_name\n",
    "    - 예약어로 선언할 수 없다 ex)def, False..."
   ]
  },
  {
   "cell_type": "code",
   "execution_count": 27,
   "id": "e43b9d29-7156-4972-9f3a-ca16f04d8fd7",
   "metadata": {},
   "outputs": [
    {
     "ename": "SyntaxError",
     "evalue": "invalid syntax (Temp/ipykernel_13236/1657646938.py, line 1)",
     "output_type": "error",
     "traceback": [
      "\u001b[1;36m  File \u001b[1;32m\"C:\\Users\\KBS\\AppData\\Local\\Temp/ipykernel_13236/1657646938.py\"\u001b[1;36m, line \u001b[1;32m1\u001b[0m\n\u001b[1;33m    if = 'kim' #예약어로 선언 불가능\u001b[0m\n\u001b[1;37m       ^\u001b[0m\n\u001b[1;31mSyntaxError\u001b[0m\u001b[1;31m:\u001b[0m invalid syntax\n"
     ]
    }
   ],
   "source": [
    "if = 'kim' #예약어로 선언 불가능"
   ]
  },
  {
   "cell_type": "code",
   "execution_count": 28,
   "id": "0c2d4d4b-96bc-4465-a88f-08e56dcbb7fc",
   "metadata": {},
   "outputs": [
    {
     "name": "stdout",
     "output_type": "stream",
     "text": [
      "\n",
      "Here is a list of the Python keywords.  Enter any keyword to get more help.\n",
      "\n",
      "False               break               for                 not\n",
      "None                class               from                or\n",
      "True                continue            global              pass\n",
      "__peg_parser__      def                 if                  raise\n",
      "and                 del                 import              return\n",
      "as                  elif                in                  try\n",
      "assert              else                is                  while\n",
      "async               except              lambda              with\n",
      "await               finally             nonlocal            yield\n",
      "\n"
     ]
    }
   ],
   "source": [
    "#예약어\n",
    "help('keywords')"
   ]
  },
  {
   "cell_type": "markdown",
   "id": "b6adb469-e433-4aa7-8b89-624ff7060e10",
   "metadata": {},
   "source": [
    "- 조심할 것 (특별한 용도가 있기 때문)\n",
    "    - 언더바로 시작하는 변수명 ex)_name\n",
    "    - 더블 언더바로 시작하는 변수명 ex)__name\n",
    "    - 대문자로 시작하는 변수명 ex) Name\n",
    "    - 전체 대문자인 변수명 ex) NAME\n",
    "    - 특수기호가 들어간 변수명 ex) name!"
   ]
  },
  {
   "cell_type": "code",
   "execution_count": 29,
   "id": "b6fba9d0-edaa-48bb-b9f5-e0972236b073",
   "metadata": {},
   "outputs": [
    {
     "data": {
      "text/plain": [
       "False"
      ]
     },
     "execution_count": 29,
     "metadata": {},
     "output_type": "execute_result"
    }
   ],
   "source": [
    "# 변수명은 대소문자를 구분한다\n",
    "num = 43\n",
    "Num = 44\n",
    "num == Num"
   ]
  },
  {
   "cell_type": "code",
   "execution_count": 30,
   "id": "9d20d3bc-2a4d-4e43-afb0-6feb91e2fa13",
   "metadata": {},
   "outputs": [
    {
     "data": {
      "text/plain": [
       "False"
      ]
     },
     "execution_count": 30,
     "metadata": {},
     "output_type": "execute_result"
    }
   ],
   "source": [
    "num = 'number'\n",
    "Num = 'Number'\n",
    "num == Num"
   ]
  },
  {
   "cell_type": "code",
   "execution_count": 31,
   "id": "20fce1d0-4523-42ca-a920-f2ccb22a9cc2",
   "metadata": {},
   "outputs": [
    {
     "data": {
      "text/plain": [
       "True"
      ]
     },
     "execution_count": 31,
     "metadata": {},
     "output_type": "execute_result"
    }
   ],
   "source": [
    "num != Num"
   ]
  }
 ],
 "metadata": {
  "kernelspec": {
   "display_name": "Python 3 (ipykernel)",
   "language": "python",
   "name": "python3"
  },
  "language_info": {
   "codemirror_mode": {
    "name": "ipython",
    "version": 3
   },
   "file_extension": ".py",
   "mimetype": "text/x-python",
   "name": "python",
   "nbconvert_exporter": "python",
   "pygments_lexer": "ipython3",
   "version": "3.9.7"
  }
 },
 "nbformat": 4,
 "nbformat_minor": 5
}
