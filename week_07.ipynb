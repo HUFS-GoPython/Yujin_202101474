{
 "cells": [
  {
   "cell_type": "markdown",
   "id": "c6a4ac9f-8a28-4571-9c4c-caedcd36f1ab",
   "metadata": {},
   "source": [
    "## 함수 \n",
    "1. 정의\n",
    "2. 인수\n",
    "3. 호출 방식"
   ]
  },
  {
   "cell_type": "markdown",
   "id": "fe1a8046-6923-4cb6-bd0e-c02f3aa3820b",
   "metadata": {},
   "source": [
    "### 1. 정의\n",
    "- 코드의 덩어리, 코드의 묶음\n",
    "- 간편한 재사용을 위해서 정의함 (한 줄로 재사용이 가능하다)\n",
    "- 정의(define) 부분 + 호출(call) 부분 (호출 부분이 한 줄로 재사용되는 것)\n",
    "- 정의하기 구조\n",
    "    - def 함수이름(매개변수1, 2, 3, ...):\n",
    "          수행문1 (매개변수를 이용)\n",
    "          수행문2\n",
    "          ...\n",
    "          return 반환값\n",
    "- 호출하기\n",
    "    - 함수이름(인수1, 2, 3, ...)\n",
    "- 4가지 경우\n",
    "    1. 둘 다 없는\n",
    "    2. 둘 다 있는\n",
    "    3. 매개변수만 있는\n",
    "    4. 반환값만 있는"
   ]
  },
  {
   "cell_type": "code",
   "execution_count": 2,
   "id": "5f5f6637-9df4-4318-af0c-852619674099",
   "metadata": {
    "tags": []
   },
   "outputs": [
    {
     "data": {
      "text/plain": [
       "5"
      ]
     },
     "execution_count": 2,
     "metadata": {},
     "output_type": "execute_result"
    }
   ],
   "source": [
    "# y = x + 1 # x=매개변수, y=반환값, x + 1=수행문\n",
    "\n",
    "# 2. 둘 다 있는 경우\n",
    "def ex(x): \n",
    "    y = x + 1\n",
    "    return y\n",
    "ex(4)"
   ]
  },
  {
   "cell_type": "code",
   "execution_count": 4,
   "id": "76121b1d-cc58-45e4-b66b-4d84d1203deb",
   "metadata": {},
   "outputs": [
    {
     "name": "stdout",
     "output_type": "stream",
     "text": [
      "quack\n"
     ]
    }
   ],
   "source": [
    "# 1. 둘 다 없는 경우\n",
    "# 값이 없어서 변수에 저장할 수 없음\n",
    "def make_a_sound():\n",
    "    print('quack')\n",
    "# 반환값이 없을 경우 return None이 생략된 것\n",
    "\n",
    "make_a_sound()"
   ]
  },
  {
   "cell_type": "code",
   "execution_count": 5,
   "id": "a3918478-fce5-4656-8576-6b648e33161d",
   "metadata": {},
   "outputs": [
    {
     "name": "stdout",
     "output_type": "stream",
     "text": [
      "yay\n"
     ]
    }
   ],
   "source": [
    "# 3. 매개변수만 있는 경우\n",
    "def make_a_sound(sound):\n",
    "    print(sound)\n",
    "\n",
    "make_a_sound('yay')"
   ]
  },
  {
   "cell_type": "code",
   "execution_count": 6,
   "id": "f8152c5c-753e-4d11-8b05-34d11fc6d5cc",
   "metadata": {},
   "outputs": [
    {
     "data": {
      "text/plain": [
       "True"
      ]
     },
     "execution_count": 6,
     "metadata": {},
     "output_type": "execute_result"
    }
   ],
   "source": [
    "# 4. 반환값만 있는 경우\n",
    "def agree():\n",
    "    return True\n",
    "\n",
    "agree()"
   ]
  },
  {
   "cell_type": "code",
   "execution_count": 7,
   "id": "06a06b0e-beac-45a6-9763-7132b6ee7d3b",
   "metadata": {},
   "outputs": [
    {
     "name": "stdout",
     "output_type": "stream",
     "text": [
      "Splendid\n"
     ]
    }
   ],
   "source": [
    "# 위의 함수를 이용하여 만듦\n",
    "if agree():\n",
    "    print('Splendid')\n",
    "else:\n",
    "    print('unexpected!')"
   ]
  },
  {
   "cell_type": "markdown",
   "id": "a98d5228-ed75-4dea-b5c3-d694f993cf32",
   "metadata": {},
   "source": [
    "- 이름 짓기\n",
    "    - 소문자만 사용한다\n",
    "    - 동작과 관련되어 있기 때문에 '동사 + 명사'의 형태로 주로 쓴다 \n",
    "        - ex) def split_word():\n",
    "    - i.e., 클래스는 명사로 지음 \n",
    "    - 띄어쓰기 언더바 사용\n",
    "    - 줄임말 쓰지말 것\n",
    "        - 코더들이 많이 쓰는 줄임말은 가능 cauculate -> calc\n",
    "    - 명료하게 짓기"
   ]
  },
  {
   "cell_type": "markdown",
   "id": "9f7936d8-84e7-4539-a359-b888d86650b4",
   "metadata": {
    "tags": []
   },
   "source": [
    "### 2. 인수\n",
    "- 매개변수 vs. 인수\n",
    "    - 매개변수 : 함수 내(인터페이스라고 지칭)에서 유효한 변수, 함수 밖에서는 유효하지 않음\n",
    "    - 인수 : 실제 매개변수에 대입되는 변수\n",
    "    - \"호출 시에 인수가 매개변수에 복제된다\"\n",
    "1. 위치 인수\n",
    "    - positional argument\n",
    "    - 매개변수를 값에 순서에 상용하게 복제함\n",
    "2. 키워드 인수\n",
    "    - keyword argument\n",
    "    - 매개변수 키워드에 맞는 인수로 지정 -> 위치가 달라도 됨\n",
    "3. 디폴트 인수\n",
    "    - default argument\n",
    "    - 매개변수를 정의할 때 값을 미리 지정해놓는 것\n",
    "    - 호출 시에 값이 입력되지 않을 경우 디폴트 값을 사용함\n",
    "    - 단, 디폴트 값이 언디폴트 값 앞에 올 수 없음. 디폴트값이 뒤에 와야함"
   ]
  },
  {
   "cell_type": "code",
   "execution_count": 9,
   "id": "3f02225e-b136-4ef8-af4e-059d14888a2c",
   "metadata": {},
   "outputs": [
    {
     "name": "stdout",
     "output_type": "stream",
     "text": [
      "yay\n"
     ]
    }
   ],
   "source": [
    "# sound = 매개변수, yay = 인수\n",
    "def make_a_sound(sound): \n",
    "    print(sound)\n",
    "yay = 'yay'\n",
    "make_a_sound(yay)"
   ]
  },
  {
   "cell_type": "code",
   "execution_count": 11,
   "id": "c675cd9e-2c19-432a-88a7-851ce8340770",
   "metadata": {},
   "outputs": [
    {
     "data": {
      "text/plain": [
       "'yay'"
      ]
     },
     "execution_count": 11,
     "metadata": {},
     "output_type": "execute_result"
    }
   ],
   "source": [
    "# sound를 출력하면 에러발생 -> 함수 밖에서는 sound라는 매개변수는 유효하지 않음\n",
    "# yay는 유효\n",
    "yay"
   ]
  },
  {
   "cell_type": "code",
   "execution_count": 12,
   "id": "2cce1799-4e35-41e3-92a9-c85bef15292d",
   "metadata": {},
   "outputs": [
    {
     "data": {
      "text/plain": [
       "'black'"
      ]
     },
     "execution_count": 12,
     "metadata": {},
     "output_type": "execute_result"
    }
   ],
   "source": [
    "def commentary(color):\n",
    "    if color == 'g':\n",
    "        return 'green'\n",
    "    else:\n",
    "        return 'black'\n",
    "    \n",
    "color = 'white'\n",
    "commentary(color)"
   ]
  },
  {
   "cell_type": "code",
   "execution_count": 14,
   "id": "bcb6a0e1-c220-4533-9c89-e41d8eeb8d42",
   "metadata": {},
   "outputs": [
    {
     "name": "stdout",
     "output_type": "stream",
     "text": [
      "green\n",
      "black\n",
      "black\n"
     ]
    }
   ],
   "source": [
    "# 함수의 실제적인 사용\n",
    "colors = ['g', 'b', 't']\n",
    "\n",
    "for color in colors:\n",
    "    print(commentary(color))"
   ]
  },
  {
   "cell_type": "code",
   "execution_count": 15,
   "id": "0a6f58f9-373b-4307-88e3-f07c0b2b81b8",
   "metadata": {},
   "outputs": [
    {
     "data": {
      "text/plain": [
       "{'wine': 'a', 'entree': 'b', 'dessert': 'c'}"
      ]
     },
     "execution_count": 15,
     "metadata": {},
     "output_type": "execute_result"
    }
   ],
   "source": [
    "# 1. 위치 인수\n",
    "# 위치에 맞게 순차적으로 들어가는 것\n",
    "def menu(wine, entree, dessert):\n",
    "    return {'wine':wine, 'entree':entree, 'dessert':dessert}\n",
    "\n",
    "menu('a', 'b', 'c')"
   ]
  },
  {
   "cell_type": "code",
   "execution_count": 19,
   "id": "95f514ba-612d-42c5-b5b4-95c08af47c86",
   "metadata": {},
   "outputs": [
    {
     "data": {
      "text/plain": [
       "{'wine': 'c', 'entree': 'a', 'dessert': 'b'}"
      ]
     },
     "execution_count": 19,
     "metadata": {},
     "output_type": "execute_result"
    }
   ],
   "source": [
    "# 2. 키워드 인수\n",
    "# 호출부분에서 사용\n",
    "menu(entree='a', dessert='b', wine='c')"
   ]
  },
  {
   "cell_type": "code",
   "execution_count": 21,
   "id": "893e8e26-ce05-4dc7-bcef-1e4179cbd23c",
   "metadata": {},
   "outputs": [
    {
     "data": {
      "text/plain": [
       "{'wine': 'rioja', 'entree': 'egg', 'dessert': 'strawberry'}"
      ]
     },
     "execution_count": 21,
     "metadata": {},
     "output_type": "execute_result"
    }
   ],
   "source": [
    "# 디폴트 인수\n",
    "def menu2(wine, entree, dessert='strawberry'):\n",
    "    return {'wine':wine, 'entree':entree, 'dessert':dessert}\n",
    "\n",
    "# 값을 넣지 않으면 디폴트 값, dessert -> strawberry\n",
    "menu2('rioja', 'egg') "
   ]
  },
  {
   "cell_type": "code",
   "execution_count": 23,
   "id": "3d9155af-b68a-4c00-8970-84ab84eb07a9",
   "metadata": {},
   "outputs": [
    {
     "data": {
      "text/plain": [
       "{'wine': 'rioja', 'entree': 'egg', 'dessert': 'kiwi'}"
      ]
     },
     "execution_count": 23,
     "metadata": {},
     "output_type": "execute_result"
    }
   ],
   "source": [
    "# dessert -> kiwi\n",
    "menu2('rioja', 'egg', 'kiwi') "
   ]
  },
  {
   "cell_type": "markdown",
   "id": "3f051100-df05-41a3-a7f0-2e3b78655741",
   "metadata": {},
   "source": [
    "### 3. 호출방식\n",
    "- 정의 부분은 호출 시 실행됨\n",
    "- 메모리에 저장되어 있다가 호출 시에 사용되는 방식\n",
    "- 매개변수 vs. 인수\n",
    "    - 참조에 의한 호출 (call by reference)\n",
    "    - \"매개변수 = 인수\"로 copy되기 때문에 나타나는 문제점\n",
    "        - 리스트처럼 가변 객체일 때 주소값을 공유하므로 값이 변함"
   ]
  },
  {
   "cell_type": "code",
   "execution_count": 26,
   "id": "074ae3cf-d2cc-4f22-a5dc-5ba908f761c9",
   "metadata": {},
   "outputs": [
    {
     "name": "stdout",
     "output_type": "stream",
     "text": [
      "2\n",
      "3\n",
      "1\n",
      "4\n"
     ]
    }
   ],
   "source": [
    "# 정의부분은 호출된 후에 실행됨\n",
    "def multiply(x, y):\n",
    "    print('1')\n",
    "    return x * y\n",
    "\n",
    "print('2')\n",
    "i = 2\n",
    "j = 4\n",
    "\n",
    "print('3')\n",
    "multiply(i, j) # i=2, j=4 -> x=i, y=j(값이 넘어가는 것이 아니라 변수가 복제됨) -> shallow copy\n",
    "\n",
    "print('4')"
   ]
  },
  {
   "cell_type": "code",
   "execution_count": 27,
   "id": "3acaa392-cde8-4430-9e6a-9650bd65b1e3",
   "metadata": {},
   "outputs": [
    {
     "name": "stdout",
     "output_type": "stream",
     "text": [
      "['a']\n",
      "['a', 'b']\n"
     ]
    }
   ],
   "source": [
    "def buggy(arg, result=[]):\n",
    "    result.append(arg)\n",
    "    print(result)\n",
    "    \n",
    "a, b = 'a', 'b'\n",
    "buggy(a) # ['a']\n",
    "buggy(b) # ['b'] -> 실제 값: ['a', 'b']"
   ]
  },
  {
   "cell_type": "code",
   "execution_count": 29,
   "id": "be7e9977-1e98-4054-8d3c-3fd303043855",
   "metadata": {},
   "outputs": [
    {
     "name": "stdout",
     "output_type": "stream",
     "text": [
      "['a']\n",
      "['b']\n"
     ]
    }
   ],
   "source": [
    "# 위와 같이 하고 싶지 않다면, reset이 되도록 정의 처음에 빈 객체를 설정\n",
    "\n",
    "def buggy(arg):\n",
    "    result=[]\n",
    "    result.append(arg)\n",
    "    print(result)\n",
    "     \n",
    "a, b = 'a', 'b'\n",
    "buggy(a) \n",
    "buggy(b) "
   ]
  },
  {
   "cell_type": "code",
   "execution_count": 34,
   "id": "1b1a275c-7bdc-437c-9b43-82bb954c0408",
   "metadata": {},
   "outputs": [
    {
     "name": "stdout",
     "output_type": "stream",
     "text": [
      "['a']\n",
      "['a', 'b']\n",
      "['b']\n"
     ]
    }
   ],
   "source": [
    "# 위의 두 가지를 조건식으로 포함하는 함수 만들기\n",
    "# 리스트가 없으면(타입이 없을 때, 없는 값) 빈 리스트 생성하고, 있으면 그거 써라.\n",
    "# == value만, is value와 id까지 같은 것 \n",
    "\n",
    "def nonbuggy(arg, result=[]):\n",
    "    if result is None: \n",
    "        result = []   \n",
    "        \n",
    "    result.append(arg)\n",
    "    print(result)\n",
    "\n",
    "nonbuggy('a')\n",
    "nonbuggy('b')\n",
    "nonbuggy('b', None)"
   ]
  },
  {
   "cell_type": "code",
   "execution_count": 35,
   "id": "f90fb5b9-f546-4167-ae06-2d6c9d985c31",
   "metadata": {},
   "outputs": [
    {
     "name": "stdout",
     "output_type": "stream",
     "text": [
      "['a']\n",
      "['b']\n",
      "['c', 'a']\n",
      "['c', 'a', 'b']\n"
     ]
    }
   ],
   "source": [
    "# result를 None으로 디폴트값 정하기\n",
    "\n",
    "def nonbuggy(arg, result=None):\n",
    "    if result is None:\n",
    "        result = []\n",
    "        \n",
    "    result.append(arg)\n",
    "    print(result)\n",
    "    \n",
    "# 디폴트값이 None이라 쌓이지 않음\n",
    "nonbuggy('a')\n",
    "nonbuggy('b')\n",
    "    \n",
    "# result 인수를 입력하면 쌓이게 됨\n",
    "empty = ['c']\n",
    "nonbuggy('a', empty)\n",
    "nonbuggy('b', empty)"
   ]
  },
  {
   "cell_type": "code",
   "execution_count": 31,
   "id": "6ace75c9-526a-4144-bf52-176e065b3897",
   "metadata": {
    "tags": []
   },
   "outputs": [
    {
     "name": "stdout",
     "output_type": "stream",
     "text": [
      "None\n"
     ]
    }
   ],
   "source": [
    "# \"없는 값, 아무것도 없다\" -> None\n",
    "# None은 True도 False도 아님\n",
    "\n",
    "thing = None\n",
    "\n",
    "if thing:\n",
    "    print(\"True\")\n",
    "elif thing == False:\n",
    "    print('False')\n",
    "else:\n",
    "    print('None')"
   ]
  },
  {
   "cell_type": "code",
   "execution_count": 36,
   "id": "0829ea2f-0586-451b-b578-fa963dc579fd",
   "metadata": {},
   "outputs": [
    {
     "name": "stdout",
     "output_type": "stream",
     "text": [
      "london\n",
      "paris\n"
     ]
    }
   ],
   "source": [
    "# 지역 변수(함수 내에서만)\n",
    "\n",
    "def fx():\n",
    "    city = 'london' # 여기의 city는 지역변수\n",
    "    print(city)\n",
    "    \n",
    "city = 'paris'\n",
    "fx() # 예상해본 바로는 여기서 city = london이 되어서 \n",
    "print(city) # 예상값은 london ?? 이 아니다!"
   ]
  },
  {
   "cell_type": "code",
   "execution_count": 38,
   "id": "dd1ff23d-d62e-480d-acc3-2a63d775d9f0",
   "metadata": {},
   "outputs": [
    {
     "name": "stdout",
     "output_type": "stream",
     "text": [
      "london\n",
      "london\n"
     ]
    }
   ],
   "source": [
    "# 전역 변수(함수 밖에서도)\n",
    "\n",
    "def fx():\n",
    "    global city # 아래의 city를 함수 밖에서도 사용하고 싶을 때\n",
    "    city = 'london' \n",
    "    print(city)\n",
    "    \n",
    "city = 'paris'\n",
    "fx()  # global을 통해 city = london이 됨\n",
    "print(city) "
   ]
  },
  {
   "cell_type": "code",
   "execution_count": 40,
   "id": "1c223354-e0c2-4fd1-a017-9425fcd9a34a",
   "metadata": {},
   "outputs": [
    {
     "data": {
      "text/plain": [
       "'london'"
      ]
     },
     "execution_count": 40,
     "metadata": {},
     "output_type": "execute_result"
    }
   ],
   "source": [
    "city # 함수 밖에서도 유효함"
   ]
  },
  {
   "cell_type": "code",
   "execution_count": 43,
   "id": "7b9963e6-cdc3-4790-958a-0fc89f672ff0",
   "metadata": {},
   "outputs": [
    {
     "data": {
      "text/plain": [
       "'word'"
      ]
     },
     "execution_count": 43,
     "metadata": {},
     "output_type": "execute_result"
    }
   ],
   "source": [
    "# return 없고 있고의 차이점\n",
    "\n",
    "def make_a_sound1(sound):\n",
    "    print(sound)\n",
    "    \n",
    "def make_a_sound2(sound):\n",
    "    return sound\n",
    "\n",
    "word = make_a_sound2('word')\n",
    "word\n",
    "# return값을 변수로 받아서 사용할 수 있음"
   ]
  },
  {
   "cell_type": "markdown",
   "id": "46bfdaec-3ec9-4fae-8153-e22a54335304",
   "metadata": {},
   "source": [
    "## doc string\n",
    "- 함수를 설명하는 부분\n",
    "- 매개변수의 타입이 무엇인지, 의미가 뭔지, 함수의 기능을 설명\n",
    "- 독스트링 형식\n",
    "    - '''\n",
    "        \n",
    "            독스트링\n",
    "      '''"
   ]
  },
  {
   "cell_type": "code",
   "execution_count": 46,
   "id": "6cd4bdaa-58f0-43f2-b174-2f1568c79f09",
   "metadata": {},
   "outputs": [],
   "source": [
    "def buggy(arg, result=[]):\n",
    "    '''\n",
    "    arg : str, 꽃 이름\n",
    "    result : list, ---\n",
    "    꽃 이름을 리스트에 추가한다\n",
    "    '''\n",
    "    if result is None: \n",
    "        result = []   \n",
    "        \n",
    "    result.append(arg)\n",
    "    print(result)"
   ]
  },
  {
   "cell_type": "code",
   "execution_count": 47,
   "id": "a6b4d670-2d32-4ac7-9c77-904e94c3e383",
   "metadata": {},
   "outputs": [
    {
     "name": "stdout",
     "output_type": "stream",
     "text": [
      "Help on function buggy in module __main__:\n",
      "\n",
      "buggy(arg, result=[])\n",
      "    arg : str, 꽃 이름\n",
      "    result : list, ---\n",
      "    꽃 이름을 리스트에 추가한다\n",
      "\n"
     ]
    }
   ],
   "source": [
    "# 독스트링을 확인하고 싶을 때 1\n",
    "help(buggy)"
   ]
  },
  {
   "cell_type": "code",
   "execution_count": 48,
   "id": "5d3b33b6-6838-4ea6-8461-016f1fc5cba4",
   "metadata": {},
   "outputs": [
    {
     "data": {
      "text/plain": [
       "'\\n    arg : str, 꽃 이름\\n    result : list, ---\\n    꽃 이름을 리스트에 추가한다\\n    '"
      ]
     },
     "execution_count": 48,
     "metadata": {},
     "output_type": "execute_result"
    }
   ],
   "source": [
    "# 독스트링을 확인하고 싶을 때 2\n",
    "buggy.__doc__"
   ]
  },
  {
   "cell_type": "code",
   "execution_count": 50,
   "id": "1ca08c4e-0d2e-49dd-b398-1347c81f5add",
   "metadata": {},
   "outputs": [
    {
     "name": "stdin",
     "output_type": "stream",
     "text": [
      "나이를 입력하세요 21\n"
     ]
    },
    {
     "data": {
      "text/plain": [
       "2002"
      ]
     },
     "execution_count": 50,
     "metadata": {},
     "output_type": "execute_result"
    }
   ],
   "source": [
    "# 나이를 입력받으면 태어난 년도 반환\n",
    "\n",
    "def age_to_year(age):\n",
    "    this_year = 2022\n",
    "    return this_year - age + 1 \n",
    "\n",
    "age = int(input('나이를 입력하세요'))\n",
    "age_to_year(age)"
   ]
  },
  {
   "cell_type": "markdown",
   "id": "c92789e9-1625-4076-9431-c603e98e44ce",
   "metadata": {},
   "source": [
    "## Brown 정제\n",
    "1. 문장 분절\n",
    "2. 단어 분절\n",
    "3. 문장부호 제거\n",
    "4. 하이픈, 's 단어로 분절\n",
    "5. (중간고사) 위의 것을 함수로 만들기"
   ]
  },
  {
   "cell_type": "code",
   "execution_count": 54,
   "id": "30f7f640-b55e-4522-ac54-a77a9c26ad6b",
   "metadata": {
    "tags": []
   },
   "outputs": [
    {
     "name": "stderr",
     "output_type": "stream",
     "text": [
      "[nltk_data] Downloading package brown to\n",
      "[nltk_data]     C:\\Users\\KBS\\AppData\\Roaming\\nltk_data...\n",
      "[nltk_data]   Package brown is already up-to-date!\n"
     ]
    }
   ],
   "source": [
    "import string\n",
    "import nltk\n",
    "\n",
    "nltk.download('brown')\n",
    "brown = nltk.corpus.brown\n",
    "romance = brown.raw(categories='romance')[:5000]"
   ]
  },
  {
   "cell_type": "markdown",
   "id": "f97d14c3-4438-44ac-ad7a-24c50cbc8860",
   "metadata": {},
   "source": [
    "### 1. 문장 분절"
   ]
  },
  {
   "cell_type": "code",
   "execution_count": 60,
   "id": "ef75e375-6fa4-4a68-b464-fb213a684429",
   "metadata": {},
   "outputs": [
    {
     "data": {
      "text/plain": [
       "'They/ppss neither/cc liked/vbd nor/cc disliked/vbd the/at Old/jj-tl Man/nn-tl .'"
      ]
     },
     "execution_count": 60,
     "metadata": {},
     "output_type": "execute_result"
    }
   ],
   "source": [
    "# ./.\n",
    "# /.\n",
    "# \\n\n",
    "\n",
    "sentences = romance.split('./.')\n",
    "\n",
    "# 문장 앞 뒤 공백 지우기\n",
    "sentences = [sent.strip() for sent in romance.split('/.')]\n",
    "\n",
    "# ! 없애기\n",
    "[s for s in sentences if s != '!']\n",
    "\n",
    "sentences[0]"
   ]
  },
  {
   "cell_type": "markdown",
   "id": "668c8b70-8e03-4d90-9f62-195f90f53970",
   "metadata": {},
   "source": [
    "### 2. 단어 분절\n",
    "- 각 단어의 pos tag 제거하고 분절하기"
   ]
  },
  {
   "cell_type": "code",
   "execution_count": 68,
   "id": "344f840d-b9db-4f43-9e53-5d192e58098a",
   "metadata": {},
   "outputs": [],
   "source": [
    "# 전체적으로 많이 쓰이는 것은 변수 설정(대문자로)\n",
    "SLASH = '/'"
   ]
  },
  {
   "cell_type": "code",
   "execution_count": 63,
   "id": "648e1c42-9ff7-4d39-8171-003832d4054c",
   "metadata": {},
   "outputs": [
    {
     "data": {
      "text/plain": [
       "['They', 'neither', 'liked', 'nor', 'disliked', 'the', 'Old', 'Man', '.']"
      ]
     },
     "execution_count": 63,
     "metadata": {},
     "output_type": "execute_result"
    }
   ],
   "source": [
    "example = sentences[0]\n",
    "[word[:word.find(SLASH)] if SLASH in word else word for word in example.split()]"
   ]
  },
  {
   "cell_type": "code",
   "execution_count": 77,
   "id": "81acf02c-46d9-4839-9fb7-8c9695014382",
   "metadata": {
    "tags": []
   },
   "outputs": [],
   "source": [
    "# 위의 것을 전체 문장을 타게 만들기\n",
    "sentence_tokens = [[word[:word.find(SLASH)] \\\n",
    " if SLASH in word else word \\\n",
    " for word in example.split()] for example in sentences]"
   ]
  },
  {
   "cell_type": "markdown",
   "id": "2b8f2a98-28c8-4fac-844f-412e893802c2",
   "metadata": {},
   "source": [
    "### 3. 문장부호 (punctuation)"
   ]
  },
  {
   "cell_type": "code",
   "execution_count": 75,
   "id": "55e59cba-77b4-4268-a02a-1429f00f5951",
   "metadata": {
    "tags": []
   },
   "outputs": [
    {
     "name": "stdout",
     "output_type": "stream",
     "text": [
      "['!', '\"', '#', '$', '%', '&', \"'\", '(', ')', '*', '+', ',', '-', '.', '/', ':', ';', '<', '=', '>', '?', '@', '[', '\\\\', ']', '^', '_', '`', '{', '|', '}', '~']\n"
     ]
    }
   ],
   "source": [
    "punct = list(string.punctuation)\n",
    "print(punct)"
   ]
  },
  {
   "cell_type": "code",
   "execution_count": 78,
   "id": "3bf800a9-67c5-48ef-acd9-0668c4089a9e",
   "metadata": {},
   "outputs": [
    {
     "name": "stdout",
     "output_type": "stream",
     "text": [
      "['!', '\"', '#', '$', '%', '&', \"'\", '(', ')', '*', '+', ',', '-', '.', '/', ':', ';', '<', '=', '>', '?', '@', '[', '\\\\', ']', '^', '_', '`', '{', '|', '}', '~', '--', \"''\", '``']\n"
     ]
    }
   ],
   "source": [
    "# punct에 없는 것을 찾아서 punct에 extend하기\n",
    "\n",
    "my_punct = set([word for sent in sentence_tokens \n",
    "                for word in sent \n",
    "                if not word[0].isalnum() and (word not in punct)])\n",
    "my_punct\n",
    "punct.extend(list(my_punct))\n",
    "print(punct)"
   ]
  },
  {
   "cell_type": "code",
   "execution_count": 89,
   "id": "25cd1ce9-3fb7-46ba-a8b6-e44c10b9a19b",
   "metadata": {},
   "outputs": [],
   "source": [
    "# punct에 없는 문장부호까지 제거하기\n",
    "\n",
    "clean_sent_tokens = [[word for word in sent if word not in punct] for sent in sentence_tokens]"
   ]
  },
  {
   "cell_type": "markdown",
   "id": "06cdc756-fe55-4f70-8829-307e371623f5",
   "metadata": {},
   "source": [
    "### 4. 하이픈, 's 단어로 분절"
   ]
  },
  {
   "cell_type": "code",
   "execution_count": 90,
   "id": "e63ad047-b158-4df3-99f9-7941f2d0f314",
   "metadata": {},
   "outputs": [
    {
     "data": {
      "text/plain": [
       "['fur', 'piece']"
      ]
     },
     "execution_count": 90,
     "metadata": {},
     "output_type": "execute_result"
    }
   ],
   "source": [
    "# 하이픈으로 연결된 단어) split한 뒤에 extend\n",
    "'fur-piece'.split('-')"
   ]
  },
  {
   "cell_type": "code",
   "execution_count": 91,
   "id": "681d01d7-5b6e-4ced-9573-be77e380ecd0",
   "metadata": {},
   "outputs": [
    {
     "data": {
      "text/plain": [
       "('she', \"'s\")"
      ]
     },
     "execution_count": 91,
     "metadata": {},
     "output_type": "execute_result"
    }
   ],
   "source": [
    "# 어퍼스트로피 단어\n",
    "# split으로 X\n",
    "# index로 나눈 뒤에 extend\n",
    "word = 'she\\'s'\n",
    "index = word.find('\\'')\n",
    "word[:index], word[index:]"
   ]
  },
  {
   "cell_type": "code",
   "execution_count": 92,
   "id": "d8288816-9866-458f-aea8-ce9465406719",
   "metadata": {},
   "outputs": [],
   "source": [
    "# 해리포터 중 단어가 '로 연결된 것\n",
    "# 's, 'nt, 'd -> 조건1\n",
    "# 나머지들은 그냥 붙인다"
   ]
  },
  {
   "cell_type": "markdown",
   "id": "d6c13da6-2f0b-438f-b149-9febe11d3563",
   "metadata": {},
   "source": [
    "## 함수 실습"
   ]
  },
  {
   "cell_type": "code",
   "execution_count": 98,
   "id": "70d673fa-2b7f-4c6d-b8c4-65d672f2c490",
   "metadata": {},
   "outputs": [
    {
     "data": {
      "text/plain": [
       "['They', 'neither', 'liked', 'nor', 'disliked', 'the', 'Old', 'Man']"
      ]
     },
     "execution_count": 98,
     "metadata": {},
     "output_type": "execute_result"
    }
   ],
   "source": [
    "# 함수로 만들기 : 문장이 들어왔을 때 POS제거, punct 제거, 토큰 리스트로 반환하기\n",
    "\n",
    "def tokenize_word(sent):\n",
    "    token_list = [word[:word.find(SLASH)] for word in sent.split() \n",
    "                  if SLASH in word and word not in punct]\n",
    "    \n",
    "    return token_list\n",
    "\n",
    "tokenize_word(sentences[0])"
   ]
  }
 ],
 "metadata": {
  "kernelspec": {
   "display_name": "Python 3 (ipykernel)",
   "language": "python",
   "name": "python3"
  },
  "language_info": {
   "codemirror_mode": {
    "name": "ipython",
    "version": 3
   },
   "file_extension": ".py",
   "mimetype": "text/x-python",
   "name": "python",
   "nbconvert_exporter": "python",
   "pygments_lexer": "ipython3",
   "version": "3.9.7"
  }
 },
 "nbformat": 4,
 "nbformat_minor": 5
}
