{
 "cells": [
  {
   "cell_type": "markdown",
   "id": "43cc3bf6-baf9-430d-b172-bbc7ff152e9d",
   "metadata": {},
   "source": [
    "# 함수 II\n",
    "1. 일급 객체\n",
    "2. 중첩 함수\n",
    "3. 익명 함수\n",
    "4. 제너레이터\n",
    "5. 재귀 함수"
   ]
  },
  {
   "cell_type": "markdown",
   "id": "9c129ee0-2d9b-45a2-8b19-a33b103b3fe3",
   "metadata": {},
   "source": [
    "---"
   ]
  },
  {
   "cell_type": "markdown",
   "id": "0eeb1ead-374c-40f7-a182-8c22c0d21952",
   "metadata": {},
   "source": [
    "## 1. 일급 객체\n",
    "- first class object, first class citizen\n",
    "- 파이썬에서는 함수도 일급 객체다\n",
    "    - **파이썬에서는 함수도 아래의 역할이 주어졌다**\n",
    "- 일급 객체의 조건 (아래 3가지 조건을 만족)\n",
    "    1. 함수의 인자로 전달된다  \n",
    "        def fx(func): => 인자가 함수\n",
    "    2. 함수의 반환값이 된다  \n",
    "        def fx(func):\n",
    "            return func => 함수를 반환 가능\n",
    "    3. 수정, 할당이 된다  \n",
    "        var = fx() => 반환값이 함수였을 때 변수 할당 가능"
   ]
  },
  {
   "cell_type": "code",
   "execution_count": 1,
   "id": "c3609b85-3fe2-4b14-b83e-e566b7a68696",
   "metadata": {},
   "outputs": [
    {
     "name": "stdout",
     "output_type": "stream",
     "text": [
      "42\n"
     ]
    }
   ],
   "source": [
    "def answer():\n",
    "    print(42)\n",
    "    \n",
    "def run_sth(func):\n",
    "    func() # ()가 붙으면 실행한다는 뜻 \n",
    "    # 함수를 인자로 받고 실행함\n",
    "\n",
    "run_sth(answer)"
   ]
  },
  {
   "cell_type": "code",
   "execution_count": 2,
   "id": "d8862b8d-00aa-4a5c-8e05-6e56f315eabb",
   "metadata": {},
   "outputs": [
    {
     "name": "stdout",
     "output_type": "stream",
     "text": [
      "8\n"
     ]
    }
   ],
   "source": [
    "def add_args(arg1, arg2):\n",
    "    print(arg1 + arg2)\n",
    "\n",
    "def run_sth2(func, *args): # asterisk 패킹 사용\n",
    "    func(*args) \n",
    "\n",
    "run_sth2(add_args, 3, 5)    "
   ]
  },
  {
   "cell_type": "markdown",
   "id": "73f0ec1f-b6dd-45a3-8e09-3a946eb4c543",
   "metadata": {},
   "source": [
    "---"
   ]
  },
  {
   "cell_type": "markdown",
   "id": "6d8b9bea-2260-4de8-ab8d-adb1e13057eb",
   "metadata": {},
   "source": [
    "## 2. 중첩 함수\n",
    "- 일급객체를 이용해 함수 안에서 또 다른 함수를 정의하는 것\n",
    "- 왜 이렇게 쓰나? **내부함수의 캡슐화**\n",
    "    - 메모리 절약할 수 있음\n",
    "    - 변수가 섞여서 불필요하게 충돌하는 것을 방지함\n",
    "    - 목적에 맞게 변수를 그룹화하여 관리, 책임을 명확히함"
   ]
  },
  {
   "cell_type": "code",
   "execution_count": 9,
   "id": "3943ee02-3055-4eb0-89df-100f77c83d1a",
   "metadata": {},
   "outputs": [
    {
     "data": {
      "text/plain": [
       "2"
      ]
     },
     "execution_count": 9,
     "metadata": {},
     "output_type": "execute_result"
    }
   ],
   "source": [
    "def outer(a, b):\n",
    "    def inner(c, d):\n",
    "        return c + d\n",
    "    return inner(a, b)\n",
    "\n",
    "outer(1, 1) # outer => 외부함수, inner => 내부함수"
   ]
  },
  {
   "cell_type": "code",
   "execution_count": 8,
   "id": "71fee245-0535-4882-9c07-4f58a1861616",
   "metadata": {},
   "outputs": [
    {
     "ename": "NameError",
     "evalue": "name 'inner' is not defined",
     "output_type": "error",
     "traceback": [
      "\u001b[1;31m---------------------------------------------------------------------------\u001b[0m",
      "\u001b[1;31mNameError\u001b[0m                                 Traceback (most recent call last)",
      "\u001b[1;32m~\\AppData\\Local\\Temp/ipykernel_25116/1470234969.py\u001b[0m in \u001b[0;36m<module>\u001b[1;34m\u001b[0m\n\u001b[0;32m      1\u001b[0m \u001b[1;31m# 함수 내의 함수에 넣으면 오류\u001b[0m\u001b[1;33m\u001b[0m\u001b[1;33m\u001b[0m\u001b[0m\n\u001b[0;32m      2\u001b[0m \u001b[1;31m# 내부 함수이기 때문에 건들일 수 없음\u001b[0m\u001b[1;33m\u001b[0m\u001b[1;33m\u001b[0m\u001b[0m\n\u001b[1;32m----> 3\u001b[1;33m \u001b[0minner\u001b[0m\u001b[1;33m(\u001b[0m\u001b[1;36m1\u001b[0m\u001b[1;33m,\u001b[0m \u001b[1;36m1\u001b[0m\u001b[1;33m)\u001b[0m\u001b[1;33m\u001b[0m\u001b[1;33m\u001b[0m\u001b[0m\n\u001b[0m",
      "\u001b[1;31mNameError\u001b[0m: name 'inner' is not defined"
     ]
    }
   ],
   "source": [
    "# 함수 내의 함수에 넣으면 오류\n",
    "# 내부 함수이기 때문에 건들일 수 없음\n",
    "inner(1, 1)"
   ]
  },
  {
   "cell_type": "code",
   "execution_count": 10,
   "id": "11508015-d453-430e-b1db-ffc1ccfe2b7d",
   "metadata": {},
   "outputs": [],
   "source": [
    "def knight(saying):\n",
    "    def inner():\n",
    "        return f'We are the knights who say: {saying}'\n",
    "    return inner\n",
    "\n",
    "a = knight('hi')\n",
    "b = knight('안녕')"
   ]
  },
  {
   "cell_type": "code",
   "execution_count": 13,
   "id": "1ef92cad-4631-4d54-aa1a-ee79a0096031",
   "metadata": {},
   "outputs": [
    {
     "data": {
      "text/plain": [
       "(<function __main__.knight.<locals>.inner()>,\n",
       " <function __main__.knight.<locals>.inner()>)"
      ]
     },
     "execution_count": 13,
     "metadata": {},
     "output_type": "execute_result"
    }
   ],
   "source": [
    "a, b # ()없이"
   ]
  },
  {
   "cell_type": "code",
   "execution_count": 14,
   "id": "ff5265ed-16ca-41e4-9920-b9bb92e99b82",
   "metadata": {},
   "outputs": [
    {
     "data": {
      "text/plain": [
       "('We are the knights who say: hi', 'We are the knights who say: 안녕')"
      ]
     },
     "execution_count": 14,
     "metadata": {},
     "output_type": "execute_result"
    }
   ],
   "source": [
    "a(), b() # ()있이 => 함수 실행"
   ]
  },
  {
   "cell_type": "markdown",
   "id": "2291fc34-4feb-4532-91b1-fa6a6879e614",
   "metadata": {},
   "source": [
    "### (1) 클로저 | closure\n",
    "- 이와 같이 def inner(): 처럼 인자가 없어도 외부함수의 인자를 **참조**할 수 있다  \n",
    "=> **클로저** (중첩함수의 일부분)\n",
    "- 수정이나 활용은 불가능\n",
    "- 아래 3가지 조건을 충족 => **클로저**\n",
    "    1. 중첩함수일 것\n",
    "    2. 내부함수가 외부함수의 상태값을 참조할 것  \n",
    "    We are the knights who say: {saying}\n",
    "    3. 외부함수의 리턴값이 내부함수일 것  \n",
    "    return inner\n",
    "- 정의 : 외부함수의 상태값을 기억하는 함수 (호출 시 사용 가능)"
   ]
  },
  {
   "cell_type": "code",
   "execution_count": 21,
   "id": "d27cac14-8b16-4cb1-b106-83b4f4421550",
   "metadata": {},
   "outputs": [],
   "source": [
    "# 재활용을 할 수 있는 장점이 있다\n",
    "def multiply(x):\n",
    "    def inner(y):    # 1.\n",
    "        return x * y # 2.\n",
    "    return inner     # 3.\n",
    "# 클로저의 모든 조건 충족\n",
    "\n",
    "m = multiply(5)\n",
    "n = multiply(6)"
   ]
  },
  {
   "cell_type": "code",
   "execution_count": 28,
   "id": "ea8bbff8-6f7e-4b2e-82ea-e076ec8c77ba",
   "metadata": {},
   "outputs": [
    {
     "data": {
      "text/plain": [
       "(<function __main__.multiply.<locals>.inner(y)>,\n",
       " <function __main__.multiply.<locals>.inner(y)>)"
      ]
     },
     "execution_count": 28,
     "metadata": {},
     "output_type": "execute_result"
    }
   ],
   "source": [
    "m, n"
   ]
  },
  {
   "cell_type": "code",
   "execution_count": 23,
   "id": "46a12fe5-5248-40e3-b495-0566fb35cb2d",
   "metadata": {},
   "outputs": [
    {
     "data": {
      "text/plain": [
       "(50, 60)"
      ]
     },
     "execution_count": 23,
     "metadata": {},
     "output_type": "execute_result"
    }
   ],
   "source": [
    "m(10), n(10)"
   ]
  },
  {
   "cell_type": "code",
   "execution_count": 29,
   "id": "9c772405-09b9-4daf-be1c-5b597de9cc05",
   "metadata": {},
   "outputs": [
    {
     "ename": "NameError",
     "evalue": "name 'multiply' is not defined",
     "output_type": "error",
     "traceback": [
      "\u001b[1;31m---------------------------------------------------------------------------\u001b[0m",
      "\u001b[1;31mNameError\u001b[0m                                 Traceback (most recent call last)",
      "\u001b[1;32m~\\AppData\\Local\\Temp/ipykernel_25116/604188382.py\u001b[0m in \u001b[0;36m<module>\u001b[1;34m\u001b[0m\n\u001b[0;32m      1\u001b[0m \u001b[1;32mdel\u001b[0m\u001b[1;33m(\u001b[0m\u001b[0mmultiply\u001b[0m\u001b[1;33m)\u001b[0m \u001b[1;31m# multiply 메모리 지우기\u001b[0m\u001b[1;33m\u001b[0m\u001b[1;33m\u001b[0m\u001b[0m\n\u001b[1;32m----> 2\u001b[1;33m \u001b[0mmultiply\u001b[0m\u001b[1;33m\u001b[0m\u001b[1;33m\u001b[0m\u001b[0m\n\u001b[0m",
      "\u001b[1;31mNameError\u001b[0m: name 'multiply' is not defined"
     ]
    }
   ],
   "source": [
    "del(multiply) # multiply 메모리 지우기\n",
    "multiply"
   ]
  },
  {
   "cell_type": "code",
   "execution_count": 31,
   "id": "6dbc9472-0b51-49d8-a3ca-0556717a748c",
   "metadata": {},
   "outputs": [
    {
     "data": {
      "text/plain": [
       "40"
      ]
     },
     "execution_count": 31,
     "metadata": {},
     "output_type": "execute_result"
    }
   ],
   "source": [
    "# multiply를 지워도 객체를 따로 기억해 실행 가능하다 => 메모리 효율적 사용 가능\n",
    "m(8)"
   ]
  },
  {
   "cell_type": "markdown",
   "id": "8583491c-3cc5-4a8b-8011-7759272cf55b",
   "metadata": {},
   "source": [
    "### - 클로저 함수 실습"
   ]
  },
  {
   "cell_type": "code",
   "execution_count": 55,
   "id": "bee98bb1-5598-4fc9-b4b6-56a563618cb4",
   "metadata": {},
   "outputs": [
    {
     "data": {
      "text/plain": [
       "64"
      ]
     },
     "execution_count": 55,
     "metadata": {},
     "output_type": "execute_result"
    }
   ],
   "source": [
    "def add(a, b):\n",
    "    return a + b\n",
    "\n",
    "def square(func):\n",
    "    def inner(a, b): # func의 인자가 둘 => inner에서 설정함.\n",
    "        result = func(a, b)\n",
    "        return result * result\n",
    "    return inner\n",
    "\n",
    "a = square(add)\n",
    "a(2, 6)"
   ]
  },
  {
   "cell_type": "markdown",
   "id": "aeaed2ab-85e4-4a0e-9072-e64da6ff62c5",
   "metadata": {},
   "source": [
    "### (2) 데코레이터\n",
    "- 위의 과정을 거치지 않고 더 편리하게 하는 방법\n",
    "- 메인 함수에 또 다른 함수를 취해 반환할 수 있게 함\n",
    "- 재사용성이 높음\n",
    "- 가독성, 직관성이 좋음"
   ]
  },
  {
   "cell_type": "code",
   "execution_count": 57,
   "id": "41fa18b5-b30c-4b70-b125-c5b88e12225c",
   "metadata": {},
   "outputs": [
    {
     "data": {
      "text/plain": [
       "81"
      ]
     },
     "execution_count": 57,
     "metadata": {},
     "output_type": "execute_result"
    }
   ],
   "source": [
    "@square\n",
    "def plus(a, b):\n",
    "    return a + b\n",
    "\n",
    "plus(4, 5) # square를 탄다."
   ]
  },
  {
   "cell_type": "markdown",
   "id": "b1dab7ee-ae06-40f8-982b-2daee6b02a53",
   "metadata": {},
   "source": [
    "### (3) 범위 | scope\n",
    "- 지금까지 배운 범위 \n",
    "    - 전역: global\n",
    "    - 지역: local\n",
    "- nonlocal이라는 범위가 생김"
   ]
  },
  {
   "cell_type": "code",
   "execution_count": 58,
   "id": "6ac7706e-b989-478d-adef-d81b2d7c64c8",
   "metadata": {},
   "outputs": [],
   "source": [
    "a = 1 # global\n",
    "def plus(a, b):\n",
    "    x = 2 # local\n",
    "    return a + b"
   ]
  },
  {
   "cell_type": "code",
   "execution_count": 63,
   "id": "2911e66b-2e85-4959-ad54-f543add670ca",
   "metadata": {},
   "outputs": [
    {
     "data": {
      "text/plain": [
       "999"
      ]
     },
     "execution_count": 63,
     "metadata": {},
     "output_type": "execute_result"
    }
   ],
   "source": [
    "# local을 쓰고 싶을 때 nonlocal 활용\n",
    "a = 3 # global\n",
    "\n",
    "def outer(c):              # c = 9\n",
    "    b = 5 # local\n",
    "    def inner():           # c = 9\n",
    "        c = 999 # nonlocal # c = 999로 바뀜\n",
    "        return c\n",
    "    return inner()\n",
    "\n",
    "outer(9)"
   ]
  },
  {
   "cell_type": "code",
   "execution_count": 65,
   "id": "07e2b470-b1e8-4dfa-813c-22315132b07d",
   "metadata": {},
   "outputs": [
    {
     "ename": "UnboundLocalError",
     "evalue": "local variable 'c' referenced before assignment",
     "output_type": "error",
     "traceback": [
      "\u001b[1;31m---------------------------------------------------------------------------\u001b[0m",
      "\u001b[1;31mUnboundLocalError\u001b[0m                         Traceback (most recent call last)",
      "\u001b[1;32m~\\AppData\\Local\\Temp/ipykernel_25116/990821551.py\u001b[0m in \u001b[0;36m<module>\u001b[1;34m\u001b[0m\n\u001b[0;32m      6\u001b[0m     \u001b[1;32mreturn\u001b[0m \u001b[0minner\u001b[0m\u001b[1;33m(\u001b[0m\u001b[1;33m)\u001b[0m\u001b[1;33m\u001b[0m\u001b[1;33m\u001b[0m\u001b[0m\n\u001b[0;32m      7\u001b[0m \u001b[1;33m\u001b[0m\u001b[0m\n\u001b[1;32m----> 8\u001b[1;33m \u001b[0mouter\u001b[0m\u001b[1;33m(\u001b[0m\u001b[1;36m9\u001b[0m\u001b[1;33m)\u001b[0m\u001b[1;33m\u001b[0m\u001b[1;33m\u001b[0m\u001b[0m\n\u001b[0m",
      "\u001b[1;32m~\\AppData\\Local\\Temp/ipykernel_25116/990821551.py\u001b[0m in \u001b[0;36mouter\u001b[1;34m(c)\u001b[0m\n\u001b[0;32m      4\u001b[0m         \u001b[0mc\u001b[0m \u001b[1;33m+=\u001b[0m \u001b[1;36m1\u001b[0m   \u001b[1;31m# 오류\u001b[0m\u001b[1;33m\u001b[0m\u001b[1;33m\u001b[0m\u001b[0m\n\u001b[0;32m      5\u001b[0m         \u001b[1;32mreturn\u001b[0m \u001b[0mc\u001b[0m\u001b[1;33m\u001b[0m\u001b[1;33m\u001b[0m\u001b[0m\n\u001b[1;32m----> 6\u001b[1;33m     \u001b[1;32mreturn\u001b[0m \u001b[0minner\u001b[0m\u001b[1;33m(\u001b[0m\u001b[1;33m)\u001b[0m\u001b[1;33m\u001b[0m\u001b[1;33m\u001b[0m\u001b[0m\n\u001b[0m\u001b[0;32m      7\u001b[0m \u001b[1;33m\u001b[0m\u001b[0m\n\u001b[0;32m      8\u001b[0m \u001b[0mouter\u001b[0m\u001b[1;33m(\u001b[0m\u001b[1;36m9\u001b[0m\u001b[1;33m)\u001b[0m\u001b[1;33m\u001b[0m\u001b[1;33m\u001b[0m\u001b[0m\n",
      "\u001b[1;32m~\\AppData\\Local\\Temp/ipykernel_25116/990821551.py\u001b[0m in \u001b[0;36minner\u001b[1;34m()\u001b[0m\n\u001b[0;32m      2\u001b[0m     \u001b[0mb\u001b[0m \u001b[1;33m=\u001b[0m \u001b[1;36m5\u001b[0m \u001b[1;31m# local\u001b[0m\u001b[1;33m\u001b[0m\u001b[1;33m\u001b[0m\u001b[0m\n\u001b[0;32m      3\u001b[0m     \u001b[1;32mdef\u001b[0m \u001b[0minner\u001b[0m\u001b[1;33m(\u001b[0m\u001b[1;33m)\u001b[0m\u001b[1;33m:\u001b[0m\u001b[1;33m\u001b[0m\u001b[1;33m\u001b[0m\u001b[0m\n\u001b[1;32m----> 4\u001b[1;33m         \u001b[0mc\u001b[0m \u001b[1;33m+=\u001b[0m \u001b[1;36m1\u001b[0m   \u001b[1;31m# 오류\u001b[0m\u001b[1;33m\u001b[0m\u001b[1;33m\u001b[0m\u001b[0m\n\u001b[0m\u001b[0;32m      5\u001b[0m         \u001b[1;32mreturn\u001b[0m \u001b[0mc\u001b[0m\u001b[1;33m\u001b[0m\u001b[1;33m\u001b[0m\u001b[0m\n\u001b[0;32m      6\u001b[0m     \u001b[1;32mreturn\u001b[0m \u001b[0minner\u001b[0m\u001b[1;33m(\u001b[0m\u001b[1;33m)\u001b[0m\u001b[1;33m\u001b[0m\u001b[1;33m\u001b[0m\u001b[0m\n",
      "\u001b[1;31mUnboundLocalError\u001b[0m: local variable 'c' referenced before assignment"
     ]
    }
   ],
   "source": [
    "def outer(c):              \n",
    "    b = 5 # local\n",
    "    def inner():           \n",
    "        c += 1   # 오류\n",
    "        return c\n",
    "    return inner()\n",
    "\n",
    "outer(9)"
   ]
  },
  {
   "cell_type": "code",
   "execution_count": 66,
   "id": "13d81c12-501b-4b5a-80b4-7135e8c23248",
   "metadata": {},
   "outputs": [
    {
     "data": {
      "text/plain": [
       "10"
      ]
     },
     "execution_count": 66,
     "metadata": {},
     "output_type": "execute_result"
    }
   ],
   "source": [
    "def outer(c):              \n",
    "    b = 5 # local\n",
    "    def inner():\n",
    "        nonlocal c # c의 범위를 바꿔줘야함\n",
    "        c += 1   \n",
    "        return c\n",
    "    return inner()\n",
    "\n",
    "outer(9)"
   ]
  },
  {
   "cell_type": "markdown",
   "id": "718683c5-f919-4c58-890c-e31e626e3514",
   "metadata": {
    "tags": []
   },
   "source": [
    "### - 실습\n",
    "- fx1: speed, limit를 받아서 내 속도가 제한속도를 위반하는지 t/f\n",
    "- fx2: 클로저, 초과할 경우 얼마나 초과하는지 프린트하는 함수\n",
    "- 실행은 데코레이터로 fx1를 실행하면 되도록 만들기"
   ]
  },
  {
   "cell_type": "code",
   "execution_count": 69,
   "id": "024f51fb-1c85-4c94-bec6-3f3387ee1a82",
   "metadata": {},
   "outputs": [],
   "source": [
    "# fx2\n",
    "def violate(func):\n",
    "    def inner(speed, limit):\n",
    "        if func(speed, limit):\n",
    "            return f'{speed - limit}km/h 초과'\n",
    "        else:\n",
    "            return '정상 속도'\n",
    "    return inner\n",
    "\n",
    "# fx1\n",
    "@violate\n",
    "def is_speeding(speed, limit):\n",
    "    return speed > limit"
   ]
  },
  {
   "cell_type": "code",
   "execution_count": 70,
   "id": "ffe27ddf-7e08-4c1e-899e-8c3e3a9eb5a3",
   "metadata": {},
   "outputs": [
    {
     "data": {
      "text/plain": [
       "'20km/h 초과'"
      ]
     },
     "execution_count": 70,
     "metadata": {},
     "output_type": "execute_result"
    }
   ],
   "source": [
    "is_speeding(100, 80)"
   ]
  },
  {
   "cell_type": "code",
   "execution_count": 71,
   "id": "304f66df-0bdc-4f25-892e-79949a5e8983",
   "metadata": {},
   "outputs": [
    {
     "data": {
      "text/plain": [
       "'정상 속도'"
      ]
     },
     "execution_count": 71,
     "metadata": {},
     "output_type": "execute_result"
    }
   ],
   "source": [
    "is_speeding(50, 80)"
   ]
  },
  {
   "cell_type": "markdown",
   "id": "05a302d2-d8c6-4f93-89c2-48b867a3caf5",
   "metadata": {},
   "source": [
    "---"
   ]
  },
  {
   "cell_type": "markdown",
   "id": "e3590c39-5d21-4c59-8d01-166caf62d2dd",
   "metadata": {},
   "source": [
    "## 3. 익명 함수 | lambda\n",
    "- 이름이 없다 => **예약어가 없다**  \n",
    "  def is_speeding():  \n",
    "         return\n",
    "- def, return => 이런 예약어를 안 씀\n",
    "- is_speeding => 이름은 써도 되고 안 써도 됨\n",
    "- 익명 함수 왜 씀?\n",
    "    - 재사용할 일이 없고 빨리 처리해야 할 때 **단순한 용도의 함수**가 필요한 경우 사용\n",
    "- 잦은 사용은 권하지 않음\n",
    "- 형식\n",
    "    - **lambda 인자: 요리할 코드**"
   ]
  },
  {
   "cell_type": "code",
   "execution_count": 72,
   "id": "7ba56b13-db4e-4941-bd31-f0dce89c7cae",
   "metadata": {},
   "outputs": [
    {
     "data": {
      "text/plain": [
       "3"
      ]
     },
     "execution_count": 72,
     "metadata": {},
     "output_type": "execute_result"
    }
   ],
   "source": [
    "def add_one(x):\n",
    "    return x + 1\n",
    "\n",
    "# 위의 함수를 단순하게 사용할 수 있음\n",
    "(lambda x: x + 1)(2)"
   ]
  },
  {
   "cell_type": "code",
   "execution_count": 73,
   "id": "8921cbd0-df25-45e5-9b15-968175ada231",
   "metadata": {},
   "outputs": [
    {
     "data": {
      "text/plain": [
       "8"
      ]
     },
     "execution_count": 73,
     "metadata": {},
     "output_type": "execute_result"
    }
   ],
   "source": [
    "# 이름 만들기, 변수 여러 개\n",
    "f = lambda x, y: x + y\n",
    "f(3, 5)"
   ]
  },
  {
   "cell_type": "markdown",
   "id": "d72ff590-ca24-4378-a82d-238aa3bce2bd",
   "metadata": {
    "tags": []
   },
   "source": [
    "### - 람다 함수 실습\n",
    "- 단어가 들어왔을 때 첫 글자를 대문자로 바꾸고 단어 끝에 !를 붙이도록 람다를 만들기\n",
    "- 예: hello -> Hello!"
   ]
  },
  {
   "cell_type": "code",
   "execution_count": 74,
   "id": "a039efee-9a6c-4a4f-bc5a-a9a56b71f667",
   "metadata": {},
   "outputs": [
    {
     "data": {
      "text/plain": [
       "'Hello!'"
      ]
     },
     "execution_count": 74,
     "metadata": {},
     "output_type": "execute_result"
    }
   ],
   "source": [
    "(lambda word: word.capitalize() + '!')('hello')"
   ]
  },
  {
   "cell_type": "markdown",
   "id": "a2491080-34d4-433f-878a-3128370c09f0",
   "metadata": {},
   "source": [
    "---"
   ]
  },
  {
   "cell_type": "markdown",
   "id": "535a6008-2ebd-453d-ace9-641856bd0513",
   "metadata": {},
   "source": [
    "## 4. 제너레이터\n",
    "- return 대신 yield를 사용\n",
    "- 시퀀스를 순회할 때 시퀀스를 생성하는 객체\n",
    "    - [1, 2, 3]일 때 return은 한 번에 반환한다면  \n",
    "    yield는 **각각 반환**\n",
    "- **한 번 사용되고 사라짐** => 메모리 효율이 좋음"
   ]
  },
  {
   "cell_type": "code",
   "execution_count": 75,
   "id": "1b6a288e-7659-437a-b95d-73b33844dbb7",
   "metadata": {},
   "outputs": [
    {
     "data": {
      "text/plain": [
       "<generator object print_number at 0x0000019CD70CB3C0>"
      ]
     },
     "execution_count": 75,
     "metadata": {},
     "output_type": "execute_result"
    }
   ],
   "source": [
    "def print_number(num):\n",
    "    for i in range(num):\n",
    "        yield i\n",
    "        \n",
    "print_number(10)"
   ]
  },
  {
   "cell_type": "code",
   "execution_count": 77,
   "id": "c92aa6f3-6d4b-45c5-8580-180944a2583a",
   "metadata": {},
   "outputs": [
    {
     "name": "stdout",
     "output_type": "stream",
     "text": [
      "0\n",
      "1\n",
      "2\n",
      "3\n",
      "4\n"
     ]
    }
   ],
   "source": [
    "fx = print_number(5)\n",
    "\n",
    "# 시퀀스 객체이기 때문에 순회를 해야 나옴\n",
    "for i in fx:\n",
    "    print(i)"
   ]
  },
  {
   "cell_type": "code",
   "execution_count": 79,
   "id": "65c9b297-4d86-4533-b7e1-569ceb8fb118",
   "metadata": {},
   "outputs": [],
   "source": [
    "for i in fx:\n",
    "    print(i)\n",
    "# 사용하고 메모리에서 사라졌기 때문에 재사용하면 아무것도 안 나옴"
   ]
  },
  {
   "cell_type": "markdown",
   "id": "5ef47069-5a83-4f33-826f-315aa51cea1e",
   "metadata": {},
   "source": [
    "### - 제너레이터 실습\n",
    "- range() 구현하기\n",
    "- 제너레이터 사용\n",
    "- def my_range(start, end, step):  \n",
    "          yield\n",
    "- ranger = my_range(a, b, c)"
   ]
  },
  {
   "cell_type": "code",
   "execution_count": 83,
   "id": "c1befd60-5aff-458f-8323-3e381fd6d10c",
   "metadata": {},
   "outputs": [],
   "source": [
    "def my_range(end, start=0, step=1):\n",
    "    while start < end:\n",
    "        yield start\n",
    "        start += step"
   ]
  },
  {
   "cell_type": "code",
   "execution_count": 84,
   "id": "191dc668-b927-4d53-9bce-f3f53014025e",
   "metadata": {},
   "outputs": [
    {
     "name": "stdout",
     "output_type": "stream",
     "text": [
      "0\n",
      "1\n",
      "2\n",
      "3\n",
      "4\n"
     ]
    }
   ],
   "source": [
    "ranger = my_range(5)\n",
    "for i in ranger:\n",
    "    print(i)"
   ]
  },
  {
   "cell_type": "code",
   "execution_count": 86,
   "id": "b1a6629c-f989-4e79-884b-ec7cf3972068",
   "metadata": {},
   "outputs": [
    {
     "data": {
      "text/plain": [
       "<generator object <genexpr> at 0x0000019CD70D1200>"
      ]
     },
     "execution_count": 86,
     "metadata": {},
     "output_type": "execute_result"
    }
   ],
   "source": [
    "# generator 더 쉽게 만들기\n",
    "# 리스트 컴프리헨션에서 []가 아닌 ()로\n",
    "ranger = (i for i in range(5))\n",
    "ranger"
   ]
  },
  {
   "cell_type": "code",
   "execution_count": 87,
   "id": "5d9a60f9-2a96-42f4-bb12-6bfa9be14251",
   "metadata": {},
   "outputs": [
    {
     "name": "stdout",
     "output_type": "stream",
     "text": [
      "0\n",
      "1\n",
      "2\n",
      "3\n",
      "4\n"
     ]
    }
   ],
   "source": [
    "for i in ranger:\n",
    "    print(i)"
   ]
  },
  {
   "cell_type": "markdown",
   "id": "7b36ce9f-1832-4d68-bb7f-5f0d4c427385",
   "metadata": {},
   "source": [
    "---"
   ]
  },
  {
   "cell_type": "markdown",
   "id": "fa6d65f8-dd84-49bc-9eaf-a9e28b58008c",
   "metadata": {},
   "source": [
    "## 5. 재귀 함수\n",
    "- 너무 깊으면 예외 발생 => 주의\n",
    "- 자기 자신을 호출하는 함수\n",
    "- [[1, 2, 3], [[1, 1]], 4, 5] -> [1, 2, 3, 1, 1, 4, 5]\n",
    "- 차원이 다른 모든 요소를 하나 차원의 리스트에 담고 싶을 때"
   ]
  },
  {
   "cell_type": "code",
   "execution_count": 89,
   "id": "063556b3-ca8d-4175-8ada-9c3a9edd6400",
   "metadata": {},
   "outputs": [
    {
     "data": {
      "text/plain": [
       "True"
      ]
     },
     "execution_count": 89,
     "metadata": {},
     "output_type": "execute_result"
    }
   ],
   "source": [
    "isinstance(4, int) # 4가 int인가? t/f 반환"
   ]
  },
  {
   "cell_type": "code",
   "execution_count": 90,
   "id": "5f04e7ae-8000-49b0-81ce-fac1f5131204",
   "metadata": {},
   "outputs": [],
   "source": [
    "def flatten(sent):\n",
    "    for word in sent:\n",
    "        if isinstance(word, list):\n",
    "            # true\n",
    "            for sub_word in flatten(word): # 자기 자신 호출\n",
    "                yield sub_word\n",
    "        else:\n",
    "            # false\n",
    "            yield word"
   ]
  },
  {
   "cell_type": "code",
   "execution_count": 91,
   "id": "49aab712-bf76-4eeb-948a-6c3599f924c5",
   "metadata": {},
   "outputs": [
    {
     "data": {
      "text/plain": [
       "<generator object flatten at 0x0000019CD70D1900>"
      ]
     },
     "execution_count": 91,
     "metadata": {},
     "output_type": "execute_result"
    }
   ],
   "source": [
    "a = [[1, 2, 3], [[1, 1]], 4, 5]\n",
    "flatten(a)"
   ]
  },
  {
   "cell_type": "code",
   "execution_count": 92,
   "id": "d7aa199a-0fe4-408d-b966-652dd7c3e669",
   "metadata": {},
   "outputs": [
    {
     "name": "stdout",
     "output_type": "stream",
     "text": [
      "1\n",
      "2\n",
      "3\n",
      "1\n",
      "1\n",
      "4\n",
      "5\n"
     ]
    }
   ],
   "source": [
    "for i in flatten(a):\n",
    "    print(i)"
   ]
  },
  {
   "cell_type": "code",
   "execution_count": 93,
   "id": "88cdd268-81bc-4af4-b4a6-e2a425a50852",
   "metadata": {},
   "outputs": [],
   "source": [
    "# python 3.3부터 가능한 기능\n",
    "def flatten(sent):\n",
    "    for word in sent:\n",
    "        if isinstance(word, list):\n",
    "            # for sub_word in flatten(word):\n",
    "            #     yield sub_word\n",
    "            yield from flatten(word) # 위 두 줄 축약\n",
    "        else:\n",
    "            yield word"
   ]
  },
  {
   "cell_type": "markdown",
   "id": "7a35b75e-dc53-474c-8a48-09bb9f5cc3d2",
   "metadata": {},
   "source": [
    "---\n",
    "---"
   ]
  },
  {
   "cell_type": "markdown",
   "id": "ead8c319-f894-4f59-ab6e-f8dc19ab9881",
   "metadata": {},
   "source": [
    "# 예외 처리 | exception handling\n",
    "- 예외 => 오류\n",
    "- 목적 : 프로그램 정상 종료\n",
    "- 예외 발생 시, 사용자에게 알리고 조치를 취함\n",
    "- 소프트랜딩"
   ]
  },
  {
   "cell_type": "code",
   "execution_count": 94,
   "id": "7bf66d41-960b-452e-9147-d90cdc90457d",
   "metadata": {},
   "outputs": [
    {
     "ename": "ZeroDivisionError",
     "evalue": "division by zero",
     "output_type": "error",
     "traceback": [
      "\u001b[1;31m---------------------------------------------------------------------------\u001b[0m",
      "\u001b[1;31mZeroDivisionError\u001b[0m                         Traceback (most recent call last)",
      "\u001b[1;32m~\\AppData\\Local\\Temp/ipykernel_25116/2587507518.py\u001b[0m in \u001b[0;36m<module>\u001b[1;34m\u001b[0m\n\u001b[0;32m      1\u001b[0m \u001b[1;31m# 1. Division Error\u001b[0m\u001b[1;33m\u001b[0m\u001b[1;33m\u001b[0m\u001b[0m\n\u001b[0;32m      2\u001b[0m \u001b[1;31m# 0으로 나눌 수 없음\u001b[0m\u001b[1;33m\u001b[0m\u001b[1;33m\u001b[0m\u001b[0m\n\u001b[1;32m----> 3\u001b[1;33m \u001b[1;36m1\u001b[0m \u001b[1;33m/\u001b[0m \u001b[1;36m0\u001b[0m\u001b[1;33m\u001b[0m\u001b[1;33m\u001b[0m\u001b[0m\n\u001b[0m",
      "\u001b[1;31mZeroDivisionError\u001b[0m: division by zero"
     ]
    }
   ],
   "source": [
    "# 1. Division Error\n",
    "# 0으로 나눌 수 없음\n",
    "1 / 0     "
   ]
  },
  {
   "cell_type": "code",
   "execution_count": 99,
   "id": "09f1f1ad-0332-4f04-88f1-4ca0a63ec84e",
   "metadata": {},
   "outputs": [
    {
     "ename": "ValueError",
     "evalue": "invalid literal for int() with base 10: 'ssss'",
     "output_type": "error",
     "traceback": [
      "\u001b[1;31m---------------------------------------------------------------------------\u001b[0m",
      "\u001b[1;31mValueError\u001b[0m                                Traceback (most recent call last)",
      "\u001b[1;32m~\\AppData\\Local\\Temp/ipykernel_25116/4016093197.py\u001b[0m in \u001b[0;36m<module>\u001b[1;34m\u001b[0m\n\u001b[0;32m      1\u001b[0m \u001b[1;31m# 2. Value Error\u001b[0m\u001b[1;33m\u001b[0m\u001b[1;33m\u001b[0m\u001b[0m\n\u001b[0;32m      2\u001b[0m \u001b[1;31m# 형변환 불가\u001b[0m\u001b[1;33m\u001b[0m\u001b[1;33m\u001b[0m\u001b[0m\n\u001b[1;32m----> 3\u001b[1;33m \u001b[0mint\u001b[0m\u001b[1;33m(\u001b[0m\u001b[1;34m'ssss'\u001b[0m\u001b[1;33m)\u001b[0m\u001b[1;33m\u001b[0m\u001b[1;33m\u001b[0m\u001b[0m\n\u001b[0m",
      "\u001b[1;31mValueError\u001b[0m: invalid literal for int() with base 10: 'ssss'"
     ]
    }
   ],
   "source": [
    "# 2. Value Error\n",
    "# 형변환 불가\n",
    "int('ssss')     "
   ]
  },
  {
   "cell_type": "code",
   "execution_count": 100,
   "id": "6751143d-1119-44ad-b03a-af659e5807ab",
   "metadata": {},
   "outputs": [
    {
     "ename": "NameError",
     "evalue": "name 'hello' is not defined",
     "output_type": "error",
     "traceback": [
      "\u001b[1;31m---------------------------------------------------------------------------\u001b[0m",
      "\u001b[1;31mNameError\u001b[0m                                 Traceback (most recent call last)",
      "\u001b[1;32m~\\AppData\\Local\\Temp/ipykernel_25116/981845612.py\u001b[0m in \u001b[0;36m<module>\u001b[1;34m\u001b[0m\n\u001b[0;32m      1\u001b[0m \u001b[1;31m# 3. name Error\u001b[0m\u001b[1;33m\u001b[0m\u001b[1;33m\u001b[0m\u001b[0m\n\u001b[0;32m      2\u001b[0m \u001b[1;31m# 정의하지 않은 변수\u001b[0m\u001b[1;33m\u001b[0m\u001b[1;33m\u001b[0m\u001b[0m\n\u001b[1;32m----> 3\u001b[1;33m \u001b[0mhello\u001b[0m \u001b[1;33m+=\u001b[0m \u001b[1;36m1\u001b[0m\u001b[1;33m\u001b[0m\u001b[1;33m\u001b[0m\u001b[0m\n\u001b[0m",
      "\u001b[1;31mNameError\u001b[0m: name 'hello' is not defined"
     ]
    }
   ],
   "source": [
    "# 3. name Error\n",
    "# 정의하지 않은 변수\n",
    "hello += 1"
   ]
  },
  {
   "cell_type": "code",
   "execution_count": 101,
   "id": "6fc21a77-209f-4ef0-bd39-138a4221fd2e",
   "metadata": {},
   "outputs": [
    {
     "ename": "IndexError",
     "evalue": "string index out of range",
     "output_type": "error",
     "traceback": [
      "\u001b[1;31m---------------------------------------------------------------------------\u001b[0m",
      "\u001b[1;31mIndexError\u001b[0m                                Traceback (most recent call last)",
      "\u001b[1;32m~\\AppData\\Local\\Temp/ipykernel_25116/46502103.py\u001b[0m in \u001b[0;36m<module>\u001b[1;34m\u001b[0m\n\u001b[0;32m      1\u001b[0m \u001b[1;31m# 4. index Error\u001b[0m\u001b[1;33m\u001b[0m\u001b[1;33m\u001b[0m\u001b[0m\n\u001b[0;32m      2\u001b[0m \u001b[1;31m# 없는 인덱스\u001b[0m\u001b[1;33m\u001b[0m\u001b[1;33m\u001b[0m\u001b[0m\n\u001b[1;32m----> 3\u001b[1;33m \u001b[1;34m'ssss'\u001b[0m\u001b[1;33m[\u001b[0m\u001b[1;36m10\u001b[0m\u001b[1;33m]\u001b[0m\u001b[1;33m\u001b[0m\u001b[1;33m\u001b[0m\u001b[0m\n\u001b[0m",
      "\u001b[1;31mIndexError\u001b[0m: string index out of range"
     ]
    }
   ],
   "source": [
    "# 4. index Error\n",
    "# 없는 인덱스\n",
    "'ssss'[10]"
   ]
  },
  {
   "cell_type": "code",
   "execution_count": 102,
   "id": "afe0da30-7bea-45b0-91fe-14a72fac3273",
   "metadata": {},
   "outputs": [
    {
     "name": "stdout",
     "output_type": "stream",
     "text": [
      "0으로 나눌 수 없음\n"
     ]
    }
   ],
   "source": [
    "# 예외 처리 방법\n",
    "try:\n",
    "    # <오류 발생될 법한 코드 블럭>\n",
    "    10 / 0\n",
    "except ZeroDivisionError: # <에러타입>:\n",
    "    # <처리할 방법>\n",
    "    print('0으로 나눌 수 없음')"
   ]
  },
  {
   "cell_type": "code",
   "execution_count": 103,
   "id": "de5f1013-4020-46f2-a017-6c9b80773b34",
   "metadata": {},
   "outputs": [
    {
     "name": "stdout",
     "output_type": "stream",
     "text": [
      "error\n"
     ]
    }
   ],
   "source": [
    "# 나머지는 실행하지 않고 error만 프린트하고 끝\n",
    "try:\n",
    "    for i in range(10):\n",
    "        print(10 / i)\n",
    "except ZeroDivisionError:\n",
    "    print('error')"
   ]
  },
  {
   "cell_type": "code",
   "execution_count": 104,
   "id": "751b8bb7-03f5-49b3-94b8-6e1ff9982fbc",
   "metadata": {},
   "outputs": [
    {
     "name": "stdout",
     "output_type": "stream",
     "text": [
      "error\n",
      "10.0\n",
      "5.0\n",
      "3.3333333333333335\n",
      "2.5\n",
      "2.0\n",
      "1.6666666666666667\n",
      "1.4285714285714286\n",
      "1.25\n",
      "1.1111111111111112\n"
     ]
    }
   ],
   "source": [
    "# except 위치 중요\n",
    "for i in range(10):\n",
    "    try:\n",
    "        print(10 / i)\n",
    "    except ZeroDivisionError:\n",
    "        print('error')"
   ]
  },
  {
   "cell_type": "code",
   "execution_count": 107,
   "id": "dcc8bd6b-8edb-41ce-8c07-9ebfb8e65652",
   "metadata": {},
   "outputs": [
    {
     "name": "stdin",
     "output_type": "stream",
     "text": [
      "인덱스를 입력하세요>  8\n"
     ]
    },
    {
     "name": "stdout",
     "output_type": "stream",
     "text": [
      "index error\n",
      "string index out of range\n"
     ]
    },
    {
     "name": "stdin",
     "output_type": "stream",
     "text": [
      "인덱스를 입력하세요>  ddd\n"
     ]
    },
    {
     "name": "stdout",
     "output_type": "stream",
     "text": [
      "type error\n",
      "invalid literal for int() with base 10: 'ddd'\n"
     ]
    },
    {
     "name": "stdin",
     "output_type": "stream",
     "text": [
      "인덱스를 입력하세요>  q\n"
     ]
    }
   ],
   "source": [
    "# input 받는 상황 오류 대처\n",
    "word = 'hello'\n",
    "\n",
    "while True:\n",
    "    index = input('인덱스를 입력하세요> ')\n",
    "    if index == 'q':\n",
    "        break\n",
    "        \n",
    "    try:\n",
    "        print(word[int(index)])\n",
    "    except IndexError as e1: # handler\n",
    "        print('index error')\n",
    "        print(e1)\n",
    "    except ValueError as e2:\n",
    "        print('type error')\n",
    "        print(e2)"
   ]
  },
  {
   "cell_type": "markdown",
   "id": "aa69a2f0-4719-469a-b857-12f5fef958c3",
   "metadata": {},
   "source": [
    "---"
   ]
  },
  {
   "cell_type": "markdown",
   "id": "354a0e69-9f62-4523-9518-c1f38537c62d",
   "metadata": {},
   "source": [
    "# 예외 발생시키기 \n",
    "- 프로그램을 종료하고자 할 때\n",
    "1. raise\n",
    "2. assert"
   ]
  },
  {
   "cell_type": "markdown",
   "id": "6c43c882-a089-439b-b143-8f48727212fc",
   "metadata": {},
   "source": [
    "## (1) raise\n",
    "- raise ValueError('print ...')"
   ]
  },
  {
   "cell_type": "code",
   "execution_count": 108,
   "id": "c2566612-175c-4d5c-84c7-545f9e7d6757",
   "metadata": {},
   "outputs": [
    {
     "name": "stdin",
     "output_type": "stream",
     "text": [
      "number >>  d\n"
     ]
    },
    {
     "ename": "ValueError",
     "evalue": "숫자가 아닙니다.",
     "output_type": "error",
     "traceback": [
      "\u001b[1;31m---------------------------------------------------------------------------\u001b[0m",
      "\u001b[1;31mValueError\u001b[0m                                Traceback (most recent call last)",
      "\u001b[1;32m~\\AppData\\Local\\Temp/ipykernel_25116/2032253225.py\u001b[0m in \u001b[0;36m<module>\u001b[1;34m\u001b[0m\n\u001b[0;32m      3\u001b[0m     \u001b[1;31m# 숫자가 아니면 error를 발생시키겠다\u001b[0m\u001b[1;33m\u001b[0m\u001b[1;33m\u001b[0m\u001b[0m\n\u001b[0;32m      4\u001b[0m     \u001b[1;32mif\u001b[0m \u001b[1;32mnot\u001b[0m \u001b[0mnum\u001b[0m\u001b[1;33m.\u001b[0m\u001b[0misdigit\u001b[0m\u001b[1;33m(\u001b[0m\u001b[1;33m)\u001b[0m\u001b[1;33m:\u001b[0m\u001b[1;33m\u001b[0m\u001b[1;33m\u001b[0m\u001b[0m\n\u001b[1;32m----> 5\u001b[1;33m         \u001b[1;32mraise\u001b[0m \u001b[0mValueError\u001b[0m\u001b[1;33m(\u001b[0m\u001b[1;34m'숫자가 아닙니다.'\u001b[0m\u001b[1;33m)\u001b[0m\u001b[1;33m\u001b[0m\u001b[1;33m\u001b[0m\u001b[0m\n\u001b[0m\u001b[0;32m      6\u001b[0m     \u001b[1;32melse\u001b[0m\u001b[1;33m:\u001b[0m\u001b[1;33m\u001b[0m\u001b[1;33m\u001b[0m\u001b[0m\n\u001b[0;32m      7\u001b[0m         \u001b[0mprint\u001b[0m\u001b[1;33m(\u001b[0m\u001b[0mnum\u001b[0m\u001b[1;33m)\u001b[0m\u001b[1;33m\u001b[0m\u001b[1;33m\u001b[0m\u001b[0m\n",
      "\u001b[1;31mValueError\u001b[0m: 숫자가 아닙니다."
     ]
    }
   ],
   "source": [
    "while True:\n",
    "    num = input('number >> ')\n",
    "    # 숫자가 아니면 error를 발생시키겠다\n",
    "    if not num.isdigit():\n",
    "        raise ValueError('숫자가 아닙니다.')\n",
    "    else:\n",
    "        print(num)\n",
    "        break"
   ]
  },
  {
   "cell_type": "markdown",
   "id": "40aa2132-4526-4806-ade3-7762d12fe7f0",
   "metadata": {},
   "source": [
    "## (2) assert\n",
    "- assert <참인 조건>, '예외 메시지' \n",
    "- 그랬을 때 AssertionError 발생\n",
    "- **check 기능**"
   ]
  },
  {
   "cell_type": "code",
   "execution_count": 110,
   "id": "86abd1e7-4dee-4501-887c-69c445a0612d",
   "metadata": {},
   "outputs": [
    {
     "ename": "AssertionError",
     "evalue": "정수 아님",
     "output_type": "error",
     "traceback": [
      "\u001b[1;31m---------------------------------------------------------------------------\u001b[0m",
      "\u001b[1;31mAssertionError\u001b[0m                            Traceback (most recent call last)",
      "\u001b[1;32m~\\AppData\\Local\\Temp/ipykernel_25116/2007070587.py\u001b[0m in \u001b[0;36m<module>\u001b[1;34m\u001b[0m\n\u001b[0;32m      4\u001b[0m     \u001b[1;32mreturn\u001b[0m \u001b[0mbin\u001b[0m\u001b[1;33m(\u001b[0m\u001b[0mnum\u001b[0m\u001b[1;33m)\u001b[0m\u001b[1;33m\u001b[0m\u001b[1;33m\u001b[0m\u001b[0m\n\u001b[0;32m      5\u001b[0m \u001b[1;33m\u001b[0m\u001b[0m\n\u001b[1;32m----> 6\u001b[1;33m \u001b[0mget_binary\u001b[0m\u001b[1;33m(\u001b[0m\u001b[1;34m'ee'\u001b[0m\u001b[1;33m)\u001b[0m\u001b[1;33m\u001b[0m\u001b[1;33m\u001b[0m\u001b[0m\n\u001b[0m",
      "\u001b[1;32m~\\AppData\\Local\\Temp/ipykernel_25116/2007070587.py\u001b[0m in \u001b[0;36mget_binary\u001b[1;34m(num)\u001b[0m\n\u001b[0;32m      1\u001b[0m \u001b[1;32mdef\u001b[0m \u001b[0mget_binary\u001b[0m\u001b[1;33m(\u001b[0m\u001b[0mnum\u001b[0m\u001b[1;33m)\u001b[0m\u001b[1;33m:\u001b[0m\u001b[1;33m\u001b[0m\u001b[1;33m\u001b[0m\u001b[0m\n\u001b[0;32m      2\u001b[0m     \u001b[1;31m# 내가 낸 에러이기 때문에 어디에서 에러가 뜨는지 알 수 있는 장점이 있음\u001b[0m\u001b[1;33m\u001b[0m\u001b[1;33m\u001b[0m\u001b[0m\n\u001b[1;32m----> 3\u001b[1;33m     \u001b[1;32massert\u001b[0m \u001b[0misinstance\u001b[0m\u001b[1;33m(\u001b[0m\u001b[0mnum\u001b[0m\u001b[1;33m,\u001b[0m \u001b[0mint\u001b[0m\u001b[1;33m)\u001b[0m\u001b[1;33m,\u001b[0m \u001b[1;34m'정수 아님'\u001b[0m\u001b[1;33m\u001b[0m\u001b[1;33m\u001b[0m\u001b[0m\n\u001b[0m\u001b[0;32m      4\u001b[0m     \u001b[1;32mreturn\u001b[0m \u001b[0mbin\u001b[0m\u001b[1;33m(\u001b[0m\u001b[0mnum\u001b[0m\u001b[1;33m)\u001b[0m\u001b[1;33m\u001b[0m\u001b[1;33m\u001b[0m\u001b[0m\n\u001b[0;32m      5\u001b[0m \u001b[1;33m\u001b[0m\u001b[0m\n",
      "\u001b[1;31mAssertionError\u001b[0m: 정수 아님"
     ]
    }
   ],
   "source": [
    "def get_binary(num):\n",
    "    # 내가 낸 에러이기 때문에 어디에서 에러가 뜨는지 알 수 있는 장점이 있음\n",
    "    assert isinstance(num, int), '정수 아님'\n",
    "    return bin(num)\n",
    "\n",
    "get_binary('ee')"
   ]
  },
  {
   "cell_type": "markdown",
   "id": "d3222fe6-b087-4e37-99ca-e85bb48dc503",
   "metadata": {},
   "source": [
    "---"
   ]
  },
  {
   "cell_type": "markdown",
   "id": "f6e49654-aa87-4ef2-b49a-7fadf912bd2c",
   "metadata": {},
   "source": [
    "# 예외 정의하기\n",
    "- 내가 원하는 에러를 발생시키고 싶을 때\n",
    "- 사용자 정의 예외\n",
    "- Exception이라는 부모 클래스를 상속받아야 한다"
   ]
  },
  {
   "cell_type": "code",
   "execution_count": 113,
   "id": "713f2a33-b03a-4e38-8e7b-7f11afcda875",
   "metadata": {},
   "outputs": [],
   "source": [
    "# 내용은 안 써도 되는데 꼭 Exception 클래스를 상속 받아야 함\n",
    "class MyException(Exception):\n",
    "    pass"
   ]
  },
  {
   "cell_type": "code",
   "execution_count": 115,
   "id": "d81525b3-c7f4-4c65-899d-195b02ffd9c0",
   "metadata": {},
   "outputs": [
    {
     "name": "stdout",
     "output_type": "stream",
     "text": [
      "a\n",
      "b\n"
     ]
    },
    {
     "ename": "MyException",
     "evalue": "대문자 안 됨!",
     "output_type": "error",
     "traceback": [
      "\u001b[1;31m---------------------------------------------------------------------------\u001b[0m",
      "\u001b[1;31mMyException\u001b[0m                               Traceback (most recent call last)",
      "\u001b[1;32m~\\AppData\\Local\\Temp/ipykernel_25116/1587679071.py\u001b[0m in \u001b[0;36m<module>\u001b[1;34m\u001b[0m\n\u001b[0;32m      1\u001b[0m \u001b[1;32mfor\u001b[0m \u001b[0mword\u001b[0m \u001b[1;32min\u001b[0m \u001b[1;33m[\u001b[0m\u001b[1;34m'a'\u001b[0m\u001b[1;33m,\u001b[0m \u001b[1;34m'b'\u001b[0m\u001b[1;33m,\u001b[0m \u001b[1;34m'C'\u001b[0m\u001b[1;33m]\u001b[0m\u001b[1;33m:\u001b[0m\u001b[1;33m\u001b[0m\u001b[1;33m\u001b[0m\u001b[0m\n\u001b[0;32m      2\u001b[0m     \u001b[1;32mif\u001b[0m \u001b[0mword\u001b[0m\u001b[1;33m.\u001b[0m\u001b[0misupper\u001b[0m\u001b[1;33m(\u001b[0m\u001b[1;33m)\u001b[0m\u001b[1;33m:\u001b[0m\u001b[1;33m\u001b[0m\u001b[1;33m\u001b[0m\u001b[0m\n\u001b[1;32m----> 3\u001b[1;33m         \u001b[1;32mraise\u001b[0m \u001b[0mMyException\u001b[0m\u001b[1;33m(\u001b[0m\u001b[1;34m'대문자 안 됨!'\u001b[0m\u001b[1;33m)\u001b[0m\u001b[1;33m\u001b[0m\u001b[1;33m\u001b[0m\u001b[0m\n\u001b[0m\u001b[0;32m      4\u001b[0m     \u001b[1;32melse\u001b[0m\u001b[1;33m:\u001b[0m\u001b[1;33m\u001b[0m\u001b[1;33m\u001b[0m\u001b[0m\n\u001b[0;32m      5\u001b[0m         \u001b[0mprint\u001b[0m\u001b[1;33m(\u001b[0m\u001b[0mword\u001b[0m\u001b[1;33m)\u001b[0m\u001b[1;33m\u001b[0m\u001b[1;33m\u001b[0m\u001b[0m\n",
      "\u001b[1;31mMyException\u001b[0m: 대문자 안 됨!"
     ]
    }
   ],
   "source": [
    "for word in ['a', 'b', 'C']:\n",
    "    if word.isupper():\n",
    "        raise MyException('대문자 안 됨!')\n",
    "    else:\n",
    "        print(word)"
   ]
  },
  {
   "cell_type": "code",
   "execution_count": 117,
   "id": "37c0d4ca-d19d-4ecf-88d7-a4b823423a4e",
   "metadata": {},
   "outputs": [
    {
     "name": "stdout",
     "output_type": "stream",
     "text": [
      "a\n",
      "b\n"
     ]
    },
    {
     "ename": "UppercaseMyException",
     "evalue": "대문자 안 됨ㅠ",
     "output_type": "error",
     "traceback": [
      "\u001b[1;31m---------------------------------------------------------------------------\u001b[0m",
      "\u001b[1;31mUppercaseMyException\u001b[0m                      Traceback (most recent call last)",
      "\u001b[1;32m~\\AppData\\Local\\Temp/ipykernel_25116/587128248.py\u001b[0m in \u001b[0;36m<module>\u001b[1;34m\u001b[0m\n\u001b[0;32m      6\u001b[0m \u001b[1;32mfor\u001b[0m \u001b[0mword\u001b[0m \u001b[1;32min\u001b[0m \u001b[1;33m[\u001b[0m\u001b[1;34m'a'\u001b[0m\u001b[1;33m,\u001b[0m \u001b[1;34m'b'\u001b[0m\u001b[1;33m,\u001b[0m \u001b[1;34m'C'\u001b[0m\u001b[1;33m]\u001b[0m\u001b[1;33m:\u001b[0m\u001b[1;33m\u001b[0m\u001b[1;33m\u001b[0m\u001b[0m\n\u001b[0;32m      7\u001b[0m     \u001b[1;32mif\u001b[0m \u001b[0mword\u001b[0m\u001b[1;33m.\u001b[0m\u001b[0misupper\u001b[0m\u001b[1;33m(\u001b[0m\u001b[1;33m)\u001b[0m\u001b[1;33m:\u001b[0m\u001b[1;33m\u001b[0m\u001b[1;33m\u001b[0m\u001b[0m\n\u001b[1;32m----> 8\u001b[1;33m         \u001b[1;32mraise\u001b[0m \u001b[0mUppercaseMyException\u001b[0m\u001b[1;33m\u001b[0m\u001b[1;33m\u001b[0m\u001b[0m\n\u001b[0m\u001b[0;32m      9\u001b[0m     \u001b[1;32melse\u001b[0m\u001b[1;33m:\u001b[0m\u001b[1;33m\u001b[0m\u001b[1;33m\u001b[0m\u001b[0m\n\u001b[0;32m     10\u001b[0m         \u001b[0mprint\u001b[0m\u001b[1;33m(\u001b[0m\u001b[0mword\u001b[0m\u001b[1;33m)\u001b[0m\u001b[1;33m\u001b[0m\u001b[1;33m\u001b[0m\u001b[0m\n",
      "\u001b[1;31mUppercaseMyException\u001b[0m: 대문자 안 됨ㅠ"
     ]
    }
   ],
   "source": [
    "class UppercaseMyException(Exception):\n",
    "    def __init__(self):\n",
    "        super().__init__('대문자 안 됨ㅠ')\n",
    "        \n",
    "        \n",
    "for word in ['a', 'b', 'C']:\n",
    "    if word.isupper():\n",
    "        raise UppercaseMyException\n",
    "    else:\n",
    "        print(word)"
   ]
  }
 ],
 "metadata": {
  "kernelspec": {
   "display_name": "Python 3 (ipykernel)",
   "language": "python",
   "name": "python3"
  },
  "language_info": {
   "codemirror_mode": {
    "name": "ipython",
    "version": 3
   },
   "file_extension": ".py",
   "mimetype": "text/x-python",
   "name": "python",
   "nbconvert_exporter": "python",
   "pygments_lexer": "ipython3",
   "version": "3.9.7"
  }
 },
 "nbformat": 4,
 "nbformat_minor": 5
}
