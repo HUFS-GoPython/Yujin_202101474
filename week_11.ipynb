{
 "cells": [
  {
   "cell_type": "markdown",
   "id": "a358fdb9-4899-4997-8e20-e9012bb2b2dd",
   "metadata": {},
   "source": [
    "# 객체 II\n",
    "- 상속 (inheritance)\n",
    "- 재사용할 때, A클래스를 만들었는데 이와 아주 비슷한 B클래스를 만들 때\n",
    "    - **A의 대부분을 쓰고, 나머지를 추가, 변경하고 싶을 때**\n",
    "    - 복사하는 것이 아니라 **상속**을 이용\n",
    "    - 부모의 모든 속성을 그대로 가져와서 쓰겠다는 것\n",
    "- 반복되는 부분을 가져오겠다, 물려받겠다\n",
    "- B가 A를 물려받았을 경우\n",
    "    - A : **부모, 슈퍼, 베이스**\n",
    "    - B : **자식, 서브, derived**\n",
    "- 자식클래스는 부모클래스를 구체화한다\n",
    "- 부모 자식 관계를 **is-a 관계**라고 한다.\n",
    "    - **Car is-a Vehicle**\n",
    "    - 포함된다는 개념"
   ]
  },
  {
   "cell_type": "code",
   "execution_count": 3,
   "id": "2757d868-8955-432b-8c67-567ddcd32613",
   "metadata": {},
   "outputs": [],
   "source": [
    "# A : 부모, 슈퍼, 베이스\n",
    "class Vehicle:\n",
    "    def __init__(self, speed):\n",
    "        self.speed = speed\n",
    "        \n",
    "    def go(self):\n",
    "        print(f'{self.speed}의 속도로 달린다.')\n",
    "        \n",
    "# B : 자식, 서브, derived\n",
    "class Car(Vehicle):\n",
    "    pass"
   ]
  },
  {
   "cell_type": "code",
   "execution_count": 4,
   "id": "c89aae64-9ca7-4578-a053-7aedf335eedc",
   "metadata": {},
   "outputs": [
    {
     "name": "stdout",
     "output_type": "stream",
     "text": [
      "20m/h의 속도로 달린다.\n"
     ]
    }
   ],
   "source": [
    "# 상속받은 부모의 메서드를 탄다\n",
    "car = Car('20m/h')\n",
    "car.go()"
   ]
  },
  {
   "cell_type": "markdown",
   "id": "f1b31882-0a31-4a1b-b16c-672e849d1a69",
   "metadata": {},
   "source": [
    "---"
   ]
  },
  {
   "cell_type": "markdown",
   "id": "0db4dcfe-b8cb-4d75-a31d-ce74d5ea5326",
   "metadata": {},
   "source": [
    "## 1. 변수 추가, 변경\n",
    "- 부모의 것 접근 방법\n",
    "    - super().\\_\\_init\\_\\_(부모의 변수 중에서 가져올 것을 선택)\n",
    "- 부모는 자식의 고유한 특성을 가지고 있지 않다 => 내리사랑"
   ]
  },
  {
   "cell_type": "code",
   "execution_count": 5,
   "id": "f2b20935-ee6d-427f-a801-060ee592e98e",
   "metadata": {},
   "outputs": [],
   "source": [
    "class Car(Vehicle):\n",
    "    def __init__(self, speed, brand):\n",
    "        # speed == 부모 것\n",
    "        super().__init__(speed)\n",
    "        # brand == 내 것, 나의 고유한 특성\n",
    "        self.brand = brand"
   ]
  },
  {
   "cell_type": "code",
   "execution_count": 10,
   "id": "734f592d-a386-4e3b-af15-e5c28b497825",
   "metadata": {},
   "outputs": [
    {
     "data": {
      "text/plain": [
       "'kia'"
      ]
     },
     "execution_count": 10,
     "metadata": {},
     "output_type": "execute_result"
    }
   ],
   "source": [
    "car2 = Car('20m/h', 'kia')\n",
    "car2.brand"
   ]
  },
  {
   "cell_type": "code",
   "execution_count": 11,
   "id": "c67b5cbc-5c8e-4028-9d8c-f2c758597d71",
   "metadata": {},
   "outputs": [
    {
     "name": "stdout",
     "output_type": "stream",
     "text": [
      "20m/h의 속도로 달린다.\n"
     ]
    }
   ],
   "source": [
    "car2.go()"
   ]
  },
  {
   "cell_type": "markdown",
   "id": "f04d9094-5ce7-4f9d-a740-e4a16710c904",
   "metadata": {},
   "source": [
    "---"
   ]
  },
  {
   "cell_type": "markdown",
   "id": "c806ffbb-b9b3-40bf-a71a-a96057713312",
   "metadata": {},
   "source": [
    "## 2. 메소드 변경, 추가\n",
    "- **오버라이드(재정의)를 하면 부모의 메서드가 잊힌다**"
   ]
  },
  {
   "cell_type": "code",
   "execution_count": 27,
   "id": "41433bf0-ebe5-44ba-b97b-6fc04815d635",
   "metadata": {},
   "outputs": [],
   "source": [
    "class Car(Vehicle):\n",
    "    def __init__(self, speed, brand):\n",
    "        super().__init__(speed)\n",
    "        self.brand = brand\n",
    "        \n",
    "        # <메소드 변경>\n",
    "        # 부모한테 있는 go를 변경하고 싶은 경우\n",
    "        # 오버라이드(override): 재정의\n",
    "    def go(self):\n",
    "        # 부모도 함께 가져가고 싶은 경우\n",
    "        super().go()\n",
    "        print(f'차종 {self.brand}의 속도 {self.speed}')\n",
    "          \n",
    "    # <메소드 추가>\n",
    "    def stop():\n",
    "        pass"
   ]
  },
  {
   "cell_type": "code",
   "execution_count": 28,
   "id": "ae241d70-c059-4a38-b90b-b0a1ee330f3a",
   "metadata": {},
   "outputs": [
    {
     "name": "stdout",
     "output_type": "stream",
     "text": [
      "33m/h의 속도로 달린다.\n",
      "차종 mini의 속도 33m/h\n"
     ]
    }
   ],
   "source": [
    "car3 = Car('33m/h', 'mini')\n",
    "car3.go()"
   ]
  },
  {
   "cell_type": "markdown",
   "id": "63a83fd1-61c9-44b8-bef4-3515093bb440",
   "metadata": {},
   "source": [
    "---"
   ]
  },
  {
   "cell_type": "markdown",
   "id": "a75ca146-ceef-4b8d-a5fc-161b02871f20",
   "metadata": {},
   "source": [
    "## 실습"
   ]
  },
  {
   "cell_type": "code",
   "execution_count": 48,
   "id": "c51f3c9c-8879-4250-b056-bf3d9f80e74c",
   "metadata": {},
   "outputs": [],
   "source": [
    "class Person:\n",
    "    def __init__(self, name):\n",
    "        self.name = name\n",
    "        \n",
    "class Doctor(Person):\n",
    "    def __init__(self, name):\n",
    "        super().__init__(name)\n",
    "        self.name = \"Dr.\" + name\n",
    "    \n",
    "class Male(Person):\n",
    "    def __init__(self, name):\n",
    "        super().__init__(f'Mr. {name}')\n",
    "\n",
    "class Female(Person):\n",
    "    def __init__(self, name):\n",
    "        super().__init__(f'Mrs. {name}')"
   ]
  },
  {
   "cell_type": "code",
   "execution_count": 49,
   "id": "3b8614a8-89f6-462f-b70c-ebafc0ba79bb",
   "metadata": {},
   "outputs": [
    {
     "data": {
      "text/plain": [
       "'Dr.pablo'"
      ]
     },
     "execution_count": 49,
     "metadata": {},
     "output_type": "execute_result"
    }
   ],
   "source": [
    "doctor = Doctor('pablo')\n",
    "doctor.name"
   ]
  },
  {
   "cell_type": "code",
   "execution_count": 50,
   "id": "7b86cd1a-fa7e-477f-bc3b-970f60f64c43",
   "metadata": {},
   "outputs": [
    {
     "data": {
      "text/plain": [
       "'Mr. pablo'"
      ]
     },
     "execution_count": 50,
     "metadata": {},
     "output_type": "execute_result"
    }
   ],
   "source": [
    "male = Male('pablo')\n",
    "male.name"
   ]
  },
  {
   "cell_type": "code",
   "execution_count": 51,
   "id": "b39aaab4-1e28-4f32-b41a-e09abc01ec07",
   "metadata": {},
   "outputs": [
    {
     "data": {
      "text/plain": [
       "'Mrs. pablo'"
      ]
     },
     "execution_count": 51,
     "metadata": {},
     "output_type": "execute_result"
    }
   ],
   "source": [
    "female = Female('pablo')\n",
    "female.name"
   ]
  },
  {
   "cell_type": "markdown",
   "id": "a42e2d87-7390-4f4a-9327-21e2ab78ac9b",
   "metadata": {},
   "source": [
    "---"
   ]
  },
  {
   "cell_type": "markdown",
   "id": "50058921-0096-4975-95cd-fbfbdf8bb9ac",
   "metadata": {},
   "source": [
    "## 3. 다중상속\n",
    "- 부모가 여럿인 경우\n",
    "- 오버라이드 했을 때 누구 것을 가져올 것이냐\n",
    "- method resolution order(MRO)\n",
    "- Animal <- Horse  \n",
    "            <- Donkey  \n",
    "               <- Mule (Donkey > Horse) (Donkey의 속성이 강함)\n",
    "               <- Hinny (Horse > Donkey) => (Horse의 속성이 강함)"
   ]
  },
  {
   "cell_type": "code",
   "execution_count": 57,
   "id": "aa575758-e189-4318-8520-f448f7d43867",
   "metadata": {},
   "outputs": [
    {
     "data": {
      "text/plain": [
       "[__main__.Mule, __main__.Donkey, __main__.Horse, __main__.Animal, object]"
      ]
     },
     "execution_count": 57,
     "metadata": {},
     "output_type": "execute_result"
    }
   ],
   "source": [
    "# 1. 부모\n",
    "class Animal:\n",
    "    def says(self):\n",
    "        return '동물이 운다.'\n",
    "\n",
    "# 2. 자식\n",
    "class Horse(Animal):\n",
    "    def says(self):\n",
    "        # super().says() # => 부모 것을 사용하고 싶은 경우\n",
    "        # 사용하지 않으면 잊혀진다\n",
    "        return '히히힝'\n",
    "    \n",
    "class Donkey(Animal):\n",
    "    def says(self):\n",
    "        return '히이호'\n",
    "\n",
    "# 3. 손주\n",
    "class Mule(Donkey, Horse):\n",
    "    pass\n",
    "\n",
    "class Hinny(Horse, Donkey):\n",
    "    pass\n",
    "\n",
    "# 다중상속인 경우, 속성이 가까운 순서로 작성\n",
    "# 계층구조가 불분명할 경우 알아보는 방법\n",
    "Mule.mro()"
   ]
  },
  {
   "cell_type": "code",
   "execution_count": 58,
   "id": "7c5c6b26-b66e-49c5-a064-31ecbeb6424a",
   "metadata": {},
   "outputs": [
    {
     "data": {
      "text/plain": [
       "('히이호', '히히힝')"
      ]
     },
     "execution_count": 58,
     "metadata": {},
     "output_type": "execute_result"
    }
   ],
   "source": [
    "Mule().says(), Hinny().says()"
   ]
  },
  {
   "cell_type": "markdown",
   "id": "3c51ab42-d838-489e-8846-1958a7101ec0",
   "metadata": {},
   "source": [
    "---"
   ]
  },
  {
   "cell_type": "markdown",
   "id": "018d7806-f457-4270-a7c4-a295d57a6eb6",
   "metadata": {},
   "source": [
    "## 4. 다형성\n",
    "- 형태는 다르지만 기능은 같은 것\n",
    "- 객체가 다른데도 같은 메서드를 가지고 있으면 같은 기능을 수행할 수 있는 것"
   ]
  },
  {
   "cell_type": "code",
   "execution_count": 61,
   "id": "33ccca71-3a98-4b68-87c1-26e5f9667566",
   "metadata": {},
   "outputs": [
    {
     "name": "stdout",
     "output_type": "stream",
     "text": [
      "히이호\n",
      "히이호\n",
      "동물이 운다.\n"
     ]
    }
   ],
   "source": [
    "for animal in [Mule(), Donkey(), Animal()]:\n",
    "    print(animal.says())"
   ]
  },
  {
   "cell_type": "markdown",
   "id": "4cd05562-ff02-4c70-8caa-19b5927dc87b",
   "metadata": {},
   "source": [
    "---"
   ]
  },
  {
   "cell_type": "markdown",
   "id": "3905c74d-639c-4faa-9c41-1540be43ca36",
   "metadata": {},
   "source": [
    "## 5. 인스턴스, 클래스 메서드\n",
    "- 인스턴스 메서드\n",
    "    - 지금까지 배운 메서드\n",
    "    - self가 첫번째 인자\n",
    "    - 객체 생성해야만 사용 가능\n",
    "- 클래스 메서드\n",
    "    - 객체(붕어빵)와 상관없이 틀에서 작용하는 것\n",
    "    - 객체를 생성하지 않아도 사용 가능\n",
    "    - 클래스에 접근하는 메서드\n",
    "    - @classmethod\n",
    "    - 예약어: cls\n",
    "    - 함수(cls)가 첫 인자\n",
    "    - class Person 이라고 했을 때 class는 Person 자체"
   ]
  },
  {
   "cell_type": "code",
   "execution_count": 63,
   "id": "54b2b067-efc6-4106-baa2-c1cced063c70",
   "metadata": {},
   "outputs": [
    {
     "data": {
      "text/plain": [
       "'히이호'"
      ]
     },
     "execution_count": 63,
     "metadata": {},
     "output_type": "execute_result"
    }
   ],
   "source": [
    "# 인스턴스 메서드\n",
    "a = Mule() # 객체 생성, 붕어빵을 찍는 것\n",
    "a.says()   # 사용"
   ]
  },
  {
   "cell_type": "code",
   "execution_count": 65,
   "id": "3f7a6316-a66f-466f-8319-8a32d4e8d689",
   "metadata": {},
   "outputs": [
    {
     "data": {
      "text/plain": [
       "0"
      ]
     },
     "execution_count": 65,
     "metadata": {},
     "output_type": "execute_result"
    }
   ],
   "source": [
    "# 클래스 메서드\n",
    "class A:\n",
    "    cnt = 0\n",
    "    \n",
    "    @classmethod # 라는 데코레이터가 붙음\n",
    "    def move(cls): # 클래스에 접근하기 때문데 'cls'라는 예약어 사용\n",
    "        return cls.cnt # A를 대변하는 것이 cls\n",
    "    \n",
    "A.move()"
   ]
  },
  {
   "cell_type": "code",
   "execution_count": 1,
   "id": "b39fad32-e493-4143-960e-7cd5f9f3b857",
   "metadata": {},
   "outputs": [
    {
     "data": {
      "text/plain": [
       "('kim', 24)"
      ]
     },
     "execution_count": 1,
     "metadata": {},
     "output_type": "execute_result"
    }
   ],
   "source": [
    "class Person:\n",
    "    def __init__(self, name, age): # p가 self를 타는 것\n",
    "        self.name = name\n",
    "        self.age = age\n",
    "        \n",
    "    # cls.이 아닌 cls()로도 접근 가능\n",
    "    @classmethod\n",
    "    def tuple_object(cls, args):   # cls가 Person을 타는 것\n",
    "        return cls(args[0], args[1])\n",
    "    \n",
    "name = 'kim'\n",
    "age = 24\n",
    "# p = Person(name, age)\n",
    "\n",
    "# 위의 방식이 아닌 클래스 메서드로 p객체 생성하기\n",
    "info = name, age\n",
    "p = Person.tuple_object(info)\n",
    "p.name, p.age"
   ]
  },
  {
   "cell_type": "code",
   "execution_count": 4,
   "id": "e27b44c3-3464-4e3e-a671-8b1be074cc40",
   "metadata": {},
   "outputs": [
    {
     "data": {
      "text/plain": [
       "'객체 수: 3'"
      ]
     },
     "execution_count": 4,
     "metadata": {},
     "output_type": "execute_result"
    }
   ],
   "source": [
    "class A:\n",
    "    cnt = 0\n",
    "    \n",
    "    # 어디에선가 cnt를 올려야함 -> cnt += 1\n",
    "    \n",
    "    def __init__(self):\n",
    "        A.cnt += 1\n",
    "    \n",
    "    @classmethod\n",
    "    def count(cls):\n",
    "        return f'객체 수: {cls.cnt}'\n",
    "    \n",
    "A()\n",
    "A()\n",
    "A()\n",
    "A.count() # 3이 나오고 싶음"
   ]
  },
  {
   "cell_type": "markdown",
   "id": "2a5f530c-423a-40e1-b254-459763fed59b",
   "metadata": {},
   "source": [
    "---"
   ]
  },
  {
   "cell_type": "markdown",
   "id": "08d738da-53d3-4aab-8a84-f3576a37cd18",
   "metadata": {},
   "source": [
    "## 6. 정적, 추상 메서드\n",
    "- 정적 메서드\n",
    "    - 클래스와 공통점) 객체를 생성하지 않고 접근 가능\n",
    "    - 다른점) 클래스랑 전혀 상관이 없기 때문에 접근이 가능한 것\n",
    "    - 내용이나 기능 상 클래스 내에 있으면 좋겠어서  묶어두는 메서드\n",
    "    - @staticmethod"
   ]
  },
  {
   "cell_type": "code",
   "execution_count": 5,
   "id": "6e643c91-09ba-48b6-ba37-07a5155345d4",
   "metadata": {},
   "outputs": [],
   "source": [
    "class Coyote:\n",
    "    \n",
    "    @staticmethod\n",
    "    def says(): # 객체와 상관없기 때문에 self를 쓰지 않음\n",
    "        print('hi')"
   ]
  },
  {
   "cell_type": "code",
   "execution_count": 7,
   "id": "91d3888d-784b-416c-817c-8c29d42735ee",
   "metadata": {},
   "outputs": [
    {
     "name": "stdout",
     "output_type": "stream",
     "text": [
      "hi\n"
     ]
    }
   ],
   "source": [
    "Coyote.says()\n",
    "# 그냥 탈 수 있다 -> 딕셔너리에서 변수 저장하는 것과 비슷"
   ]
  },
  {
   "cell_type": "markdown",
   "id": "21fc7d1f-ae95-445f-bb18-f3316a8bd966",
   "metadata": {},
   "source": [
    "- 추상 메서드\n",
    "    - 추상 클래스를 선언하고 사용\n",
    "    - 추상 클래스: abstract 이름만 존재하는 클래스 \n",
    "    - 설계도 역할을 함 (메서드와 변수를 한 줄로 표현하는 기능)\n",
    "    - 추상메서드를 상속하는 자식 클래스는 반드시 구현해야하는 메서드를 정의한다\n",
    "    - @abstractmethod"
   ]
  },
  {
   "cell_type": "code",
   "execution_count": 9,
   "id": "a9dc032b-af34-47a4-a1e8-76bc67949090",
   "metadata": {},
   "outputs": [
    {
     "data": {
      "text/plain": [
       "<__main__.Car at 0x177c745ea30>"
      ]
     },
     "execution_count": 9,
     "metadata": {},
     "output_type": "execute_result"
    }
   ],
   "source": [
    "from abc import *\n",
    "\n",
    "# 추상 클래스 설정하는 방법: metaclass=ABCMeta\n",
    "class Vehicle(metaclass=ABCMeta):\n",
    "    speed = '속도'\n",
    "    \n",
    "    @abstractmethod\n",
    "    def go(self):\n",
    "        print('탈 것이 간다.')\n",
    "        \n",
    "    \"\"\"\n",
    "    def stop(self):\n",
    "        pass\n",
    "    \"\"\"\n",
    "    \n",
    "# go를 override해야만 함\n",
    "class Car(Vehicle):\n",
    "    # go를 선언해줘야 만들어짐 (의무)\n",
    "    def go(self):\n",
    "        print(\"\")\n",
    "        \n",
    "Car()"
   ]
  }
 ],
 "metadata": {
  "kernelspec": {
   "display_name": "Python 3 (ipykernel)",
   "language": "python",
   "name": "python3"
  },
  "language_info": {
   "codemirror_mode": {
    "name": "ipython",
    "version": 3
   },
   "file_extension": ".py",
   "mimetype": "text/x-python",
   "name": "python",
   "nbconvert_exporter": "python",
   "pygments_lexer": "ipython3",
   "version": "3.9.7"
  }
 },
 "nbformat": 4,
 "nbformat_minor": 5
}
