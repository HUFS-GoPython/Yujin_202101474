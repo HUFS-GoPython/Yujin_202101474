{
 "cells": [
  {
   "cell_type": "markdown",
   "id": "9d27f238-855c-4fbe-a842-e4ef87b707d6",
   "metadata": {
    "tags": []
   },
   "source": [
    "# 객체와 클래스\n",
    "- 관계: 객체를 구현하는 것이 클래스\n",
    "- 객체(object)\n",
    "- 객체지향프로그래밍\n",
    "- **속성**과 **행동**을 가지는 개념(실존, 실존하지 않는 것)\n",
    "    - 예: 자동차, 강아지, 꽃,...thing\n",
    "    - 속성(**변수**): **차** 브랜드, 색, 속도, 모델 / **강아지** 이름, 종, 색, 무게\n",
    "    - 행동(**메소드(함수)**): 가다, 서다, 회전, 주차 / 뛰다, 짖다, 자다, 핥다\n",
    "- 편의점 => \"고객이 편의점에서 과자를 샀다.\"\n",
    "    - 객체를 지향한다는 것 => **객체를 만들고, 쪼개는 것**\n",
    "    - 고객(사람), 편의점, 물건\n",
    "    - 속성: 이름 / 재고, 수익 / 이름, 브랜드, 가격\n",
    "    - 행동: 물건 사다, 돈 내다 / 팔다, 수익 남기다, 물건 등록 / X \n",
    "        - **행동은 속성에 따라 없어도 됨, 속성도 마찬가지**\n",
    "    - 위 항목의 상호작용으로 코드를 구성하는 것 (**내가 필요한 것만으로!**)"
   ]
  },
  {
   "cell_type": "markdown",
   "id": "227d57d3-e0a0-481f-ab66-fbe39ecc2625",
   "metadata": {},
   "source": [
    "---"
   ]
  },
  {
   "cell_type": "markdown",
   "id": "5cf1bffa-3528-4aeb-9f7e-dd159ca0d42d",
   "metadata": {},
   "source": [
    "## 1. 클래스 선언\n",
    "- 클래스 이름\n",
    "    - 첫 글자 대문자\n",
    "    - 카멜 표기를 주로 사용(nice car => NiceCar (o) / Nice_car(x))  \n",
    "- 정의부 = 붕어빵 틀  \n",
    "- 선언부 = 붕어빵"
   ]
  },
  {
   "cell_type": "code",
   "execution_count": 13,
   "id": "4da7c58c-430d-4a16-aee9-841f13bdc31e",
   "metadata": {},
   "outputs": [],
   "source": [
    "# 정의부\n",
    "# 1.\n",
    "class Car: # 객체\n",
    "    pass\n",
    "\n",
    "# 선언부\n",
    "Car() # Car라는 객체가 어떠한 메모리에 저장되었다고 출력\n",
    "my_car = Car() # my_car는 instance 즉 붕어빵 => 틀이 바뀌면 붕어빵도 바뀜"
   ]
  },
  {
   "cell_type": "code",
   "execution_count": 14,
   "id": "05982e7e-905b-4660-8763-64f29f787cf6",
   "metadata": {},
   "outputs": [
    {
     "data": {
      "text/plain": [
       "'bmw'"
      ]
     },
     "execution_count": 14,
     "metadata": {},
     "output_type": "execute_result"
    }
   ],
   "source": [
    "# 틀이 안 잡혀있다고 했을때 속성 생성가능\n",
    "my_car.name = 'bmw'\n",
    "my_car.color = 'white'\n",
    "\n",
    "# 접근 가능\n",
    "my_car.name"
   ]
  },
  {
   "cell_type": "code",
   "execution_count": 15,
   "id": "fd362d21-12e2-4c5a-9480-4f2425c16178",
   "metadata": {},
   "outputs": [],
   "source": [
    "# 2.\n",
    "class Car:\n",
    "    name = 'BMW'\n",
    "    \n",
    "# 문제점: 변경하기에 번거로움"
   ]
  },
  {
   "cell_type": "code",
   "execution_count": 16,
   "id": "041c957a-0ece-4b51-8626-82705fa28ae4",
   "metadata": {},
   "outputs": [
    {
     "data": {
      "text/plain": [
       "'BMW'"
      ]
     },
     "execution_count": 16,
     "metadata": {},
     "output_type": "execute_result"
    }
   ],
   "source": [
    "your_car = Car()\n",
    "your_car.name"
   ]
  },
  {
   "cell_type": "code",
   "execution_count": 17,
   "id": "e17cbd2f-f9a3-44c7-97a8-6f818530e72b",
   "metadata": {},
   "outputs": [
    {
     "data": {
      "text/plain": [
       "'Kia'"
      ]
     },
     "execution_count": 17,
     "metadata": {},
     "output_type": "execute_result"
    }
   ],
   "source": [
    "# 속성 변경 가능\n",
    "your_car.name = 'Kia'\n",
    "your_car.name"
   ]
  },
  {
   "cell_type": "code",
   "execution_count": 18,
   "id": "4322e128-20cc-469c-96be-2c407ab82983",
   "metadata": {},
   "outputs": [],
   "source": [
    "# 3.\n",
    "class Car:\n",
    "    def __init__(self, name): # 속성 초기화 함수 # self인자가 항상 들어감\n",
    "    # 객체 만들 때 들어오는 값으로 이름을 값으로 설정하고 싶을 떄\n",
    "        self.name = name\n",
    "    # self인자가 항상 들어감\n",
    "    # self = instance / 아래 her_car, car2가 self를 통해 들어옴"
   ]
  },
  {
   "cell_type": "code",
   "execution_count": 19,
   "id": "e84df7c3-37d8-4d75-b564-273565c75788",
   "metadata": {},
   "outputs": [
    {
     "data": {
      "text/plain": [
       "'Hyundai'"
      ]
     },
     "execution_count": 19,
     "metadata": {},
     "output_type": "execute_result"
    }
   ],
   "source": [
    "# her_car = Car() => name을 안 정했기 때문에 오류\n",
    "her_car = Car(name='Hyundai')\n",
    "her_car.name"
   ]
  },
  {
   "cell_type": "code",
   "execution_count": 20,
   "id": "2a1253b7-0263-41a6-85d0-c9c96331ece0",
   "metadata": {},
   "outputs": [
    {
     "data": {
      "text/plain": [
       "'Toyota'"
      ]
     },
     "execution_count": 20,
     "metadata": {},
     "output_type": "execute_result"
    }
   ],
   "source": [
    "car2 = Car('Toyota')\n",
    "car2.name"
   ]
  },
  {
   "cell_type": "code",
   "execution_count": 85,
   "id": "ba5bef9d-19ed-4570-b94c-5426e4ace6a1",
   "metadata": {},
   "outputs": [],
   "source": [
    "# 속성, 행동 추가\n",
    "class Car:\n",
    "    def __init__(self, name, model=None, color='black'):\n",
    "        self.name = name\n",
    "        self.model = model\n",
    "        self.color = color\n",
    "        \n",
    "    def drive(self):\n",
    "        # 1. {브랜드 이름}가 출발합니다.\n",
    "        print(f'{self.name}가 출발합니다.')\n",
    "    \n",
    "    def stop(self):\n",
    "        print('차가 섭니다.')\n",
    "        \n",
    "    def change_color(self, color):\n",
    "        # 2. 컬러를 gray로 바꾼다.\n",
    "        # self.color = 'gray'\n",
    "        # 3. 입력받은 색깔로 지정\n",
    "        self.color = color\n",
    "        \n",
    "        # 4. color가 들어오면 그 값으로, 아니면 'black'으로 설정\n",
    "        # 5. model을 생성할 때 입력하지 않아도 되게 설정하기"
   ]
  },
  {
   "cell_type": "markdown",
   "id": "5dddf617-a1de-469f-9103-ed1d94903c85",
   "metadata": {},
   "source": [
    "---"
   ]
  },
  {
   "cell_type": "markdown",
   "id": "6ba416a3-b814-4c37-a7d2-5404013705e2",
   "metadata": {},
   "source": [
    "## 2. 캡슐화, 정보 은닉\n",
    "- jave: public -> private\n",
    "- getter, setter"
   ]
  },
  {
   "cell_type": "code",
   "execution_count": 89,
   "id": "e7ec4199-64dc-433c-b574-f04ecbfe83fa",
   "metadata": {},
   "outputs": [
    {
     "data": {
      "text/plain": [
       "'red'"
      ]
     },
     "execution_count": 89,
     "metadata": {},
     "output_type": "execute_result"
    }
   ],
   "source": [
    "class Fruit:\n",
    "    color = 'red'\n",
    "    \n",
    "kiwi = Fruit()\n",
    "kiwi.color"
   ]
  },
  {
   "cell_type": "code",
   "execution_count": 91,
   "id": "5de9edd3-6875-47cb-a966-c443667f92ae",
   "metadata": {},
   "outputs": [
    {
     "data": {
      "text/plain": [
       "'black'"
      ]
     },
     "execution_count": 91,
     "metadata": {},
     "output_type": "execute_result"
    }
   ],
   "source": [
    "# 밖에서 변경 가능\n",
    "Fruit.color = 'black' \n",
    "\n",
    "# 변경 접근이 쉽다.\n",
    "apple = Fruit()\n",
    "apple.color "
   ]
  },
  {
   "cell_type": "markdown",
   "id": "aff3f0d6-ae1c-4944-bda4-b989c1264835",
   "metadata": {},
   "source": [
    "### (1) get, set\n",
    "- getter: 클래스 내 객체 변수 반환\n",
    "- setter: 클래스 내 객체 변수 설정\n",
    "- setter로 설정하고 getter로 반환\n",
    "- **밖에서 쉽게 교체하지 못하도록 가리는 작업**"
   ]
  },
  {
   "cell_type": "code",
   "execution_count": 94,
   "id": "87cc8f65-ad30-4d66-b6cd-5abcc640753b",
   "metadata": {},
   "outputs": [],
   "source": [
    "# 1.\n",
    "class Car:\n",
    "    def __init__(self, input_name):\n",
    "        self.name = input_name\n",
    "        \n",
    "    def get_name(self):\n",
    "        # 변수 반환\n",
    "        return self.name \n",
    "        \n",
    "    def set_name(self, input_name):\n",
    "        # 설정이기 때문에 return 값은 없음\n",
    "        self.name = input_name"
   ]
  },
  {
   "cell_type": "code",
   "execution_count": 95,
   "id": "8c441388-baa1-4715-8bde-df1f42ede2e5",
   "metadata": {},
   "outputs": [
    {
     "name": "stdout",
     "output_type": "stream",
     "text": [
      "name1\n",
      "name2\n",
      "name3\n"
     ]
    }
   ],
   "source": [
    "c = Car('name1')\n",
    "print(c.get_name())\n",
    "\n",
    "c.set_name('name2')\n",
    "print(c.name)\n",
    "\n",
    "c.name = 'name3'\n",
    "print(c.name)"
   ]
  },
  {
   "cell_type": "code",
   "execution_count": 100,
   "id": "cee70000-b177-4154-a0e5-b62e3af369d0",
   "metadata": {},
   "outputs": [],
   "source": [
    "# 2.\n",
    "class Car:\n",
    "    def __init__(self, input_name):\n",
    "        self.hidden_name = input_name\n",
    "        \n",
    "    def get_name(self):\n",
    "        # 함수 반환\n",
    "        return self.hidden_name\n",
    "        \n",
    "    def set_name(self, input_name):\n",
    "        self.hidden_name = input_name  \n",
    "        \n",
    "    # 이름을 hidden\n",
    "    name = property(get_name, set_name)"
   ]
  },
  {
   "cell_type": "code",
   "execution_count": 101,
   "id": "5ecca893-2093-4a07-929f-e52fdc14f603",
   "metadata": {},
   "outputs": [
    {
     "data": {
      "text/plain": [
       "'name_1'"
      ]
     },
     "execution_count": 101,
     "metadata": {},
     "output_type": "execute_result"
    }
   ],
   "source": [
    "d = Car('name_1')\n",
    "d.name"
   ]
  },
  {
   "cell_type": "code",
   "execution_count": 102,
   "id": "0b61750f-62e4-4145-bcd5-f76adcefbe21",
   "metadata": {},
   "outputs": [],
   "source": [
    "# 3. 완성형 decorator\n",
    "class Car:\n",
    "    def __init__(self, input_name):\n",
    "        self.hidden_name = input_name\n",
    "        \n",
    "    @property # getter\n",
    "    def name(self):\n",
    "        # 함수 반환\n",
    "        return self.hidden_name\n",
    "        \n",
    "    @name.setter # setter\n",
    "    def name(self, input_name):\n",
    "        self.hidden_name = input_name"
   ]
  },
  {
   "cell_type": "code",
   "execution_count": 103,
   "id": "a696c212-f568-45e2-b0fb-c35adf7e9f0e",
   "metadata": {},
   "outputs": [
    {
     "data": {
      "text/plain": [
       "'name a'"
      ]
     },
     "execution_count": 103,
     "metadata": {},
     "output_type": "execute_result"
    }
   ],
   "source": [
    "e = Car('name a')\n",
    "e.name"
   ]
  },
  {
   "cell_type": "code",
   "execution_count": 104,
   "id": "7b1b825e-d8a1-4372-8910-61e4bceaf5f4",
   "metadata": {
    "collapsed": true,
    "jupyter": {
     "outputs_hidden": true
    },
    "tags": []
   },
   "outputs": [
    {
     "ename": "AttributeError",
     "evalue": "'Car' object has no attribute '__name'",
     "output_type": "error",
     "traceback": [
      "\u001b[1;31m---------------------------------------------------------------------------\u001b[0m",
      "\u001b[1;31mAttributeError\u001b[0m                            Traceback (most recent call last)",
      "\u001b[1;32m~\\AppData\\Local\\Temp/ipykernel_4036/3132392181.py\u001b[0m in \u001b[0;36m<module>\u001b[1;34m\u001b[0m\n\u001b[0;32m     18\u001b[0m \u001b[1;31m# 접근 불가, 오류\u001b[0m\u001b[1;33m\u001b[0m\u001b[1;33m\u001b[0m\u001b[0m\n\u001b[0;32m     19\u001b[0m \u001b[0mf\u001b[0m \u001b[1;33m=\u001b[0m \u001b[0mCar\u001b[0m\u001b[1;33m(\u001b[0m\u001b[1;34m'name b'\u001b[0m\u001b[1;33m)\u001b[0m\u001b[1;33m\u001b[0m\u001b[1;33m\u001b[0m\u001b[0m\n\u001b[1;32m---> 20\u001b[1;33m \u001b[0mf\u001b[0m\u001b[1;33m.\u001b[0m\u001b[0m__name\u001b[0m\u001b[1;33m\u001b[0m\u001b[1;33m\u001b[0m\u001b[0m\n\u001b[0m",
      "\u001b[1;31mAttributeError\u001b[0m: 'Car' object has no attribute '__name'"
     ]
    }
   ],
   "source": [
    "# 4. 완전 접근 불가능 '__name'\n",
    "# 던더바 + 변수 => 접근하기 못하는 변수라는 의미\n",
    "class Car:\n",
    "    def __init__(self, input_name):\n",
    "        self.__name = input_name\n",
    "     \n",
    "    # decorator\n",
    "    @property\n",
    "    def name(self):\n",
    "        # 함수 반환\n",
    "        return self.__name\n",
    "        \n",
    "    @name.setter\n",
    "    def name(self, input_name):\n",
    "        self.__name = input_name\n",
    "        \n",
    "\n",
    "# 접근 불가, 오류\n",
    "f = Car('name b')\n",
    "f.__name"
   ]
  },
  {
   "cell_type": "code",
   "execution_count": 105,
   "id": "73ac854e-de3c-4bc0-b089-06279e70a528",
   "metadata": {},
   "outputs": [
    {
     "name": "stdout",
     "output_type": "stream",
     "text": [
      "10\n",
      "38\n"
     ]
    }
   ],
   "source": [
    "class Circle:\n",
    "    def __init__(self, radius):\n",
    "        self.radius = radius\n",
    "\n",
    "    @property\n",
    "    def parameter(self):\n",
    "        return self.radius * 2\n",
    "    \n",
    "    \n",
    "ex = Circle(5)\n",
    "print(ex.parameter)\n",
    "\n",
    "ex.radius = 19\n",
    "print(ex.parameter)"
   ]
  },
  {
   "cell_type": "markdown",
   "id": "ba098f9a-0e80-4e48-b62b-93f7f8f6a439",
   "metadata": {},
   "source": [
    "---"
   ]
  },
  {
   "cell_type": "markdown",
   "id": "ab266d9d-e5c1-45c3-97e4-bf0c9515620d",
   "metadata": {},
   "source": [
    "## 실습"
   ]
  },
  {
   "cell_type": "markdown",
   "id": "4c728b5b-bce2-4be1-a786-3f6a15c2010a",
   "metadata": {},
   "source": [
    "- 메모장, 메모 구현하기\n",
    "- 메모장\n",
    "    - 속성: 제목, 페이지 번호, 메모\n",
    "    - 행동: 메모 추가하다, 메모 삭제하다, 페이지 번호 확인하다\n",
    "- 메모\n",
    "    - 속성: 글귀\n",
    "    - 행동: 쓰다, 지우다\n",
    "- 사용\n",
    "    - 메모 쓴다\n",
    "    - 메모장에 추가\n",
    "        - 페이지 번호가 추가한 만큼 늘어난다\n",
    "    - 메모 삭제\n",
    "        - 페이지 번호가 줄어든다\n",
    "    - 메모장의 제목만 은닉시키다 +++ 페이지 넘버는, 한 페이지에 한 라인이 들어갈 수 있게 작성하기!"
   ]
  },
  {
   "cell_type": "code",
   "execution_count": null,
   "id": "41e93b7a-2388-4c19-8e73-3b408be37922",
   "metadata": {},
   "outputs": [],
   "source": [
    "# 사용\n",
    "line1 = '우리 모두 스스로가 원하는 리더가 됩시다.'\n",
    "line2 = '모두가 함께 앞으로 나아가면 성공은 저절로 따라옵니다.'\n",
    "line3 = '혼자서는 작은 한 방울이지만 함께 모이면 바다를 이룹니다.'\n",
    "\n",
    "# 메모 추가\n",
    "my_note = Note()\n",
    "my_note.write(line1)\n",
    "my_note.write(line2)\n",
    "my_note.write(line3)\n",
    "\n",
    "# 메모장에 추가\n",
    "my_book = Notebook()\n",
    "my_book.add_note(my_note)\n",
    "\n",
    "# 페이지 번호 확인하기\n",
    "my_book.get_page_num()\n",
    "\n",
    "# 메모 삭제\n",
    "# 메모장 제목 은닉"
   ]
  }
 ],
 "metadata": {
  "kernelspec": {
   "display_name": "Python 3 (ipykernel)",
   "language": "python",
   "name": "python3"
  },
  "language_info": {
   "codemirror_mode": {
    "name": "ipython",
    "version": 3
   },
   "file_extension": ".py",
   "mimetype": "text/x-python",
   "name": "python",
   "nbconvert_exporter": "python",
   "pygments_lexer": "ipython3",
   "version": "3.9.7"
  }
 },
 "nbformat": 4,
 "nbformat_minor": 5
}
