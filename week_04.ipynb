{
 "cells": [
  {
   "cell_type": "markdown",
   "id": "9258fba5-1f0d-41d9-9cce-a0214862b2b1",
   "metadata": {},
   "source": [
    "# Ch05."
   ]
  },
  {
   "cell_type": "markdown",
   "id": "7563a65f-d767-42fc-9506-f2d37c8a29c7",
   "metadata": {},
   "source": [
    "## String with NLTK"
   ]
  },
  {
   "cell_type": "code",
   "execution_count": 2,
   "id": "4b53b655-7740-44b8-87ad-7f3aaf63ddd2",
   "metadata": {},
   "outputs": [
    {
     "name": "stdout",
     "output_type": "stream",
     "text": [
      "*** Introductory Examples for the NLTK Book ***\n",
      "Loading text1, ..., text9 and sent1, ..., sent9\n",
      "Type the name of the text or sentence to view it.\n",
      "Type: 'texts()' or 'sents()' to list the materials.\n",
      "text1: Moby Dick by Herman Melville 1851\n",
      "text2: Sense and Sensibility by Jane Austen 1811\n",
      "text3: The Book of Genesis\n",
      "text4: Inaugural Address Corpus\n",
      "text5: Chat Corpus\n",
      "text6: Monty Python and the Holy Grail\n",
      "text7: Wall Street Journal\n",
      "text8: Personals Corpus\n",
      "text9: The Man Who Was Thursday by G . K . Chesterton 1908\n"
     ]
    },
    {
     "data": {
      "text/plain": [
       "True"
      ]
     },
     "execution_count": 2,
     "metadata": {},
     "output_type": "execute_result"
    }
   ],
   "source": [
    "import nltk\n",
    "from nltk.book import *\n",
    "nltk.download('book', quiet=True)"
   ]
  },
  {
   "cell_type": "markdown",
   "id": "eb13aea1-9f19-4255-ab9e-0c913970dc31",
   "metadata": {},
   "source": [
    "## 내장함수 \n",
    "- 사용형식) string1.method(string2)\n",
    "- 사용형식) list.method(string)\n",
    "- list.count(str) : 리스트 안에서 str이 몇 번 나오는지 알려주는 함수\n",
    "- str.replace() : a -> b 변경하는 함수\n",
    "- str.strip() : 공백, 탭 등을 제거(앞뒤 공백만 제거해줌, 단어 사이에 있는 공백은 제거안됨)\n",
    "    - str.lstrip() : 왼쪽 공백 제거\n",
    "    - str.rsrip() : 오른쪽 공백 제거\n",
    "- find(string) : 오프셋(위치) 반환\n",
    "    - lfind, rfind\n",
    "    - 공백 포함해서 위치알려줌\n",
    "    - 똑같은 값이 있다면 1번째 값의 인덱스를 알려줌\n",
    "    - 해당 값이 존재하지 않는 경우 -1 반환\n",
    "- index(string) : 오프셋(위치) 반환\n",
    "    - 해당 값이 존재하지 않는 경우 에러 발생 -> find와의 차이점"
   ]
  },
  {
   "cell_type": "code",
   "execution_count": 3,
   "id": "fa51aada-8609-4f31-8982-fdecc2fb7f28",
   "metadata": {},
   "outputs": [
    {
     "data": {
      "text/plain": [
       "1661"
      ]
     },
     "execution_count": 3,
     "metadata": {},
     "output_type": "execute_result"
    }
   ],
   "source": [
    "# list.count(str)\n",
    "text1.count('he')"
   ]
  },
  {
   "cell_type": "code",
   "execution_count": 5,
   "id": "7536c5e0-276a-4f67-bda8-ed1bc8b85ac1",
   "metadata": {},
   "outputs": [
    {
     "data": {
      "text/plain": [
       "'Word'"
      ]
     },
     "execution_count": 5,
     "metadata": {},
     "output_type": "execute_result"
    }
   ],
   "source": [
    "# str.replace()\n",
    "'word'.replace('w', 'W')"
   ]
  },
  {
   "cell_type": "code",
   "execution_count": 6,
   "id": "a3e6c2e7-1b44-4767-9833-df9f0b30da51",
   "metadata": {},
   "outputs": [
    {
     "data": {
      "text/plain": [
       "'word'"
      ]
     },
     "execution_count": 6,
     "metadata": {},
     "output_type": "execute_result"
    }
   ],
   "source": [
    "# str.strip()\n",
    "'    \\t   word'.strip()"
   ]
  },
  {
   "cell_type": "code",
   "execution_count": 7,
   "id": "5155f0af-2dbb-43e2-a121-534b2091ba09",
   "metadata": {},
   "outputs": [
    {
     "data": {
      "text/plain": [
       "'chorD'"
      ]
     },
     "execution_count": 7,
     "metadata": {},
     "output_type": "execute_result"
    }
   ],
   "source": [
    "# str.replace()과 str.strip() 같이 사용가능, 자료형이 맞기 때문에 가능함\n",
    "word = '    \\t   word'\n",
    "word.replace('w', 'ch').strip().replace('d', 'D')"
   ]
  },
  {
   "cell_type": "code",
   "execution_count": 8,
   "id": "e33c4ef5-549f-4570-afb1-29d5a486f563",
   "metadata": {},
   "outputs": [
    {
     "data": {
      "text/plain": [
       "'    \\t   word'"
      ]
     },
     "execution_count": 8,
     "metadata": {},
     "output_type": "execute_result"
    }
   ],
   "source": [
    "word # 하지만 변수가 바뀌진 않음"
   ]
  },
  {
   "cell_type": "code",
   "execution_count": 10,
   "id": "f70a0fb3-59f0-49e2-aeda-4dc261795d93",
   "metadata": {},
   "outputs": [
    {
     "data": {
      "text/plain": [
       "'chorD'"
      ]
     },
     "execution_count": 10,
     "metadata": {},
     "output_type": "execute_result"
    }
   ],
   "source": [
    "word = word.replace('w', 'ch').strip().replace('d', 'D') \n",
    "# 바꾸고 싶다면 다시 할당하면 됨\n",
    "word"
   ]
  },
  {
   "cell_type": "code",
   "execution_count": 11,
   "id": "2da743b5-7fd6-4192-beee-fc291c9a5ab0",
   "metadata": {},
   "outputs": [
    {
     "data": {
      "text/plain": [
       "8"
      ]
     },
     "execution_count": 11,
     "metadata": {},
     "output_type": "execute_result"
    }
   ],
   "source": [
    "# str.find(string)\n",
    "word2 = '    \\t   word'\n",
    "word2.find('w')"
   ]
  },
  {
   "cell_type": "code",
   "execution_count": 13,
   "id": "0fdf7a30-6fb1-46e7-abf4-bcb7b8fd1177",
   "metadata": {},
   "outputs": [
    {
     "data": {
      "text/plain": [
       "8"
      ]
     },
     "execution_count": 13,
     "metadata": {},
     "output_type": "execute_result"
    }
   ],
   "source": [
    "# 똑같은 값이 있다면 1번째 값의 인덱스를 알려줌\n",
    "word2 = '    \\t   wordwwww'\n",
    "word2.find('w')"
   ]
  },
  {
   "cell_type": "code",
   "execution_count": 15,
   "id": "092b05ed-e3ce-4968-ab05-f9efc973aade",
   "metadata": {},
   "outputs": [
    {
     "data": {
      "text/plain": [
       "-1"
      ]
     },
     "execution_count": 15,
     "metadata": {},
     "output_type": "execute_result"
    }
   ],
   "source": [
    "# 없는 값을 넣었을 때 find는 -1반환 / index는 에러\n",
    "word2.find('c')"
   ]
  },
  {
   "cell_type": "code",
   "execution_count": 16,
   "id": "b48b36aa-e3f4-4ccd-9a20-c5769da5380b",
   "metadata": {},
   "outputs": [
    {
     "ename": "ValueError",
     "evalue": "substring not found",
     "output_type": "error",
     "traceback": [
      "\u001b[1;31m---------------------------------------------------------------------------\u001b[0m",
      "\u001b[1;31mValueError\u001b[0m                                Traceback (most recent call last)",
      "\u001b[1;32m~\\AppData\\Local\\Temp/ipykernel_18228/3615158748.py\u001b[0m in \u001b[0;36m<module>\u001b[1;34m\u001b[0m\n\u001b[1;32m----> 1\u001b[1;33m \u001b[0mword2\u001b[0m\u001b[1;33m.\u001b[0m\u001b[0mindex\u001b[0m\u001b[1;33m(\u001b[0m\u001b[1;34m'c'\u001b[0m\u001b[1;33m)\u001b[0m\u001b[1;33m\u001b[0m\u001b[1;33m\u001b[0m\u001b[0m\n\u001b[0m",
      "\u001b[1;31mValueError\u001b[0m: substring not found"
     ]
    }
   ],
   "source": [
    "word2.index('c')"
   ]
  },
  {
   "cell_type": "markdown",
   "id": "e33b5e75-c244-4637-952e-aa5f35669a1e",
   "metadata": {
    "tags": []
   },
   "source": [
    "## NLTK 내장 함수\n",
    "- 사용형식) list.method(함수마다 들어가야할 형이 다름)\n",
    "- 자연어 처리와 관련된 함수들\n",
    "- concordance() : 주어진 string의 앞뒤 문맥을 알 수 있음\n",
    "- similar() : 문맥이 비슷한 단어들을 알 수 있음\n",
    "- common_contexts() : 주어진 string이 어떤 문맥을 공유하는지\n",
    "- dispersion() : 주어진 string이 출현하는 부분을 그림으로 보여줌"
   ]
  },
  {
   "cell_type": "code",
   "execution_count": 17,
   "id": "2d042f0d-c852-449d-8e19-bf6726bc2b40",
   "metadata": {},
   "outputs": [
    {
     "name": "stdout",
     "output_type": "stream",
     "text": [
      "Displaying 25 of 1226 matches:\n",
      "s , and to teach them by what name a whale - fish is to be called in our tongue\n",
      "t which is not true .\" -- HACKLUYT \" WHALE . ... Sw . and Dan . HVAL . This ani\n",
      "ulted .\" -- WEBSTER ' S DICTIONARY \" WHALE . ... It is more immediately from th\n",
      "ISH . WAL , DUTCH . HWAL , SWEDISH . WHALE , ICELANDIC . WHALE , ENGLISH . BALE\n",
      "HWAL , SWEDISH . WHALE , ICELANDIC . WHALE , ENGLISH . BALEINE , FRENCH . BALLE\n",
      "least , take the higgledy - piggledy whale statements , however authentic , in \n",
      " dreadful gulf of this monster ' s ( whale ' s ) mouth , are immediately lost a\n",
      " patient Job .\" -- RABELAIS . \" This whale ' s liver was two cartloads .\" -- ST\n",
      " Touching that monstrous bulk of the whale or ork we have received nothing cert\n",
      " of oil will be extracted out of one whale .\" -- IBID . \" HISTORY OF LIFE AND D\n",
      "ise .\" -- KING HENRY . \" Very like a whale .\" -- HAMLET . \" Which to secure , n\n",
      "restless paine , Like as the wounded whale to shore flies thro ' the maine .\" -\n",
      ". OF SPERMA CETI AND THE SPERMA CETI WHALE . VIDE HIS V . E . \" Like Spencer ' \n",
      "t had been a sprat in the mouth of a whale .\" -- PILGRIM ' S PROGRESS . \" That \n",
      "EN ' S ANNUS MIRABILIS . \" While the whale is floating at the stern of the ship\n",
      "e ship called The Jonas - in - the - Whale . ... Some say the whale can ' t ope\n",
      " in - the - Whale . ... Some say the whale can ' t open his mouth , but that is\n",
      " masts to see whether they can see a whale , for the first discoverer has a duc\n",
      " for his pains . ... I was told of a whale taken near Shetland , that had above\n",
      "oneers told me that he caught once a whale in Spitzbergen that was white all ov\n",
      "2 , one eighty feet in length of the whale - bone kind came in , which ( as I w\n",
      "n master and kill this Sperma - ceti whale , for I could never hear of any of t\n",
      " . 1729 . \"... and the breath of the whale is frequendy attended with such an i\n",
      "ed with hoops and armed with ribs of whale .\" -- RAPE OF THE LOCK . \" If we com\n",
      "contemptible in the comparison . The whale is doubtless the largest animal in c\n"
     ]
    }
   ],
   "source": [
    "text1.concordance('whale') "
   ]
  },
  {
   "cell_type": "code",
   "execution_count": 18,
   "id": "51187931-72a5-4dd6-bfeb-1e7683c1109a",
   "metadata": {},
   "outputs": [
    {
     "name": "stdout",
     "output_type": "stream",
     "text": [
      "ship boat sea time captain world man deck pequod other whales air\n",
      "water head crew line thing side way body\n"
     ]
    }
   ],
   "source": [
    "text1.similar('whale')"
   ]
  },
  {
   "cell_type": "code",
   "execution_count": 20,
   "id": "2357d7df-3148-4b46-aa02-af38cd06b61f",
   "metadata": {},
   "outputs": [
    {
     "name": "stdout",
     "output_type": "stream",
     "text": [
      "am_glad a_pretty a_lucky is_pretty be_glad\n"
     ]
    }
   ],
   "source": [
    "text2.common_contexts(['monstrous', 'very'])"
   ]
  },
  {
   "cell_type": "code",
   "execution_count": 22,
   "id": "0997506e-f979-4454-852b-d0143f285084",
   "metadata": {},
   "outputs": [
    {
     "data": {
      "image/png": "[encoded data removed]",
      "text/plain": [
       "<Figure size 432x288 with 1 Axes>"
      ]
     },
     "metadata": {
      "needs_background": "light"
     },
     "output_type": "display_data"
    }
   ],
   "source": [
    "# 그림으로 해당단어가 어디에 위치해 있는지 나타내줌\n",
    "text4.dispersion_plot(['citizens', 'America', 'freedom'])"
   ]
  },
  {
   "cell_type": "markdown",
   "id": "43362d6e-e2ef-4c38-8fe5-db6b1436c6c7",
   "metadata": {},
   "source": [
    "## Frequency Distribution\n",
    "- 단어의 빈도수를 활용할 수 있는 많은 방법 제공\n",
    "- 인간언어 -> 컴퓨터 인식\n",
    "    - 전체 단어 수\n",
    "    - 특정 단어의 빈도수"
   ]
  },
  {
   "cell_type": "code",
   "execution_count": 23,
   "id": "88b7a489-231e-487f-9901-36cc45147281",
   "metadata": {},
   "outputs": [
    {
     "data": {
      "text/plain": [
       "FreqDist({',': 18713, 'the': 13721, '.': 6862, 'of': 6536, 'and': 6024, 'a': 4569, 'to': 4542, ';': 4072, 'in': 3916, 'that': 2982, ...})"
      ]
     },
     "execution_count": 23,
     "metadata": {},
     "output_type": "execute_result"
    }
   ],
   "source": [
    "# dictionary = key:value 형태\n",
    "# key는 단어, value는 빈도수를 나타냄\n",
    "# 주로 fdist로 받음\n",
    "fdist = FreqDist(text1)\n",
    "fdist"
   ]
  },
  {
   "cell_type": "code",
   "execution_count": 25,
   "id": "4658b2ef-0da7-4dc4-b58f-0813e716bf0a",
   "metadata": {},
   "outputs": [
    {
     "data": {
      "text/plain": [
       "[(',', 18713),\n",
       " ('the', 13721),\n",
       " ('.', 6862),\n",
       " ('of', 6536),\n",
       " ('and', 6024),\n",
       " ('a', 4569),\n",
       " ('to', 4542),\n",
       " (';', 4072),\n",
       " ('in', 3916),\n",
       " ('that', 2982)]"
      ]
     },
     "execution_count": 25,
     "metadata": {},
     "output_type": "execute_result"
    }
   ],
   "source": [
    "# 가장 많이 나온 단어 10개 출력\n",
    "fdist.most_common(10) "
   ]
  },
  {
   "cell_type": "code",
   "execution_count": 31,
   "id": "c1c31557-e708-433e-8f3c-9658bc54baa4",
   "metadata": {},
   "outputs": [
    {
     "data": {
      "text/plain": [
       "(906, 906, 906)"
      ]
     },
     "execution_count": 31,
     "metadata": {},
     "output_type": "execute_result"
    }
   ],
   "source": [
    "# 세 가지 방법 동일, 해당 값의 개수\n",
    "FreqDist(text1)['whale'], fdist['whale'], text1.count('whale') "
   ]
  },
  {
   "cell_type": "code",
   "execution_count": 32,
   "id": "4494ad62-f9eb-4729-a367-13000ee5a16b",
   "metadata": {},
   "outputs": [
    {
     "data": {
      "text/plain": [
       "0.003473673313677301"
      ]
     },
     "execution_count": 32,
     "metadata": {},
     "output_type": "execute_result"
    }
   ],
   "source": [
    "# 해당 값의 개수가 차지하는 비율\n",
    "fdist.freq('whale')"
   ]
  },
  {
   "cell_type": "code",
   "execution_count": 10,
   "id": "12139446-a4b4-4ffe-8d85-ddacc4363f21",
   "metadata": {},
   "outputs": [
    {
     "data": {
      "text/plain": [
       "9002"
      ]
     },
     "execution_count": 10,
     "metadata": {},
     "output_type": "execute_result"
    }
   ],
   "source": [
    "#1번 나타나는 단어들\n",
    "len(fdist.hapaxes()) # 중복안 됨, 대소문자 구분됨"
   ]
  },
  {
   "cell_type": "code",
   "execution_count": 33,
   "id": "774d4dc9-8418-460e-92ee-13b2218b6a2b",
   "metadata": {},
   "outputs": [
    {
     "data": {
      "image/png": "[encoded data removed]",
      "text/plain": [
       "<Figure size 432x288 with 1 Axes>"
      ]
     },
     "metadata": {
      "needs_background": "light"
     },
     "output_type": "display_data"
    },
    {
     "data": {
      "text/plain": [
       "<AxesSubplot:xlabel='Samples', ylabel='Cumulative Counts'>"
      ]
     },
     "execution_count": 33,
     "metadata": {},
     "output_type": "execute_result"
    }
   ],
   "source": [
    "# 빈번한 단어 (50개, 축적)\n",
    "fdist.plot(50, cumulative=True) "
   ]
  },
  {
   "cell_type": "code",
   "execution_count": 34,
   "id": "8ad818be-9ba4-4279-b814-5c3e64ec73db",
   "metadata": {},
   "outputs": [
    {
     "data": {
      "text/plain": [
       "9002"
      ]
     },
     "execution_count": 34,
     "metadata": {},
     "output_type": "execute_result"
    }
   ],
   "source": [
    "# 1번 나타나는 단어들\n",
    "# 중복 안 됨, 대소문자는 구분\n",
    "len(fdist.hapaxes())"
   ]
  },
  {
   "cell_type": "markdown",
   "id": "11a484ea-b8e1-4aae-aa5a-2c21a64ff584",
   "metadata": {},
   "source": [
    "## 리스트 & 리스트 컴프리핸션\n",
    "- 리스트: 배열(array), 리스트(list)\n",
    "- 하나의 변수에 여러 값을 할당하는 자료형\n",
    "    - a = [1, 2, 3]\n",
    "- 대괄호로 선언\n",
    "- 내부 요소들은 자료형이 달라도 됨\n",
    "    - a = [1, True, 'hello']\n",
    "- 순서가 있다 -> 인덱싱, 슬라이싱 가능\n",
    "- 빈 리스트 선언 list(), []"
   ]
  },
  {
   "cell_type": "code",
   "execution_count": 35,
   "id": "96d9de78-59bf-477c-a0d0-061a42e24df8",
   "metadata": {},
   "outputs": [
    {
     "data": {
      "text/plain": [
       "['hello', True, 1]"
      ]
     },
     "execution_count": 35,
     "metadata": {},
     "output_type": "execute_result"
    }
   ],
   "source": [
    "a = [1, True, 'hello']\n",
    "a[::-1] # 거꾸로 출력"
   ]
  },
  {
   "cell_type": "code",
   "execution_count": 36,
   "id": "1cdc6c5d-ee21-41c1-888a-4343aaf4a688",
   "metadata": {},
   "outputs": [],
   "source": [
    "# 빈 리스트 선언하는 방법\n",
    "b = []\n",
    "b = list()"
   ]
  },
  {
   "cell_type": "code",
   "execution_count": 38,
   "id": "4063f770-2086-4e90-b335-23a0b5024683",
   "metadata": {},
   "outputs": [
    {
     "name": "stdout",
     "output_type": "stream",
     "text": [
      "soju\n",
      "rum\n"
     ]
    }
   ],
   "source": [
    "drinks = ['rum', 'mojito', 'soju']\n",
    "print(drinks[-1]) # 마지막\n",
    "print(drinks[0]) # 처음"
   ]
  },
  {
   "cell_type": "code",
   "execution_count": 39,
   "id": "a6cee766-c29c-43d3-b7b7-479c4fad89b2",
   "metadata": {},
   "outputs": [
    {
     "name": "stdout",
     "output_type": "stream",
     "text": [
      "2\n"
     ]
    }
   ],
   "source": [
    "# drinks에서 soju의 위치\n",
    "print(drinks.index('soju'))"
   ]
  },
  {
   "cell_type": "markdown",
   "id": "e5c2284c-4abc-43bc-92c4-3912d65aaad2",
   "metadata": {
    "tags": []
   },
   "source": [
    "## 리스트 컴프리핸션\n",
    "- 지능형 리스트\n",
    "- 주어진 리스트를 포함하는 새로운 리스트를 형성하는 것\n",
    "- list + for_loop을 한 줄로 해결하는 방식\n",
    "- 형태) [A for A' in B]\n",
    "    - B에 있는 A'에서 A를 가진 리스트를 반환\n",
    "    - B: 기존의 리스트\n",
    "    - A': B의 자료 형태\n",
    "    - A: 새로운 리스트의 요소\n",
    "- 조건 : [A for A' in B if 조건식]\n",
    "    - [A for A' in B if 조건식 and 조건식...]"
   ]
  },
  {
   "cell_type": "code",
   "execution_count": 43,
   "id": "c01dff2e-e7cf-4e90-a41f-8b4dc10ce11e",
   "metadata": {},
   "outputs": [
    {
     "data": {
      "text/plain": [
       "['rum', 'mojito', 'soju']"
      ]
     },
     "execution_count": 43,
     "metadata": {},
     "output_type": "execute_result"
    }
   ],
   "source": [
    "drinks = ['rum', 'mojito', 'soju']\n",
    "[d for d in drinks] # 기본형식"
   ]
  },
  {
   "cell_type": "code",
   "execution_count": 44,
   "id": "9928af3f-2e34-4f08-b3d3-24ef4ad7fa14",
   "metadata": {},
   "outputs": [
    {
     "data": {
      "text/plain": [
       "['r', 'm', 's']"
      ]
     },
     "execution_count": 44,
     "metadata": {},
     "output_type": "execute_result"
    }
   ],
   "source": [
    "# drinks의 각각을 돌면서 첫번째 글자를 출력\n",
    "[d[0] for d in drinks] "
   ]
  },
  {
   "cell_type": "code",
   "execution_count": 13,
   "id": "f1a1bbcc-8fe6-453b-adab-8ce048b3f234",
   "metadata": {},
   "outputs": [],
   "source": [
    "# text1 알파벳 수가 10개 이상인 단어의 앞글자만 반환\n",
    "# [word[0] for word in text1 if len(word) >= 10]"
   ]
  },
  {
   "cell_type": "code",
   "execution_count": 14,
   "id": "f145e5ec-5df6-415d-982e-081ca5e5fe87",
   "metadata": {},
   "outputs": [],
   "source": [
    "# text4에서 'gnt'가 들어있는 단어\n",
    "# [word for word in text4 if 'gnt' in word]"
   ]
  },
  {
   "cell_type": "code",
   "execution_count": 46,
   "id": "8e7a9e69-2089-413d-9c03-d3bb11d42486",
   "metadata": {},
   "outputs": [
    {
     "data": {
      "text/plain": [
       "True"
      ]
     },
     "execution_count": 46,
     "metadata": {},
     "output_type": "execute_result"
    }
   ],
   "source": [
    "'gnt' in 'sovereignty'"
   ]
  },
  {
   "cell_type": "code",
   "execution_count": 48,
   "id": "322a8ce5-d13c-4acd-a541-295bf724afc3",
   "metadata": {},
   "outputs": [],
   "source": [
    "# 중복을 없애는 두 가지 방법의 차이 : 순서\n",
    "# a는 중복을 먼저 제거한 뒤 진행 \n",
    "# b는 전부 진행을 한 뒤, 마지막에 중복을 제거 \n",
    "\n",
    "a = [word for word in set(text4) if 'gnt' in word]\n",
    "b = set([word for word in text4 if 'gnt' in word])"
   ]
  },
  {
   "cell_type": "markdown",
   "id": "f26ac0bb-da91-40a1-a803-cd07b1fccc5f",
   "metadata": {
    "tags": []
   },
   "source": [
    "## 조건을 위한 함수 : uncased, cased\n",
    "- upper() : 대문자로\n",
    "- lower() : 소문자로\n",
    "- title(),capitalize() : 첫글자를 대문자로\n",
    "- swapcase() : 대문자를 소문자로, 소문자를 대문자로\n",
    "- isupper(), islower(), istitle(), isalpha(), endswith(), startswith() : True, False 반환"
   ]
  },
  {
   "cell_type": "code",
   "execution_count": 51,
   "id": "8af2d282-9d5d-4916-a4a6-15db8141bc49",
   "metadata": {},
   "outputs": [
    {
     "data": {
      "text/plain": [
       "'Word'"
      ]
     },
     "execution_count": 51,
     "metadata": {},
     "output_type": "execute_result"
    }
   ],
   "source": [
    "'word'.capitalize()"
   ]
  },
  {
   "cell_type": "code",
   "execution_count": 52,
   "id": "1309b98f-66cb-4782-a3e6-8f9ae52a111c",
   "metadata": {},
   "outputs": [
    {
     "data": {
      "text/plain": [
       "True"
      ]
     },
     "execution_count": 52,
     "metadata": {},
     "output_type": "execute_result"
    }
   ],
   "source": [
    "# 'w'로 시작하는가?\n",
    "'word'.startswith('w')"
   ]
  },
  {
   "cell_type": "code",
   "execution_count": 53,
   "id": "a3f6e86c-0ad4-451d-91d2-1f4d2268fe5b",
   "metadata": {},
   "outputs": [
    {
     "data": {
      "text/plain": [
       "False"
      ]
     },
     "execution_count": 53,
     "metadata": {},
     "output_type": "execute_result"
    }
   ],
   "source": [
    "# 알파벳인가?\n",
    "','.isalpha()"
   ]
  },
  {
   "cell_type": "code",
   "execution_count": 54,
   "id": "f8ec14b4-e250-4c2d-b54f-06e8a118c201",
   "metadata": {},
   "outputs": [
    {
     "data": {
      "text/plain": [
       "['uncomfortableness',\n",
       " 'comfortableness',\n",
       " 'intolerableness',\n",
       " 'immutableness',\n",
       " 'indomitableness',\n",
       " 'reasonableness',\n",
       " 'indispensableness',\n",
       " 'indomitableness',\n",
       " 'honourableness',\n",
       " 'palpableness']"
      ]
     },
     "execution_count": 54,
     "metadata": {},
     "output_type": "execute_result"
    }
   ],
   "source": [
    "#text1에서 'ableness'로 끝나는 단어 반환\n",
    "[word for word in text1 if word.endswith('ableness')]"
   ]
  },
  {
   "cell_type": "code",
   "execution_count": 57,
   "id": "65cf1ce9-571f-4b70-9e73-48048b03641c",
   "metadata": {},
   "outputs": [],
   "source": [
    "# text3에서 대문자로 시작하는 단어들 중 길이가 3이상인 단어 중복없이, 대문자로 변환해서 출력\n",
    "# a형태로 해야함, 계산한 다음에 중복 없앰 \n",
    "# b형태로 하면 god,God 남고 계산한 다음 GOD, GOD 중복된 값이 남음\n",
    "a = set([word.upper() for word in text3 if word[0].isupper() and len(word) >= 3])\n",
    "b = [word.upper() for word in set(text3) if word[0].isupper() and len(word) >= 3]"
   ]
  },
  {
   "cell_type": "code",
   "execution_count": 60,
   "id": "12bd7869-2169-4782-aa49-e3464288e82e",
   "metadata": {},
   "outputs": [
    {
     "data": {
      "text/plain": [
       "[6, 8, 6, 5, 15, 12, 8, 4, 5, 5]"
      ]
     },
     "execution_count": 60,
     "metadata": {},
     "output_type": "execute_result"
    }
   ],
   "source": [
    "# text4에서 알파벳 단어 중, 길이가 4개 이상, 빈도수가 5 이상인 단어를 길이로 출력(10개만)\n",
    "# fdist4[word] >= 5를 text4.count(word) >= 5로 하면 비효율적\n",
    "fdist4 = FreqDist(text4)\n",
    "[len(word) for word in text4 if word.isalpha() and len(word) >= 4 and fdist4[word] >= 5][:10]"
   ]
  },
  {
   "cell_type": "code",
   "execution_count": 62,
   "id": "14c7a4d8-2305-4235-966e-2d5f1a0fc958",
   "metadata": {},
   "outputs": [
    {
     "data": {
      "text/plain": [
       "[6, 8, 6, 5, 15, 12, 8, 4, 5, 5]"
      ]
     },
     "execution_count": 62,
     "metadata": {},
     "output_type": "execute_result"
    }
   ],
   "source": [
    "# 위 문제를 fdist로 접근한 풀이방법\n",
    "fdist4 = FreqDist(text4)\n",
    "[len(word) for (word, count) in fdist4.items() if word.isalpha() and len(word) >= 4 and count >= 5][:10]"
   ]
  },
  {
   "cell_type": "markdown",
   "id": "7a69d137-19a0-439c-a913-b4868ccad671",
   "metadata": {},
   "source": [
    "## 리스트, 스트링\n",
    "- str.split(sep)\n",
    "    - str -> list\n",
    "    - 기본은 공백 기준으로 나눔\n",
    "- 'sep'.join(list)\n",
    "    - list -> str"
   ]
  },
  {
   "cell_type": "code",
   "execution_count": 63,
   "id": "cd6f479d-a4a6-496a-8a6c-dc5c3f9a34ad",
   "metadata": {},
   "outputs": [
    {
     "data": {
      "text/plain": [
       "['I', 'am', 'thirsty']"
      ]
     },
     "execution_count": 63,
     "metadata": {},
     "output_type": "execute_result"
    }
   ],
   "source": [
    "sent = 'I am thirsty'\n",
    "['I', 'am', 'thirsty'] # 이렇게 만들고 싶다면\n",
    "sent.split()"
   ]
  },
  {
   "cell_type": "code",
   "execution_count": 66,
   "id": "442fc8d6-9047-4661-87c1-b0887136c769",
   "metadata": {},
   "outputs": [
    {
     "data": {
      "text/plain": [
       "['I', ' am', ' thirsty']"
      ]
     },
     "execution_count": 66,
     "metadata": {},
     "output_type": "execute_result"
    }
   ],
   "source": [
    "sent = 'I, am, thirsty'\n",
    "sent.split(',') # 쉼표를 기준으로 나눔"
   ]
  },
  {
   "cell_type": "code",
   "execution_count": 67,
   "id": "5d100830-d077-42c9-a729-274eac07f692",
   "metadata": {},
   "outputs": [
    {
     "data": {
      "text/plain": [
       "['I', 'am', 'thirsty']"
      ]
     },
     "execution_count": 67,
     "metadata": {},
     "output_type": "execute_result"
    }
   ],
   "source": [
    "# 위 리스트 각 요소의 공백 제거\n",
    "[word.strip() for word in sent.split(',')]"
   ]
  },
  {
   "cell_type": "code",
   "execution_count": 72,
   "id": "9ecc8f17-a183-44f6-ba92-61c31230f2f8",
   "metadata": {},
   "outputs": [
    {
     "data": {
      "text/plain": [
       "'I-am-thirsty'"
      ]
     },
     "execution_count": 72,
     "metadata": {},
     "output_type": "execute_result"
    }
   ],
   "source": [
    "# 'sep'.join(list)\n",
    "tokens = [word.strip() for word in sent.split(',')]\n",
    "'-'.join(tokens)"
   ]
  },
  {
   "cell_type": "markdown",
   "id": "bedb8861-c0be-4ae5-9dde-b0db77855829",
   "metadata": {
    "tags": []
   },
   "source": [
    "# Ch06. 반복문\n",
    "- [word for word in text1]에서 'for word in text1' 부분\n",
    "- 자료구조를 순회할 때 사용\n",
    "- 정해진 동작을 반복적으로 수행할 때 내리는 명령어\n",
    "- 시작조건, 종료조건, 수행명령으로 구성\n",
    "- for 요소 in 반복범위:\n",
    "    수행명령\n",
    "- 주의할 점) 들여쓰기, 블록 => 논리구조를 나타냄\n",
    "- 무한루프가 되지 않도록 주의"
   ]
  },
  {
   "cell_type": "code",
   "execution_count": 25,
   "id": "9b99234a-6cde-4e86-9bfe-268c5c4fb8fa",
   "metadata": {},
   "outputs": [
    {
     "name": "stdout",
     "output_type": "stream",
     "text": [
      "[\n",
      "Moby\n",
      "Dick\n",
      "by\n",
      "Herman\n",
      "Melville\n",
      "1851\n",
      "]\n",
      "ETYMOLOGY\n",
      ".\n"
     ]
    }
   ],
   "source": [
    "for word in text1[:10]:\n",
    "    print(word)"
   ]
  },
  {
   "cell_type": "code",
   "execution_count": 73,
   "id": "ee0361d4-8618-4b4d-abab-d46f76b2e972",
   "metadata": {},
   "outputs": [
    {
     "data": {
      "text/plain": [
       "['[',\n",
       " 'Moby',\n",
       " 'Dick',\n",
       " 'by',\n",
       " 'Herman',\n",
       " 'Melville',\n",
       " '1851',\n",
       " ']',\n",
       " 'ETYMOLOGY',\n",
       " '.']"
      ]
     },
     "execution_count": 73,
     "metadata": {},
     "output_type": "execute_result"
    }
   ],
   "source": [
    "# 위와 다른 점은 리스트형태로 출력됨\n",
    "[word for word in text1[:10]]"
   ]
  },
  {
   "cell_type": "code",
   "execution_count": 75,
   "id": "6328cb5e-14e7-4d35-8507-fe5eccc42746",
   "metadata": {},
   "outputs": [
    {
     "name": "stdout",
     "output_type": "stream",
     "text": [
      "a\n",
      "b\n",
      "c\n"
     ]
    }
   ],
   "source": [
    "# 하나 하나의 요소 반환\n",
    "alphabet = ['a', 'b', 'c']\n",
    "for w in alphabet:\n",
    "    print(w)"
   ]
  },
  {
   "cell_type": "code",
   "execution_count": 82,
   "id": "c8ea37c7-3546-4c19-9d3b-036a71d8f920",
   "metadata": {},
   "outputs": [
    {
     "name": "stdout",
     "output_type": "stream",
     "text": [
      "1\n",
      "3\n",
      "5\n",
      "7\n",
      "9\n"
     ]
    }
   ],
   "source": [
    "# 숫자 반복 : range(start, end, step)\n",
    "for i in range(1, 10, 2):\n",
    "    print(i)"
   ]
  },
  {
   "cell_type": "code",
   "execution_count": 80,
   "id": "33efa875-09b1-4ea0-8dde-7265ee6668d2",
   "metadata": {},
   "outputs": [
    {
     "name": "stdout",
     "output_type": "stream",
     "text": [
      "260819\n",
      "141576\n",
      "44764\n",
      "152901\n",
      "45010\n",
      "16967\n",
      "100676\n",
      "4867\n",
      "69213\n"
     ]
    }
   ],
   "source": [
    "# text1-9 각 텍스트의 단어 수를 반환\n",
    "text = [text1, text2, text3, text4, text5, text6, text7, text8, text9]\n",
    "for word in text:\n",
    "        print(len(word))"
   ]
  },
  {
   "cell_type": "markdown",
   "id": "39795fba-be5b-493c-b872-ec6a5e56dbde",
   "metadata": {},
   "source": [
    "## 출력 포매팅\n",
    "- 1. f'...{var}', F'...{var}'\n",
    "- 2. '...%자료형' %var / 옛날방식\n",
    "- 3. '...{}'.format(var)"
   ]
  },
  {
   "cell_type": "code",
   "execution_count": 85,
   "id": "222ae877-560c-4320-b658-9a6fcbceaad8",
   "metadata": {},
   "outputs": [
    {
     "name": "stdout",
     "output_type": "stream",
     "text": [
      "My name is lee\n"
     ]
    }
   ],
   "source": [
    "# 1. f'{}', F'{}'\n",
    "name = 'lee'\n",
    "print(f'My name is {name}')"
   ]
  },
  {
   "cell_type": "code",
   "execution_count": 86,
   "id": "dfe5772e-f229-4a24-9517-f5cc21c051d9",
   "metadata": {},
   "outputs": [
    {
     "name": "stdout",
     "output_type": "stream",
     "text": [
      "My name is lee\n"
     ]
    }
   ],
   "source": [
    "# 2. %\n",
    "print('My name is %s' %name)"
   ]
  },
  {
   "cell_type": "code",
   "execution_count": 87,
   "id": "d85fef35-e006-4570-bba3-7320db2cfa9c",
   "metadata": {},
   "outputs": [
    {
     "name": "stdout",
     "output_type": "stream",
     "text": [
      "My name is lee\n"
     ]
    }
   ],
   "source": [
    "# 3. '...{}'.format(var)\n",
    "print('My name is {}'.format(name))"
   ]
  },
  {
   "cell_type": "code",
   "execution_count": 89,
   "id": "2a5b3ae9-bfe1-4284-a7fe-93b97446a695",
   "metadata": {},
   "outputs": [],
   "source": [
    "# 변수가 늘어날 경우\n",
    "age = 14"
   ]
  },
  {
   "cell_type": "code",
   "execution_count": 90,
   "id": "9192fe8c-964d-4c5f-8a04-c113ae9c6c00",
   "metadata": {},
   "outputs": [
    {
     "name": "stdout",
     "output_type": "stream",
     "text": [
      "My name is lee, and I am 14 years old.\n"
     ]
    }
   ],
   "source": [
    "# 1번 방식\n",
    "print(f'My name is {name}, and I am {age} years old.')"
   ]
  },
  {
   "cell_type": "code",
   "execution_count": 91,
   "id": "689b4590-144f-4eb7-a8a5-9ab326e23d16",
   "metadata": {},
   "outputs": [
    {
     "name": "stdout",
     "output_type": "stream",
     "text": [
      "My name is lee, and I am 14 years old.\n"
     ]
    }
   ],
   "source": [
    "# 3번 방식\n",
    "print('My name is {}, and I am {} years old.'.format(name, age))"
   ]
  },
  {
   "cell_type": "code",
   "execution_count": 94,
   "id": "6cdde0c8-0a17-4b2b-99aa-5d768f5de365",
   "metadata": {},
   "outputs": [
    {
     "name": "stdout",
     "output_type": "stream",
     "text": [
      "My name is 14, and I am lee years old.\n"
     ]
    }
   ],
   "source": [
    "# 3번 방식 순서 변경 가능 {인덱스}\n",
    "print('My name is {1}, and I am {0} years old.'.format(name, age))"
   ]
  },
  {
   "cell_type": "code",
   "execution_count": 93,
   "id": "55c94cd1-330b-4364-9012-9e661399d4fe",
   "metadata": {},
   "outputs": [
    {
     "name": "stdout",
     "output_type": "stream",
     "text": [
      "My name is 0.556\n"
     ]
    }
   ],
   "source": [
    "# 2번 방식에서 소수점 n번째 자리까지 나타내는 방법\n",
    "a = 0.555555\n",
    "print('My name is %.3f' %a)"
   ]
  },
  {
   "cell_type": "code",
   "execution_count": 97,
   "id": "49d69eb8-b96e-4598-8aba-a1d5334ab698",
   "metadata": {},
   "outputs": [
    {
     "name": "stdout",
     "output_type": "stream",
     "text": [
      "My name is 0.6, and I am 14 years old.\n"
     ]
    }
   ],
   "source": [
    "# 3번 방식에서 소수점 n번째 자리까지 나타내는 방법\n",
    "print('My name is {:.1}, and I am {} years old.'.format(a, age))"
   ]
  }
 ],
 "metadata": {
  "kernelspec": {
   "display_name": "Python 3 (ipykernel)",
   "language": "python",
   "name": "python3"
  },
  "language_info": {
   "codemirror_mode": {
    "name": "ipython",
    "version": 3
   },
   "file_extension": ".py",
   "mimetype": "text/x-python",
   "name": "python",
   "nbconvert_exporter": "python",
   "pygments_lexer": "ipython3",
   "version": "3.9.7"
  },
  "toc-autonumbering": false,
  "toc-showmarkdowntxt": false
 },
 "nbformat": 4,
 "nbformat_minor": 5
}
