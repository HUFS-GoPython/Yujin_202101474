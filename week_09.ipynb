{
 "cells": [
  {
   "cell_type": "markdown",
   "id": "1a54cf3f-fa73-4ee6-bd49-d501256a0877",
   "metadata": {},
   "source": [
    "# Dictionary\n",
    "- 영어 사전처럼 <단어 : 뜻> => **<키 : 값>**\n",
    "- 순서가 없다 => 인덱싱 불가능!\n",
    "- **\"키로 값을 찾는다.\"**\n",
    "- 키는 중복되지 않는 고유한 값\n",
    "- 가변: 수정, 삭제, 추가 등 가능\n",
    "- 타입: dict\n",
    "- 형변환: dict()\n",
    "- 중괄호 사용 {}, 콤마로 구분\n",
    "- 값에 다양한 자료구조가 올 수 있음  \n",
    "(a:1, a:[1, 2, 3, 4])"
   ]
  },
  {
   "cell_type": "code",
   "execution_count": 10,
   "id": "0fc1ff33-268e-4b1c-9ad8-32102b7b3da4",
   "metadata": {},
   "outputs": [
    {
     "data": {
      "text/plain": [
       "set"
      ]
     },
     "execution_count": 10,
     "metadata": {},
     "output_type": "execute_result"
    }
   ],
   "source": [
    "# 빈 딕셔너리 선언하는 방법\n",
    "empty = dict()\n",
    "empty = {}\n",
    "\n",
    "# set과 헷갈리지 말기\n",
    "empty_set = set()\n",
    "type(empty_set)"
   ]
  },
  {
   "cell_type": "code",
   "execution_count": 11,
   "id": "2e6ee62f-aeb7-4c51-a638-d3ef50535303",
   "metadata": {},
   "outputs": [
    {
     "data": {
      "text/plain": [
       "({1, 2, 3}, {1: 'apple', 2: 'banana', 3: 'kiwi'})"
      ]
     },
     "execution_count": 11,
     "metadata": {},
     "output_type": "execute_result"
    }
   ],
   "source": [
    "# 값이 있는 딕셔너리 선언하는 방법\n",
    "a = {1, 2, 3} # set은 값만 존재\n",
    "b = {1:'apple', 2:'banana', 3:'kiwi'} # dict는 키 : 값\n",
    "a, b"
   ]
  },
  {
   "cell_type": "code",
   "execution_count": 12,
   "id": "d32222e7-7616-4b94-bec2-2b1a703ef4e5",
   "metadata": {},
   "outputs": [
    {
     "data": {
      "text/plain": [
       "{'apple': 'a', 'banana': 'b', 'kiwi': 'c'}"
      ]
     },
     "execution_count": 12,
     "metadata": {},
     "output_type": "execute_result"
    }
   ],
   "source": [
    "# dict 키 값의 따옴표를 생략하여 선언하는 방법\n",
    "b = dict(apple='a', banana='b', kiwi='c')\n",
    "b"
   ]
  },
  {
   "cell_type": "markdown",
   "id": "1af6df4d-a2a7-4dd0-b5e8-520258d89e35",
   "metadata": {},
   "source": [
    "## 실습 (1)\n",
    "**<출석부로 딕셔너리 만들기>**  \n",
    "- 이름, 학번, 학과\n",
    "- james 202201 경제학과\n",
    "- laura 202203 스페인어과\n",
    "- louis 202202 컴공과"
   ]
  },
  {
   "cell_type": "code",
   "execution_count": 2,
   "id": "bb0c523d-ee4f-4c00-9b9a-8bcbdbabacd3",
   "metadata": {},
   "outputs": [
    {
     "data": {
      "text/plain": [
       "{202201: ['james', '경제학과'],\n",
       " 202203: ['laura', '스페인어과'],\n",
       " 202202: ['louis', '컴공과']}"
      ]
     },
     "execution_count": 2,
     "metadata": {},
     "output_type": "execute_result"
    }
   ],
   "source": [
    "# 키 값이 중복이 없어야 하기 때문에 학번이 적절!\n",
    "# value에는 다양한 자료구조를 넣을 수 있음!\n",
    "{202201:['james', '경제학과'], 202203:['laura', '스페인어과'], 202202:['louis', '컴공과']}"
   ]
  },
  {
   "cell_type": "markdown",
   "id": "9fac6c7f-ffd3-4a42-9443-51ce7b3b80db",
   "metadata": {},
   "source": [
    "---"
   ]
  },
  {
   "cell_type": "markdown",
   "id": "b54692bf-3baa-468c-bcbb-733e84cb0946",
   "metadata": {},
   "source": [
    "## 1. 형변환\n",
    "- 페어가 있을 때 가능"
   ]
  },
  {
   "cell_type": "code",
   "execution_count": 4,
   "id": "9390325a-17a0-4d5d-87f0-1ab73c09f92d",
   "metadata": {},
   "outputs": [
    {
     "data": {
      "text/plain": [
       "{1: 2, 2: 3, 3: 4}"
      ]
     },
     "execution_count": 4,
     "metadata": {},
     "output_type": "execute_result"
    }
   ],
   "source": [
    "# 리스트인 경우\n",
    "ex1 = [[1, 2], [2, 3], [3, 4]]\n",
    "dict(ex1)"
   ]
  },
  {
   "cell_type": "code",
   "execution_count": 6,
   "id": "2f8c9a0e-4d02-4839-99c3-b300686dcf94",
   "metadata": {},
   "outputs": [
    {
     "data": {
      "text/plain": [
       "{1: 2, 2: 3, 3: 4}"
      ]
     },
     "execution_count": 6,
     "metadata": {},
     "output_type": "execute_result"
    }
   ],
   "source": [
    "# 튜플인 경우\n",
    "ex1 = [(1, 2), (2, 3), (3, 4)]\n",
    "dict(ex1)"
   ]
  },
  {
   "cell_type": "code",
   "execution_count": 7,
   "id": "b445da40-198b-4782-818d-952c5f03473f",
   "metadata": {},
   "outputs": [
    {
     "data": {
      "text/plain": [
       "{1: 3, 2: 3}"
      ]
     },
     "execution_count": 7,
     "metadata": {},
     "output_type": "execute_result"
    }
   ],
   "source": [
    "# 키 값의 중복이 있을 경우 마지막 값이 온다. \n",
    "ex2 = [[1, 2], [2, 3], [1, 3]]\n",
    "dict(ex2)"
   ]
  },
  {
   "cell_type": "code",
   "execution_count": 9,
   "id": "d28852d9-6c5b-403a-b517-5eb951d6addd",
   "metadata": {},
   "outputs": [
    {
     "data": {
      "text/plain": [
       "{'a': 'b', 'b': 'c', 'c': 'd'}"
      ]
     },
     "execution_count": 9,
     "metadata": {},
     "output_type": "execute_result"
    }
   ],
   "source": [
    "# 문자열인 경우(딱 두 개만 가능, 세 자리가 올 경우 error!)\n",
    "ex3 = ['ab', 'bc', 'cd']\n",
    "dict(ex3)"
   ]
  },
  {
   "cell_type": "markdown",
   "id": "bf0e89ba-8554-4e78-9589-c48ab9cd50df",
   "metadata": {},
   "source": [
    "---"
   ]
  },
  {
   "cell_type": "markdown",
   "id": "61a29105-8520-4d71-8d4a-52bc555c59a4",
   "metadata": {},
   "source": [
    "## 2. 항목 조회, 변경"
   ]
  },
  {
   "cell_type": "code",
   "execution_count": 10,
   "id": "ca341037-d506-4c31-8892-22973216b395",
   "metadata": {},
   "outputs": [],
   "source": [
    "# 성:이름 딕셔너리\n",
    "pythons = { \n",
    "    'Chapman': 'Graham',\n",
    "    'Cleese': 'john',\n",
    "    'Idle': 'Eric',\n",
    "    'Jones': 'Terry',\n",
    "    'Palin':'Michael',\n",
    "}"
   ]
  },
  {
   "cell_type": "code",
   "execution_count": 18,
   "id": "4272e989-d539-4323-9f30-9ba29a64bec0",
   "metadata": {
    "tags": []
   },
   "outputs": [
    {
     "data": {
      "text/plain": [
       "'James'"
      ]
     },
     "execution_count": 18,
     "metadata": {},
     "output_type": "execute_result"
    }
   ],
   "source": [
    "# 값을 찾는 방법(키로 값을 찾음)\n",
    "# 없는 키를 넣으면 오류 발생\n",
    "pythons['Idle']"
   ]
  },
  {
   "cell_type": "code",
   "execution_count": 15,
   "id": "d27fccec-5f29-4688-8119-508056aa8c03",
   "metadata": {},
   "outputs": [
    {
     "data": {
      "text/plain": [
       "'James'"
      ]
     },
     "execution_count": 15,
     "metadata": {},
     "output_type": "execute_result"
    }
   ],
   "source": [
    "# 키 값을 변경하는 방법\n",
    "pythons['Idle'] = 'James'\n",
    "pythons['Idle']"
   ]
  },
  {
   "cell_type": "code",
   "execution_count": 16,
   "id": "504958ba-bd72-44a1-9b5e-a9606c4c8cec",
   "metadata": {},
   "outputs": [
    {
     "data": {
      "text/plain": [
       "{'Chapman': 'Graham',\n",
       " 'Cleese': 'john',\n",
       " 'Idle': 'James',\n",
       " 'Jones': 'Terry',\n",
       " 'Palin': 'Michael',\n",
       " 'Hwa': 'Chloe'}"
      ]
     },
     "execution_count": 16,
     "metadata": {},
     "output_type": "execute_result"
    }
   ],
   "source": [
    "# 키 값을 추가하는 방법(없는 것을)\n",
    "pythons['Hwa'] = 'Chloe'\n",
    "pythons"
   ]
  },
  {
   "cell_type": "code",
   "execution_count": 19,
   "id": "aea7a95b-fc72-43f8-a3dc-75e2d9ba6d4b",
   "metadata": {},
   "outputs": [
    {
     "data": {
      "text/plain": [
       "True"
      ]
     },
     "execution_count": 19,
     "metadata": {},
     "output_type": "execute_result"
    }
   ],
   "source": [
    "# 오류가 안 생기게 하는 방법\n",
    "# 1. in\n",
    "'Hwa' in pythons"
   ]
  },
  {
   "cell_type": "code",
   "execution_count": 23,
   "id": "4943928c-266b-495a-92e1-2ff05c9a5648",
   "metadata": {},
   "outputs": [
    {
     "name": "stdout",
     "output_type": "stream",
     "text": [
      "None\n"
     ]
    }
   ],
   "source": [
    "# 2-1. get 함수\n",
    "pythons.get('Lee') # 없으면 None을 반환"
   ]
  },
  {
   "cell_type": "code",
   "execution_count": 25,
   "id": "3d3536a8-e139-4f2e-88e6-66c2655eb905",
   "metadata": {},
   "outputs": [
    {
     "data": {
      "text/plain": [
       "0"
      ]
     },
     "execution_count": 25,
     "metadata": {},
     "output_type": "execute_result"
    }
   ],
   "source": [
    "# 2-2. get 함수 원하는 반환값도 설정 가능\n",
    "pythons.get('Lee', 0)"
   ]
  },
  {
   "cell_type": "markdown",
   "id": "17f9b144-8f2f-4afa-984d-1065b58fe3f0",
   "metadata": {
    "tags": []
   },
   "source": [
    "### 전체 조회\n",
    "- keys()\n",
    "- values()\n",
    "- items()\n",
    "- **리스트로 사용하고 싶다면 형변환을 해줘야 한다. list()**"
   ]
  },
  {
   "cell_type": "code",
   "execution_count": 31,
   "id": "b69e39a9-bc0f-453a-94a1-584b53a2f0c5",
   "metadata": {},
   "outputs": [
    {
     "data": {
      "text/plain": [
       "['Chapman', 'Cleese', 'Idle', 'Jones', 'Palin', 'Hwa']"
      ]
     },
     "execution_count": 31,
     "metadata": {},
     "output_type": "execute_result"
    }
   ],
   "source": [
    "# keys() : 키만 반환\n",
    "list(pythons.keys())"
   ]
  },
  {
   "cell_type": "code",
   "execution_count": 29,
   "id": "2805e5bc-3922-4a04-b651-e1040f3bfed2",
   "metadata": {},
   "outputs": [
    {
     "data": {
      "text/plain": [
       "dict_values(['Graham', 'john', 'James', 'Terry', 'Michael', 'Chloe'])"
      ]
     },
     "execution_count": 29,
     "metadata": {},
     "output_type": "execute_result"
    }
   ],
   "source": [
    "# values() : value만 반환\n",
    "pythons.values()"
   ]
  },
  {
   "cell_type": "code",
   "execution_count": 30,
   "id": "bb7e41f1-f3e1-4d26-9ed9-8e662b59bab1",
   "metadata": {},
   "outputs": [
    {
     "data": {
      "text/plain": [
       "dict_items([('Chapman', 'Graham'), ('Cleese', 'john'), ('Idle', 'James'), ('Jones', 'Terry'), ('Palin', 'Michael'), ('Hwa', 'Chloe')])"
      ]
     },
     "execution_count": 30,
     "metadata": {},
     "output_type": "execute_result"
    }
   ],
   "source": [
    "# items() : key와 value 반환\n",
    "# (키, 값)인 튜플의 형태로 반환 => 순회 할 때 많이 사용\n",
    "pythons.items()"
   ]
  },
  {
   "cell_type": "code",
   "execution_count": 32,
   "id": "55ac4e41-812c-4e1a-859d-fd675c876f0b",
   "metadata": {},
   "outputs": [
    {
     "name": "stdout",
     "output_type": "stream",
     "text": [
      "Chapman = Graham\n",
      "Cleese = john\n",
      "Idle = James\n",
      "Jones = Terry\n",
      "Palin = Michael\n",
      "Hwa = Chloe\n"
     ]
    }
   ],
   "source": [
    "# items 순회\n",
    "# 원하는 방식으로 출력가능\n",
    "for k, v, in pythons.items():\n",
    "    print(f'{k} = {v}')"
   ]
  },
  {
   "cell_type": "code",
   "execution_count": 33,
   "id": "9d2866bb-edd1-42d9-bdc8-c0a7a490932b",
   "metadata": {},
   "outputs": [
    {
     "data": {
      "text/plain": [
       "[('Chapman', 'Graham'),\n",
       " ('Cleese', 'john'),\n",
       " ('Idle', 'James'),\n",
       " ('Jones', 'Terry'),\n",
       " ('Palin', 'Michael'),\n",
       " ('Hwa', 'Chloe')]"
      ]
     },
     "execution_count": 33,
     "metadata": {},
     "output_type": "execute_result"
    }
   ],
   "source": [
    "# items 리스트 컴프리헨션\n",
    "[(k, v) for k, v in pythons.items()]"
   ]
  },
  {
   "cell_type": "code",
   "execution_count": 36,
   "id": "c7bab380-956d-4dda-b910-e0fce0fa3460",
   "metadata": {},
   "outputs": [
    {
     "data": {
      "text/plain": [
       "[('Chapman', 'Graham'),\n",
       " ('Cleese', 'john'),\n",
       " ('Idle', 'James'),\n",
       " ('Jones', 'Terry'),\n",
       " ('Palin', 'Michael'),\n",
       " ('Hwa', 'Chloe')]"
      ]
     },
     "execution_count": 36,
     "metadata": {},
     "output_type": "execute_result"
    }
   ],
   "source": [
    "[k for k in pythons.items()] "
   ]
  },
  {
   "cell_type": "code",
   "execution_count": 37,
   "id": "9ef95c07-cd1f-42e8-badc-937182bbb112",
   "metadata": {},
   "outputs": [
    {
     "data": {
      "text/plain": [
       "['Chapman', 'Cleese', 'Idle', 'Jones', 'Palin', 'Hwa']"
      ]
     },
     "execution_count": 37,
     "metadata": {},
     "output_type": "execute_result"
    }
   ],
   "source": [
    "# items()는 튜플의 형태로 들어있기 때문에 인덱스로 접근 가능\n",
    "# 0은 key 값, 1은 value 값\n",
    "[k[0] for k in pythons.items()]"
   ]
  },
  {
   "cell_type": "code",
   "execution_count": 38,
   "id": "3f76ed03-4062-46e9-bb06-2f8b8b89dc02",
   "metadata": {},
   "outputs": [
    {
     "data": {
      "text/plain": [
       "['Chapman', 'Cleese', 'Idle', 'Jones', 'Palin', 'Hwa']"
      ]
     },
     "execution_count": 38,
     "metadata": {},
     "output_type": "execute_result"
    }
   ],
   "source": [
    "# items() 없이 돌면 key만 출력\n",
    "[k for k in pythons]"
   ]
  },
  {
   "cell_type": "markdown",
   "id": "2bd83872-b21d-406c-b7f0-cc290ede6d94",
   "metadata": {},
   "source": [
    "---"
   ]
  },
  {
   "cell_type": "markdown",
   "id": "c32e054f-a9b7-4f1d-8290-31bdc0427ef5",
   "metadata": {},
   "source": [
    "## 실습 (2)\n",
    "**<animal: num_leg 딕셔너리 만들기>**"
   ]
  },
  {
   "cell_type": "code",
   "execution_count": 39,
   "id": "8732fc79-ae15-493f-8820-31f375435066",
   "metadata": {},
   "outputs": [],
   "source": [
    "animal = 'cat snake monkey ant spider'.split()\n",
    "legs = 4, 0, 2, 4, 8"
   ]
  },
  {
   "cell_type": "code",
   "execution_count": 42,
   "id": "b1a93d5b-f8bd-40b8-b129-a1d4fc9bc0e6",
   "metadata": {},
   "outputs": [
    {
     "name": "stdout",
     "output_type": "stream",
     "text": [
      "{'cat': 4, 'snake': 0, 'monkey': 2, 'ant': 4, 'spider': 8}\n",
      "{'cat': 4, 'snake': 0, 'monkey': 2, 'ant': 4, 'spider': 8}\n",
      "{'cat': 4, 'snake': 0, 'monkey': 2, 'ant': 4, 'spider': 8}\n"
     ]
    }
   ],
   "source": [
    "# 1. 리스트컴프리헨션 후 dict로 형변환\n",
    "dict([(key, value) for key, value in zip(animal, legs)])\n",
    "\n",
    "# 2-1. 빈 dict 만든 후 for문으로 추가\n",
    "animal_legs = {}\n",
    "for i in range(len(animal)):\n",
    "    animal_legs[i] = legs[i] \n",
    "animal_legs\n",
    "\n",
    "# 2-2.\n",
    "animal_legs = {}\n",
    "for k, v in zip(animal, legs):\n",
    "    animal_legs[k] = v \n",
    "animal_legs\n",
    "\n",
    "# 3. 딕셔너리 컴프리헨션\n",
    "{key:value for key, value in zip(animal, legs)}"
   ]
  },
  {
   "cell_type": "markdown",
   "id": "7948c52d-54f7-4b39-bc87-00cdebae6a14",
   "metadata": {},
   "source": [
    "**<pythons에서 (성 첫글자, 글자 개수)의 튜플로 이루어진 리스트로 만들어 반환>**"
   ]
  },
  {
   "cell_type": "code",
   "execution_count": 44,
   "id": "7b88adb3-f13c-4e66-9465-f09b304ab87c",
   "metadata": {},
   "outputs": [
    {
     "data": {
      "text/plain": [
       "dict_items([('Chapman', 'Graham'), ('Cleese', 'john'), ('Idle', 'James'), ('Jones', 'Terry'), ('Palin', 'Michael'), ('Hwa', 'Chloe')])"
      ]
     },
     "execution_count": 44,
     "metadata": {},
     "output_type": "execute_result"
    }
   ],
   "source": [
    "pythons.items()"
   ]
  },
  {
   "cell_type": "code",
   "execution_count": 45,
   "id": "ca88dc36-b653-473c-8cc6-7d7da7d4c54a",
   "metadata": {},
   "outputs": [
    {
     "data": {
      "text/plain": [
       "[('C', 6), ('C', 4), ('I', 5), ('J', 5), ('P', 7), ('H', 5)]"
      ]
     },
     "execution_count": 45,
     "metadata": {},
     "output_type": "execute_result"
    }
   ],
   "source": [
    "# 1.\n",
    "[(k[0], len(v)) for k, v in pythons.items()]"
   ]
  },
  {
   "cell_type": "code",
   "execution_count": 46,
   "id": "0fa096d9-7253-4d77-9033-e6949fbff014",
   "metadata": {},
   "outputs": [
    {
     "data": {
      "text/plain": [
       "[('C', 6), ('C', 4), ('I', 5), ('J', 5), ('P', 7), ('H', 5)]"
      ]
     },
     "execution_count": 46,
     "metadata": {},
     "output_type": "execute_result"
    }
   ],
   "source": [
    "# 2.\n",
    "[(k[0][0], len(k[1]))for k in pythons.items()]"
   ]
  },
  {
   "cell_type": "markdown",
   "id": "961bbcf5-64b4-41e7-8184-6be9c2ce0c3a",
   "metadata": {},
   "source": [
    "---"
   ]
  },
  {
   "cell_type": "markdown",
   "id": "d104a054-6e69-436e-bc16-1edb044b9e11",
   "metadata": {},
   "source": [
    "## 3. 병합, 삭제, 복제, 비교"
   ]
  },
  {
   "cell_type": "markdown",
   "id": "0a6c6482-ea2c-4727-8e47-11f24192805d",
   "metadata": {},
   "source": [
    "### (1) 병합"
   ]
  },
  {
   "cell_type": "code",
   "execution_count": 47,
   "id": "5be02c3e-6424-4c18-9596-d0ea22b87668",
   "metadata": {},
   "outputs": [
    {
     "data": {
      "text/plain": [
       "{'Chapman': 'Graham',\n",
       " 'Cleese': 'john',\n",
       " 'Idle': 'James',\n",
       " 'Jones': 'Terry',\n",
       " 'Palin': 'Michael',\n",
       " 'Hwa': 'Chloe'}"
      ]
     },
     "execution_count": 47,
     "metadata": {},
     "output_type": "execute_result"
    }
   ],
   "source": [
    "pythons"
   ]
  },
  {
   "cell_type": "code",
   "execution_count": 48,
   "id": "d37fc87f-d24b-4fef-90e4-b0405fdc4dc7",
   "metadata": {},
   "outputs": [
    {
     "data": {
      "text/plain": [
       "{'Marx': 'Groucho', 'Howard': 'Moe'}"
      ]
     },
     "execution_count": 48,
     "metadata": {},
     "output_type": "execute_result"
    }
   ],
   "source": [
    "others = {\n",
    "    'Marx': 'Groucho',\n",
    "    'Howard': 'Moe'\n",
    "}\n",
    "others"
   ]
  },
  {
   "cell_type": "code",
   "execution_count": 50,
   "id": "5ea87545-51c0-4a92-9565-c8d318133b75",
   "metadata": {},
   "outputs": [
    {
     "data": {
      "text/plain": [
       "{'Chapman': 'Graham',\n",
       " 'Cleese': 'john',\n",
       " 'Idle': 'James',\n",
       " 'Jones': 'Terry',\n",
       " 'Palin': 'Michael',\n",
       " 'Hwa': 'Chloe',\n",
       " 'Marx': 'Groucho',\n",
       " 'Howard': 'Moe'}"
      ]
     },
     "execution_count": 50,
     "metadata": {},
     "output_type": "execute_result"
    }
   ],
   "source": [
    "# update(): 딕셔너리 병합\n",
    "# pythons와 others를 병합하는 방법\n",
    "pythons.update(others)\n",
    "pythons"
   ]
  },
  {
   "cell_type": "code",
   "execution_count": 52,
   "id": "b73f7292-c976-4ae9-b4bb-df67c16dfbc5",
   "metadata": {},
   "outputs": [
    {
     "data": {
      "text/plain": [
       "{'Marx': 'Groucho',\n",
       " 'Howard': 'Moe',\n",
       " 'Chapman': 'Graham',\n",
       " 'Cleese': 'john',\n",
       " 'Idle': 'James',\n",
       " 'Jones': 'Terry',\n",
       " 'Palin': 'Michael',\n",
       " 'Hwa': 'Chloe'}"
      ]
     },
     "execution_count": 52,
     "metadata": {},
     "output_type": "execute_result"
    }
   ],
   "source": [
    "# {**, **}: 파이썬에서만 가능한 딕셔너리 병합\n",
    "{**others, **pythons} # 순서대로 나옴"
   ]
  },
  {
   "cell_type": "markdown",
   "id": "2466c997-25fd-4503-9d68-fb29a307f666",
   "metadata": {},
   "source": [
    "### (2) 삭제"
   ]
  },
  {
   "cell_type": "code",
   "execution_count": 53,
   "id": "2763d80a-4b49-458d-a657-b41d85f2de43",
   "metadata": {},
   "outputs": [
    {
     "data": {
      "text/plain": [
       "{'Chapman': 'Graham',\n",
       " 'Cleese': 'john',\n",
       " 'Idle': 'James',\n",
       " 'Jones': 'Terry',\n",
       " 'Palin': 'Michael',\n",
       " 'Marx': 'Groucho',\n",
       " 'Howard': 'Moe'}"
      ]
     },
     "execution_count": 53,
     "metadata": {},
     "output_type": "execute_result"
    }
   ],
   "source": [
    "# del []: 삭제\n",
    "# 없는 것을 삭제할 경우 오류\n",
    "del pythons['Hwa']\n",
    "pythons"
   ]
  },
  {
   "cell_type": "code",
   "execution_count": 59,
   "id": "74b856dc-af30-4d84-bba6-1945c594237a",
   "metadata": {},
   "outputs": [
    {
     "data": {
      "text/plain": [
       "'Groucho'"
      ]
     },
     "execution_count": 59,
     "metadata": {},
     "output_type": "execute_result"
    }
   ],
   "source": [
    "# pop(): 삭제\n",
    "# 키에 대한 값을 반환한 뒤 삭제됨\n",
    "pythons.pop('Marx')"
   ]
  },
  {
   "cell_type": "code",
   "execution_count": 61,
   "id": "e55518c5-121a-40e4-bd24-e88478766f2a",
   "metadata": {},
   "outputs": [
    {
     "data": {
      "text/plain": [
       "0"
      ]
     },
     "execution_count": 61,
     "metadata": {},
     "output_type": "execute_result"
    }
   ],
   "source": [
    "# pop(): 없는 값인 경우 반환값을 지정해줘야 오류 없음\n",
    "pythons.pop('Lee', 0)"
   ]
  },
  {
   "cell_type": "code",
   "execution_count": 62,
   "id": "ea7d1bc5-7c86-45f8-945f-397a52e5abee",
   "metadata": {},
   "outputs": [],
   "source": [
    "# clear(): 전체 삭제\n",
    "pythons.clear()"
   ]
  },
  {
   "cell_type": "code",
   "execution_count": 63,
   "id": "8d206d77-8f19-4d15-84ee-7d946bedbacb",
   "metadata": {},
   "outputs": [],
   "source": [
    "# 빈 딕셔너리 선언: 전체 삭제\n",
    "pythons = {}"
   ]
  },
  {
   "cell_type": "markdown",
   "id": "22d86127-63b1-48c6-83c4-109d5e09b553",
   "metadata": {
    "tags": []
   },
   "source": [
    "### (3) 복제\n",
    "- 리스트와 같음\n",
    "1. 할당: b = a\n",
    "2. 얕은 복사: c = a.copy() \n",
    "3. 깊은 복사: import copy, copy.deepcopy()"
   ]
  },
  {
   "cell_type": "code",
   "execution_count": 67,
   "id": "fab561c9-13c1-4402-9bbb-f95835bff50b",
   "metadata": {},
   "outputs": [
    {
     "data": {
      "text/plain": [
       "({1: 45, 2: 2, 3: 3}, {1: 45, 2: 2, 3: 3})"
      ]
     },
     "execution_count": 67,
     "metadata": {},
     "output_type": "execute_result"
    }
   ],
   "source": [
    "# 1. 할당\n",
    "# 특징(문제점): a와 b는 같은 주소를 가지고 있기 때문에 같이 변한다.\n",
    "a = {1:1, 2:2, 3:3}\n",
    "b = a\n",
    "a[1] = 45\n",
    "a, b"
   ]
  },
  {
   "cell_type": "code",
   "execution_count": 70,
   "id": "ed9cb98f-2506-4ccb-aee3-3f7a8318d1e9",
   "metadata": {},
   "outputs": [
    {
     "name": "stdout",
     "output_type": "stream",
     "text": [
      "{1: 45, 2: 22, 3: 3} {1: 45, 2: 22, 3: 3}\n",
      "{1: [100, 2, 3], 2: [2, 3, 4]} {1: [100, 2, 3], 2: [2, 3, 4]}\n"
     ]
    }
   ],
   "source": [
    "# 2. 얕은 복사\n",
    "# 특징: a의 값을 바꿨을 때, c의 값은 변하지 않는다.  \n",
    "c = a.copy()\n",
    "a[2] = 22\n",
    "print(a, c)\n",
    "\n",
    "# 문제점: 바뀐 값이 2차원 가변 객체일 경우에는 변한다.\n",
    "a = {1:[1, 2, 3], 2:[2, 3, 4]}\n",
    "d = a.copy()\n",
    "a[1][0] = 100\n",
    "print(a, d)"
   ]
  },
  {
   "cell_type": "code",
   "execution_count": 72,
   "id": "1c3656b3-8ae7-4b39-a2c1-3735243dc93d",
   "metadata": {},
   "outputs": [
    {
     "data": {
      "text/plain": [
       "({1: [100, 999, 3], 2: [2, 3, 4]}, {1: [100, 999, 3], 2: [2, 3, 4]})"
      ]
     },
     "execution_count": 72,
     "metadata": {},
     "output_type": "execute_result"
    }
   ],
   "source": [
    "# 3. 깊은 복사 \n",
    "# 특징: 바뀐 값이 2차원 가변객체여도 변하지 않는다. \n",
    "import copy\n",
    "\n",
    "e = copy.deepcopy(a)\n",
    "a[1][1] = 999\n",
    "a, e"
   ]
  },
  {
   "cell_type": "markdown",
   "id": "830884a9-4f7e-43db-b231-4d358f043067",
   "metadata": {},
   "source": [
    "### (4) 비교\n",
    "- 같다, 다르다만 된다.\n",
    "- 크기 비교 불가능\n",
    "- **비교할 일이 없다.**"
   ]
  },
  {
   "cell_type": "code",
   "execution_count": 73,
   "id": "afff806b-c668-455f-816b-f23272697e38",
   "metadata": {},
   "outputs": [
    {
     "data": {
      "text/plain": [
       "True"
      ]
     },
     "execution_count": 73,
     "metadata": {},
     "output_type": "execute_result"
    }
   ],
   "source": [
    "a != b"
   ]
  },
  {
   "cell_type": "code",
   "execution_count": 74,
   "id": "886a3b37-99c5-4cfe-8bce-c6ea79aa6479",
   "metadata": {},
   "outputs": [
    {
     "data": {
      "text/plain": [
       "False"
      ]
     },
     "execution_count": 74,
     "metadata": {},
     "output_type": "execute_result"
    }
   ],
   "source": [
    "a == b"
   ]
  },
  {
   "cell_type": "markdown",
   "id": "2eaa5042-d33d-47da-8d44-b064f83ff537",
   "metadata": {},
   "source": [
    "---"
   ]
  },
  {
   "cell_type": "markdown",
   "id": "1c9cf88e-82d2-4d49-a4d5-5f7f3a02d589",
   "metadata": {
    "tags": []
   },
   "source": [
    "## 실습 (3)\n",
    "**<두 리스트를 하나의 딕셔너리로 생성>**\n",
    "1. 명왕성 = pluto 추가하기\n",
    "2. '성'으로 끝나지 않는 키 삭제하기 \n",
    "3. sorted를 이용해서 값 정렬하기"
   ]
  },
  {
   "cell_type": "code",
   "execution_count": 2,
   "id": "366773c9-1a7f-4508-a6c3-737f4481e213",
   "metadata": {},
   "outputs": [],
   "source": [
    "solar_kor = '태양 수성 금성 지구 화성 목성 토성 천왕성 혜왕성'.split()\n",
    "solar_eng = 'sun mercury venus earth mars jupiter saturn uranus neptune'.split()"
   ]
  },
  {
   "cell_type": "code",
   "execution_count": 3,
   "id": "57d0b620-5f47-4b52-b004-959e776f33c7",
   "metadata": {},
   "outputs": [
    {
     "data": {
      "text/plain": [
       "{'태양': 'sun',\n",
       " '수성': 'mercury',\n",
       " '금성': 'venus',\n",
       " '지구': 'earth',\n",
       " '화성': 'mars',\n",
       " '목성': 'jupiter',\n",
       " '토성': 'saturn',\n",
       " '천왕성': 'uranus',\n",
       " '혜왕성': 'neptune'}"
      ]
     },
     "execution_count": 3,
     "metadata": {},
     "output_type": "execute_result"
    }
   ],
   "source": [
    "# (1) range\n",
    "planet = {}\n",
    "for i in range(len(solar_kor)):\n",
    "    planet[solar_kor[i]] = solar_eng[i]\n",
    "planet \n",
    "\n",
    "# (2) zip \n",
    "planet = {}\n",
    "for k, v in zip(solar_kor, solar_eng):\n",
    "     planet[k] = v\n",
    "planet"
   ]
  },
  {
   "cell_type": "code",
   "execution_count": 4,
   "id": "c2d7696e-4a82-4b67-838d-b0d3626f6e4a",
   "metadata": {},
   "outputs": [
    {
     "data": {
      "text/plain": [
       "{'태양': 'sun',\n",
       " '수성': 'mercury',\n",
       " '금성': 'venus',\n",
       " '지구': 'earth',\n",
       " '화성': 'mars',\n",
       " '목성': 'jupiter',\n",
       " '토성': 'saturn',\n",
       " '천왕성': 'uranus',\n",
       " '혜왕성': 'neptune',\n",
       " '명왕성': 'pluto'}"
      ]
     },
     "execution_count": 4,
     "metadata": {},
     "output_type": "execute_result"
    }
   ],
   "source": [
    "# 1. 명왕성 = pluto 추가하기\n",
    "planet['명왕성'] = 'pluto'\n",
    "planet"
   ]
  },
  {
   "cell_type": "code",
   "execution_count": 5,
   "id": "6f859b22-26b8-4d7a-a6ef-c5dd28209679",
   "metadata": {
    "tags": []
   },
   "outputs": [
    {
     "data": {
      "text/plain": [
       "{'수성': 'mercury',\n",
       " '금성': 'venus',\n",
       " '화성': 'mars',\n",
       " '목성': 'jupiter',\n",
       " '토성': 'saturn',\n",
       " '천왕성': 'uranus',\n",
       " '혜왕성': 'neptune',\n",
       " '명왕성': 'pluto'}"
      ]
     },
     "execution_count": 5,
     "metadata": {},
     "output_type": "execute_result"
    }
   ],
   "source": [
    "# 2. '성'으로 끝나지 않는 키 삭제하기\n",
    "# (1) for문\n",
    "for key in list(planet):\n",
    "    if not key.endswith('성'):\n",
    "        del planet[key]\n",
    "        \n",
    "# (2) 리스트 컴프리헨션 후 dict 형 변환\n",
    "dict([(k, v) for k, v in planet.items() if k.endswith('성')])\n",
    "dict([(k, planet[k]) for k in planet if k.endswith('성')])\n",
    "\n",
    "# (3) 딕셔너리 컴프리헨션\n",
    "{k: v for k, v in planet.items() if k.endswith('성')}"
   ]
  },
  {
   "cell_type": "code",
   "execution_count": 92,
   "id": "f5d6d67a-949d-4501-b4b0-a3192b89fe13",
   "metadata": {},
   "outputs": [
    {
     "name": "stdout",
     "output_type": "stream",
     "text": [
      "['금성', '명왕성', '목성', '수성', '천왕성', '토성', '혜왕성', '화성']\n",
      "['jupiter', 'mars', 'mercury', 'neptune', 'pluto', 'saturn', 'uranus', 'venus']\n"
     ]
    }
   ],
   "source": [
    "# 3. sorted를 이용해서 값 정렬하기\n",
    "\n",
    "# key 기준\n",
    "sorted(planet.keys())\n",
    "\n",
    "# value 기준\n",
    "sorted(planet.values())"
   ]
  },
  {
   "cell_type": "markdown",
   "id": "3a86eb57-e828-4b57-9760-cda969bab4e3",
   "metadata": {},
   "source": [
    "---"
   ]
  },
  {
   "cell_type": "markdown",
   "id": "dc47cbab-84d6-45b9-a000-41bb7feaea51",
   "metadata": {},
   "source": [
    "## 4. 딕셔너리 컴프리핸션 \n",
    "- 리스트 컴프리헨션한 뒤 dict 형변환하는 것이 비효율적\n",
    "- 그래서 쓰는 것이 딕셔너리 컴프리헨션"
   ]
  },
  {
   "cell_type": "code",
   "execution_count": 39,
   "id": "d8328652-f562-45a2-b15e-db3c62fc4e9b",
   "metadata": {},
   "outputs": [
    {
     "data": {
      "text/plain": [
       "{'a': 1, 'p': 2, 'l': 1, 'e': 1}"
      ]
     },
     "execution_count": 39,
     "metadata": {},
     "output_type": "execute_result"
    }
   ],
   "source": [
    "letter = 'apple'\n",
    "{ch: letter.count(ch) for ch in letter}"
   ]
  },
  {
   "cell_type": "code",
   "execution_count": 11,
   "id": "2835feaa-de81-4d9f-86f5-745b0e3bde0b",
   "metadata": {},
   "outputs": [
    {
     "name": "stdout",
     "output_type": "stream",
     "text": [
      "{'i': 1, 'o': 4, 'a': 2, 'e': 1}\n",
      "{'i': 1, 'o': 4, 'a': 2, 'e': 1}\n"
     ]
    }
   ],
   "source": [
    "# 단어의 모음세기\n",
    "vowels = 'aeiou'\n",
    "word = 'onomatopoeia'\n",
    "\n",
    "# vowels 순회\n",
    "{v: word.count(v) for v in set(vowels) if v in word}\n",
    "\n",
    "# word 순회\n",
    "{w: word.count(w) for w in set(word) if w in vowels}"
   ]
  },
  {
   "cell_type": "markdown",
   "id": "29c4045c-d8b5-497a-9ebb-c180343da1db",
   "metadata": {},
   "source": [
    "---"
   ]
  },
  {
   "cell_type": "markdown",
   "id": "f8f7c829-a669-44a5-b564-e74ec7233e18",
   "metadata": {},
   "source": [
    "## 5. sorting"
   ]
  },
  {
   "cell_type": "code",
   "execution_count": 12,
   "id": "1570077e-99fb-4afb-978f-fd3e3573b16e",
   "metadata": {},
   "outputs": [
    {
     "data": {
      "text/plain": [
       "['금성', '명왕성', '목성', '수성', '천왕성', '토성', '혜왕성', '화성']"
      ]
     },
     "execution_count": 12,
     "metadata": {},
     "output_type": "execute_result"
    }
   ],
   "source": [
    "# sorted(): 키만 나옴\n",
    "sorted(planet)"
   ]
  },
  {
   "cell_type": "code",
   "execution_count": 13,
   "id": "0b866384-1ca7-418c-b2da-8f96f16f3b7d",
   "metadata": {},
   "outputs": [
    {
     "data": {
      "text/plain": [
       "[('금성', 'venus'),\n",
       " ('명왕성', 'pluto'),\n",
       " ('목성', 'jupiter'),\n",
       " ('수성', 'mercury'),\n",
       " ('천왕성', 'uranus'),\n",
       " ('토성', 'saturn'),\n",
       " ('혜왕성', 'neptune'),\n",
       " ('화성', 'mars')]"
      ]
     },
     "execution_count": 13,
     "metadata": {},
     "output_type": "execute_result"
    }
   ],
   "source": [
    "# sorted(.items()): 둘 다 나옴\n",
    "sorted(planet.items())"
   ]
  },
  {
   "cell_type": "code",
   "execution_count": 15,
   "id": "c5f1b37f-dc42-4e9e-85b4-ac91c4a99bb3",
   "metadata": {},
   "outputs": [
    {
     "data": {
      "text/plain": [
       "[('금성', 'venus'),\n",
       " ('명왕성', 'pluto'),\n",
       " ('목성', 'jupiter'),\n",
       " ('수성', 'mercury'),\n",
       " ('천왕성', 'uranus'),\n",
       " ('토성', 'saturn'),\n",
       " ('혜왕성', 'neptune'),\n",
       " ('화성', 'mars')]"
      ]
     },
     "execution_count": 15,
     "metadata": {},
     "output_type": "execute_result"
    }
   ],
   "source": [
    "def fx(x):\n",
    "    return x[0]\n",
    "# 나만의 함수를 정의하여 사용한다.\n",
    "# 0은 key 기준, 1은 value 기준으로 정렬\n",
    "\n",
    "sorted(planet.items(), key=fx)"
   ]
  },
  {
   "cell_type": "code",
   "execution_count": 16,
   "id": "14badf8c-1045-4383-83eb-0e3fd14125ba",
   "metadata": {},
   "outputs": [
    {
     "data": {
      "text/plain": [
       "[('목성', 'jupiter'),\n",
       " ('화성', 'mars'),\n",
       " ('수성', 'mercury'),\n",
       " ('혜왕성', 'neptune'),\n",
       " ('명왕성', 'pluto'),\n",
       " ('토성', 'saturn'),\n",
       " ('천왕성', 'uranus'),\n",
       " ('금성', 'venus')]"
      ]
     },
     "execution_count": 16,
     "metadata": {},
     "output_type": "execute_result"
    }
   ],
   "source": [
    "# 익명함수 lambda\n",
    "# 함수에서 이름 짓는 부분, 예약어를 빼고 익명으로 함수를 구현\n",
    "# x가 들어왔을 때 x의 1번째를 기준으로 해라\n",
    "sorted(planet.items(), key=lambda x: x[1])"
   ]
  },
  {
   "cell_type": "markdown",
   "id": "e85c61ef-e348-4580-bba8-faacc760fd1e",
   "metadata": {},
   "source": [
    "---\n",
    "---"
   ]
  },
  {
   "cell_type": "markdown",
   "id": "372bc408-20b0-4cc6-8f42-1dcdd8924d28",
   "metadata": {},
   "source": [
    "# Set\n",
    "- 딕셔너리에서 키만 가지고 있는 형태\n",
    "- **\"중복이 없다\"**\n",
    "- **집합**과 동일한 개념 => 교집합, 합집합, 차집합, ...\n",
    "- bag(순서도 중복도 없는 것), 인덱싱도 없다"
   ]
  },
  {
   "cell_type": "code",
   "execution_count": 17,
   "id": "64ddc4c2-ced3-487a-ba62-b5ff6d2e26bc",
   "metadata": {},
   "outputs": [
    {
     "data": {
      "text/plain": [
       "set()"
      ]
     },
     "execution_count": 17,
     "metadata": {},
     "output_type": "execute_result"
    }
   ],
   "source": [
    "# 빈 set 만드는 방법: set()\n",
    "empty = set()\n",
    "empty"
   ]
  },
  {
   "cell_type": "code",
   "execution_count": 18,
   "id": "a2e318e2-57aa-43a6-8edd-09c589871df9",
   "metadata": {},
   "outputs": [
    {
     "data": {
      "text/plain": [
       "{1, 2, 3}"
      ]
     },
     "execution_count": 18,
     "metadata": {},
     "output_type": "execute_result"
    }
   ],
   "source": [
    "# 값이 있는 set 만드는 방법: {}\n",
    "a = {1, 2, 3}\n",
    "a"
   ]
  },
  {
   "cell_type": "code",
   "execution_count": 21,
   "id": "3cc101ac-483e-4444-b159-aaed63b8afd0",
   "metadata": {},
   "outputs": [
    {
     "data": {
      "text/plain": [
       "{1, 2, 3}"
      ]
     },
     "execution_count": 21,
     "metadata": {},
     "output_type": "execute_result"
    }
   ],
   "source": [
    "# 값이 있는 set 만드는 방법: set(()), set([])\n",
    "# 선언 = 형변환 방법 동일\n",
    "a = set((1, 2, 3)) \n",
    "a\n",
    "# 시퀀스이기 때문에 튜플이나 리스트로 묶어주고 넣어야 한다.\n",
    "# a = set(1, 2, 3)로 하면 오류 발생"
   ]
  },
  {
   "cell_type": "code",
   "execution_count": 22,
   "id": "e6000f10-f5ff-4bfe-bb21-9163c509e389",
   "metadata": {},
   "outputs": [
    {
     "data": {
      "text/plain": [
       "{1, 2, 3, 4}"
      ]
     },
     "execution_count": 22,
     "metadata": {},
     "output_type": "execute_result"
    }
   ],
   "source": [
    "# 추가: .add()\n",
    "a.add(4)\n",
    "a"
   ]
  },
  {
   "cell_type": "code",
   "execution_count": 23,
   "id": "77fa3875-a580-4bc6-bc27-b5147fd397da",
   "metadata": {},
   "outputs": [
    {
     "data": {
      "text/plain": [
       "{1, 2, 3}"
      ]
     },
     "execution_count": 23,
     "metadata": {},
     "output_type": "execute_result"
    }
   ],
   "source": [
    "# 삭제: .remove()\n",
    "a.remove(4)\n",
    "a"
   ]
  },
  {
   "cell_type": "markdown",
   "id": "7a739737-34ae-4d32-98cd-2af76ab02d09",
   "metadata": {},
   "source": [
    "---"
   ]
  },
  {
   "cell_type": "markdown",
   "id": "2ccb1eb7-b626-4f4f-9af4-bce4b6daacf2",
   "metadata": {},
   "source": [
    "## 실습\n",
    "1. 보드카가 포함된 술 출력하기\n",
    "2. 보드카는 있지만 cream, vermouth가 없는 술 출력하기"
   ]
  },
  {
   "cell_type": "code",
   "execution_count": 25,
   "id": "84945e0e-60da-4701-9bb3-110689b4b9f9",
   "metadata": {},
   "outputs": [],
   "source": [
    "drinks = {\n",
    "    'martini': {'vodka', 'vermouth'},\n",
    "    'black russian': {'vodka', 'kahlua'},\n",
    "    'white russian': {'cream', 'kahlua', 'vodka'},\n",
    "    'manhattan': {'rye', 'vermouth', 'bitters'},\n",
    "    'screwdriver': {'orange juice', 'vodka'}\n",
    "}"
   ]
  },
  {
   "cell_type": "code",
   "execution_count": 26,
   "id": "c2e52acc-090e-4ede-aed2-37cd761bede7",
   "metadata": {},
   "outputs": [
    {
     "name": "stdout",
     "output_type": "stream",
     "text": [
      "martini\n",
      "black russian\n",
      "white russian\n",
      "screwdriver\n"
     ]
    }
   ],
   "source": [
    "# 1. 보드카가 포함된 술 출력하기\n",
    "for k, v in drinks.items():\n",
    "    if 'vodka' in v:\n",
    "        print(k)"
   ]
  },
  {
   "cell_type": "code",
   "execution_count": 31,
   "id": "63dd1415-02ee-45ca-8238-a042becd5061",
   "metadata": {},
   "outputs": [
    {
     "name": "stdout",
     "output_type": "stream",
     "text": [
      "black russian\n",
      "screwdriver\n"
     ]
    }
   ],
   "source": [
    "# 2-1. 보드카는 있지만 cream, vermouth가 없는 술 출력하기\n",
    "for k, v in drinks.items():\n",
    "    if 'vodka' in v and not ('cream' in v or 'vermouth' in v):\n",
    "            print(k)"
   ]
  },
  {
   "cell_type": "markdown",
   "id": "ba8d2c33-0d10-45d6-a3f4-2ef0ae472782",
   "metadata": {},
   "source": [
    "---"
   ]
  },
  {
   "cell_type": "code",
   "execution_count": 32,
   "id": "5d0cd3cc-4858-4355-b112-adb5afffd91a",
   "metadata": {},
   "outputs": [],
   "source": [
    "a = {1, 2, 3}\n",
    "b = {2, 3, 4}"
   ]
  },
  {
   "cell_type": "code",
   "execution_count": 33,
   "id": "a0e8289a-ccd6-44f0-8247-763bf8e8feeb",
   "metadata": {},
   "outputs": [
    {
     "data": {
      "text/plain": [
       "{2, 3}"
      ]
     },
     "execution_count": 33,
     "metadata": {},
     "output_type": "execute_result"
    }
   ],
   "source": [
    "# 교집합 | intersection\n",
    "a.intersection(b)\n",
    "a & b"
   ]
  },
  {
   "cell_type": "code",
   "execution_count": 78,
   "id": "14e084e5-6289-435e-8e61-226addb57f56",
   "metadata": {},
   "outputs": [
    {
     "data": {
      "text/plain": [
       "{1, 2, 3, 4}"
      ]
     },
     "execution_count": 78,
     "metadata": {},
     "output_type": "execute_result"
    }
   ],
   "source": [
    "# 합집합 | union\n",
    "a.union(b)\n",
    "a | b"
   ]
  },
  {
   "cell_type": "code",
   "execution_count": 34,
   "id": "a0c2163a-abe1-4f31-8c9e-93a99206d04b",
   "metadata": {},
   "outputs": [
    {
     "data": {
      "text/plain": [
       "({1}, {4})"
      ]
     },
     "execution_count": 34,
     "metadata": {},
     "output_type": "execute_result"
    }
   ],
   "source": [
    "# 차집합 | differenceㄱ\n",
    "# 방향이 존재!\n",
    "a.difference(b)\n",
    "a - b, b - a"
   ]
  },
  {
   "cell_type": "code",
   "execution_count": 35,
   "id": "d0c56ccd-7b57-4970-9849-95ac83b3155b",
   "metadata": {},
   "outputs": [
    {
     "name": "stdout",
     "output_type": "stream",
     "text": [
      "black russian\n",
      "screwdriver\n"
     ]
    }
   ],
   "source": [
    "# 2-2. set의 교집합을 이용하여, 보드카는 있지만 cream, vermouth가 없는 술 출력하기\n",
    "for k, v in drinks.items():\n",
    "    if 'vodka' in v and not v & {'cream', 'vermouth'}:\n",
    "            print(k)"
   ]
  },
  {
   "cell_type": "code",
   "execution_count": 36,
   "id": "cbde4d5c-5ffa-4796-b2c3-743fd9fa414f",
   "metadata": {},
   "outputs": [
    {
     "data": {
      "text/plain": [
       "{0, 1, 2, 3, 4}"
      ]
     },
     "execution_count": 36,
     "metadata": {},
     "output_type": "execute_result"
    }
   ],
   "source": [
    "# set comprehension\n",
    "{s for s in range(5)}"
   ]
  },
  {
   "cell_type": "code",
   "execution_count": 37,
   "id": "c39972f4-1ce2-4621-b22c-65bb78dfb486",
   "metadata": {},
   "outputs": [
    {
     "data": {
      "text/plain": [
       "frozenset({1, 2})"
      ]
     },
     "execution_count": 37,
     "metadata": {},
     "output_type": "execute_result"
    }
   ],
   "source": [
    "# frozenset | 가변 객체를 불변 객체로 만들어 주는 것\n",
    "set([1, 2])\n",
    "frozenset([1, 2])"
   ]
  },
  {
   "cell_type": "markdown",
   "id": "92c59004-105a-4f29-a5fa-059a35ef87f9",
   "metadata": {},
   "source": [
    "---\n",
    "---"
   ]
  },
  {
   "cell_type": "markdown",
   "id": "6fdcae58-7c2c-4c0b-8bcc-a16c3308b9ea",
   "metadata": {},
   "source": [
    "# Project\n",
    "- 테스크 해결\n",
    "- 수업 30분 동안 랜덤 코드 설명\n",
    "- 수요일 자정까지 제출"
   ]
  },
  {
   "cell_type": "code",
   "execution_count": 39,
   "id": "ef78ef84-a40e-4621-861f-0877f8297552",
   "metadata": {
    "collapsed": true,
    "jupyter": {
     "outputs_hidden": true
    },
    "tags": []
   },
   "outputs": [
    {
     "name": "stdout",
     "output_type": "stream",
     "text": [
      "Requirement already satisfied: pylint in c:\\programdata\\anaconda3\\lib\\site-packages (2.9.6)\n",
      "Requirement already satisfied: mccabe<0.7,>=0.6 in c:\\programdata\\anaconda3\\lib\\site-packages (from pylint) (0.6.1)\n",
      "Requirement already satisfied: isort<6,>=4.2.5 in c:\\programdata\\anaconda3\\lib\\site-packages (from pylint) (5.9.3)\n",
      "Requirement already satisfied: astroid<2.7,>=2.6.5 in c:\\programdata\\anaconda3\\lib\\site-packages (from pylint) (2.6.6)\n",
      "Requirement already satisfied: toml>=0.7.1 in c:\\programdata\\anaconda3\\lib\\site-packages (from pylint) (0.10.2)\n",
      "Requirement already satisfied: colorama in c:\\programdata\\anaconda3\\lib\\site-packages (from pylint) (0.4.4)\n",
      "Requirement already satisfied: setuptools>=20.0 in c:\\programdata\\anaconda3\\lib\\site-packages (from astroid<2.7,>=2.6.5->pylint) (58.0.4)\n",
      "Requirement already satisfied: wrapt<1.13,>=1.11 in c:\\programdata\\anaconda3\\lib\\site-packages (from astroid<2.7,>=2.6.5->pylint) (1.12.1)\n",
      "Requirement already satisfied: lazy-object-proxy>=1.4.0 in c:\\programdata\\anaconda3\\lib\\site-packages (from astroid<2.7,>=2.6.5->pylint) (1.6.0)\n",
      "************* Module example.py\n",
      "example.py:1:0: F0001: No module named example.py (fatal)\n"
     ]
    }
   ],
   "source": [
    "# 코드 오류 찾고, 점수를 알려줌\n",
    "!pip install pylint\n",
    "!pylint example.py"
   ]
  },
  {
   "cell_type": "code",
   "execution_count": null,
   "id": "3c054eac-4816-4c57-bb47-7ae3c1bce5b4",
   "metadata": {},
   "outputs": [],
   "source": [
    "# 독스트링 점수\n",
    "!pip install pydocstyle\n",
    "!pydocstyle example.py"
   ]
  }
 ],
 "metadata": {
  "kernelspec": {
   "display_name": "Python 3 (ipykernel)",
   "language": "python",
   "name": "python3"
  },
  "language_info": {
   "codemirror_mode": {
    "name": "ipython",
    "version": 3
   },
   "file_extension": ".py",
   "mimetype": "text/x-python",
   "name": "python",
   "nbconvert_exporter": "python",
   "pygments_lexer": "ipython3",
   "version": "3.9.7"
  }
 },
 "nbformat": 4,
 "nbformat_minor": 5
}
